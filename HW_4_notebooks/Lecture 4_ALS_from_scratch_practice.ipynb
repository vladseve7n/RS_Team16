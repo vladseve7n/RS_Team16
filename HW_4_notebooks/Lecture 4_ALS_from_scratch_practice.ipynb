{
 "cells": [
  {
   "cell_type": "code",
   "execution_count": 1,
   "metadata": {},
   "outputs": [],
   "source": [
    "import pandas as pd\n",
    "import numpy as np"
   ]
  },
  {
   "cell_type": "markdown",
   "metadata": {},
   "source": [
    "$$\n",
    "\\begin{aligned}\n",
    "&\\frac{\\partial L}{\\partial p_u}=0 \\Rightarrow p_u=\\left(Q^TC_u Q+\\lambda I\\right)^{-1} Q^T C_u \\phi_u \\\\\n",
    "&\\frac{\\partial L}{\\partial q_i}=0 \\Rightarrow q_i=\\left(P^TC_i P+\\lambda I\\right)^{-1} P^T C_i \\phi_i\n",
    "\\end{aligned}\n",
    "$$"
   ]
  },
  {
   "cell_type": "markdown",
   "metadata": {},
   "source": [
    "$$\n",
    "\\begin{aligned}\n",
    "&\\frac{\\partial L}{\\partial p_u}=0 \\Rightarrow p_u=\\left(Q^T Q+Q^T\\left(C_u-I\\right) Q+\\lambda I\\right)^{-1} Q^T C_u \\phi_u \\\\\n",
    "&\\frac{\\partial L}{\\partial q_i}=0 \\Rightarrow q_i=\\left(P^T P+P^T\\left(C_i-I\\right) P+\\lambda I\\right)^{-1} P^T C_i \\phi_i\n",
    "\\end{aligned}\n",
    "$$"
   ]
  },
  {
   "cell_type": "markdown",
   "metadata": {},
   "source": [
    "$$ L\\left(p_u, q_i, r_{u i}\\right)=\\sum_{u, i \\in R} c_{u i} \\cdot\\left(\\phi_{u i}-\\langle p_u, q_i \\rangle\\right)^2=\\sum_{u, i \\in R}\\left(1+\\alpha r_{u i}\\right)\\left(\\phi_{u i}-\\langle p_u, q_i \\rangle\\right)^2 $$"
   ]
  },
  {
   "cell_type": "code",
   "execution_count": 11,
   "metadata": {},
   "outputs": [],
   "source": [
    "class ImplicitALS:\n",
    "    def __init__(self, R, k=3, a=40, lambd=10):\n",
    "        self.lambd = lambd\n",
    "        self.k = k\n",
    "        self.a = a\n",
    "        self.m, self.n = R.shape\n",
    "        self.P = np.random.rand(self.m, self.k)\n",
    "        self.Q = np.random.rand(self.n, self.k)\n",
    "        self.phi = np.where(R > 0, 1, 0)\n",
    "        self.C = 1 + a * R\n",
    "        self.loss = []\n",
    "\n",
    "    def train(self, n_step=10):\n",
    "        l2_reg = self.lambd * np.identity(self.k)\n",
    "        for _ in range(n_step):\n",
    "            \n",
    "            # fix P, update Q\n",
    "            PtP = self.P.T.dot(self.P)\n",
    "            \n",
    "            for i in range(self.n):\n",
    "                Ci = np.diag(self.C[:, i])\n",
    "                Wi = PtP + self.P.T.dot(Ci - np.identity(self.m)).dot(self.P) + l2_reg\n",
    "                self.Q[i] = np.linalg.inv(Wi).dot(self.P.T).dot(Ci).dot(self.phi[:, i])\n",
    "                \n",
    "            # fix Q, update P\n",
    "            QtQ = self.Q.T.dot(self.Q)\n",
    "            for u in range(self.m):\n",
    "                Cu = np.diag(self.C[u, :])\n",
    "                Wu = QtQ + self.Q.T.dot(Cu - np.identity(self.n)).dot(self.Q) + l2_reg\n",
    "                self.P[u] = np.linalg.inv(Wu).dot(self.Q.T).dot(Cu).dot(self.phi[u, :])\n",
    "                \n",
    "            loss = (self.C*(self.phi - self.P.dot(self.Q.T))**2).sum()\n",
    "            l2 = (self.P ** 2).sum() + (self.Q ** 2).sum()\n",
    "            self.loss.append(loss + self.lambd * l2)\n",
    "            \n",
    "\n",
    "    def predict(self, u, i):\n",
    "        return self.P[u].dot(self.Q[i])"
   ]
  },
  {
   "cell_type": "code",
   "execution_count": 5,
   "metadata": {},
   "outputs": [],
   "source": [
    "np.random.seed(42)"
   ]
  },
  {
   "cell_type": "code",
   "execution_count": 6,
   "metadata": {},
   "outputs": [],
   "source": [
    "stars = np.arange(6)\n",
    "p = np.array([10, 1, 1, 1, 1, 1])\n",
    "m = 5\n",
    "n = 10\n",
    "\n",
    "ratings = np.random.choice(stars, size=m*n, p=p / p.sum()).reshape((m, n))"
   ]
  },
  {
   "cell_type": "code",
   "execution_count": 7,
   "metadata": {},
   "outputs": [
    {
     "data": {
      "text/plain": [
       "array([[0, 5, 1, 0, 0, 0, 0, 3, 0, 1],\n",
       "       [0, 5, 3, 0, 0, 0, 0, 0, 0, 0],\n",
       "       [0, 0, 0, 0, 0, 2, 0, 0, 0, 0],\n",
       "       [0, 0, 0, 5, 5, 3, 0, 0, 1, 0],\n",
       "       [0, 0, 0, 4, 0, 0, 0, 0, 0, 0]])"
      ]
     },
     "execution_count": 7,
     "metadata": {},
     "output_type": "execute_result"
    }
   ],
   "source": [
    "ratings"
   ]
  },
  {
   "cell_type": "code",
   "execution_count": 8,
   "metadata": {},
   "outputs": [
    {
     "data": {
      "text/plain": [
       "(5, 10)"
      ]
     },
     "execution_count": 8,
     "metadata": {},
     "output_type": "execute_result"
    }
   ],
   "source": [
    "ratings.shape"
   ]
  },
  {
   "cell_type": "code",
   "execution_count": 18,
   "metadata": {},
   "outputs": [],
   "source": [
    "als = ImplicitALS(R=ratings, k=20)"
   ]
  },
  {
   "cell_type": "code",
   "execution_count": 19,
   "metadata": {},
   "outputs": [],
   "source": [
    "als.train()"
   ]
  },
  {
   "cell_type": "code",
   "execution_count": 20,
   "metadata": {},
   "outputs": [
    {
     "data": {
      "text/plain": [
       "[211.94569147839772,\n",
       " 169.06820382523924,\n",
       " 152.8085030072954,\n",
       " 143.32343774545967,\n",
       " 137.29155772090473,\n",
       " 133.25237275557507,\n",
       " 130.44741071099253,\n",
       " 128.44872519455436,\n",
       " 126.99819381403191,\n",
       " 125.93138903469803]"
      ]
     },
     "execution_count": 20,
     "metadata": {},
     "output_type": "execute_result"
    }
   ],
   "source": [
    "als.loss"
   ]
  },
  {
   "cell_type": "code",
   "execution_count": 22,
   "metadata": {},
   "outputs": [
    {
     "data": {
      "text/plain": [
       "(10, 20)"
      ]
     },
     "execution_count": 22,
     "metadata": {},
     "output_type": "execute_result"
    }
   ],
   "source": [
    "als.Q.shape"
   ]
  },
  {
   "cell_type": "code",
   "execution_count": 16,
   "metadata": {},
   "outputs": [
    {
     "data": {
      "text/plain": [
       "array([[-0.02045395,  0.54534051,  0.9803006 ],\n",
       "       [ 0.14683239,  0.79106706,  0.58534218],\n",
       "       [ 0.39765444, -0.58765716,  0.53592615],\n",
       "       [ 1.01651946, -0.46383274,  0.32479014],\n",
       "       [ 0.89263978,  0.05379664, -0.17020861]])"
      ]
     },
     "execution_count": 16,
     "metadata": {},
     "output_type": "execute_result"
    }
   ],
   "source": [
    "als.P"
   ]
  },
  {
   "cell_type": "code",
   "execution_count": null,
   "metadata": {},
   "outputs": [],
   "source": []
  },
  {
   "cell_type": "code",
   "execution_count": 17,
   "metadata": {},
   "outputs": [
    {
     "data": {
      "text/plain": [
       "array([ 0.        ,  0.05509913,  0.05033573,  0.94034237,  0.5895627 ,\n",
       "        0.32389258,  0.        , -0.1207522 ,  0.51100916, -0.1067449 ])"
      ]
     },
     "execution_count": 17,
     "metadata": {},
     "output_type": "execute_result"
    }
   ],
   "source": [
    "als.P[-1, :].dot(als.Q.T)"
   ]
  },
  {
   "cell_type": "code",
   "execution_count": null,
   "metadata": {},
   "outputs": [],
   "source": []
  }
 ],
 "metadata": {
  "kernelspec": {
   "display_name": "lecture_4",
   "language": "python",
   "name": "lecture_4"
  },
  "language_info": {
   "codemirror_mode": {
    "name": "ipython",
    "version": 3
   },
   "file_extension": ".py",
   "mimetype": "text/x-python",
   "name": "python",
   "nbconvert_exporter": "python",
   "pygments_lexer": "ipython3",
   "version": "3.7.9"
  }
 },
 "nbformat": 4,
 "nbformat_minor": 4
}
