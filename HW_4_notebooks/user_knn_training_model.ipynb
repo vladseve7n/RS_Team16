{
 "cells": [
  {
   "cell_type": "code",
   "execution_count": 1,
   "id": "22a8b370",
   "metadata": {},
   "outputs": [],
   "source": [
    "import pandas as pd\n",
    "import numpy as np\n",
    "\n",
    "# 0.3.0\n",
    "from rectools import Columns\n",
    "from rectools.dataset import Dataset"
   ]
  },
  {
   "cell_type": "markdown",
   "id": "e70fc1d4",
   "metadata": {},
   "source": [
    "## Getting preprocess dataset"
   ]
  },
  {
   "cell_type": "code",
   "execution_count": 2,
   "id": "92f64fd7",
   "metadata": {},
   "outputs": [],
   "source": [
    "interactions = pd.read_csv('data/interactions.csv', index_col=0)\n",
    "users = pd.read_csv('data/users.csv', index_col=0)\n",
    "items = pd.read_csv('data/items.csv', index_col=0)\n",
    "interactions['datetime'] = pd.to_datetime(interactions['datetime'])"
   ]
  },
  {
   "cell_type": "code",
   "execution_count": 3,
   "id": "aa860721",
   "metadata": {},
   "outputs": [
    {
     "data": {
      "text/html": [
       "<div>\n",
       "<style scoped>\n",
       "    .dataframe tbody tr th:only-of-type {\n",
       "        vertical-align: middle;\n",
       "    }\n",
       "\n",
       "    .dataframe tbody tr th {\n",
       "        vertical-align: top;\n",
       "    }\n",
       "\n",
       "    .dataframe thead th {\n",
       "        text-align: right;\n",
       "    }\n",
       "</style>\n",
       "<table border=\"1\" class=\"dataframe\">\n",
       "  <thead>\n",
       "    <tr style=\"text-align: right;\">\n",
       "      <th></th>\n",
       "      <th>user_id</th>\n",
       "      <th>item_id</th>\n",
       "      <th>datetime</th>\n",
       "      <th>weight</th>\n",
       "      <th>watched_pct</th>\n",
       "    </tr>\n",
       "  </thead>\n",
       "  <tbody>\n",
       "    <tr>\n",
       "      <th>0</th>\n",
       "      <td>176549</td>\n",
       "      <td>9506</td>\n",
       "      <td>2021-05-11</td>\n",
       "      <td>4250</td>\n",
       "      <td>72.0</td>\n",
       "    </tr>\n",
       "    <tr>\n",
       "      <th>1</th>\n",
       "      <td>699317</td>\n",
       "      <td>1659</td>\n",
       "      <td>2021-05-29</td>\n",
       "      <td>8317</td>\n",
       "      <td>100.0</td>\n",
       "    </tr>\n",
       "    <tr>\n",
       "      <th>2</th>\n",
       "      <td>656683</td>\n",
       "      <td>7107</td>\n",
       "      <td>2021-05-09</td>\n",
       "      <td>10</td>\n",
       "      <td>0.0</td>\n",
       "    </tr>\n",
       "  </tbody>\n",
       "</table>\n",
       "</div>"
      ],
      "text/plain": [
       "   user_id  item_id   datetime  weight  watched_pct\n",
       "0   176549     9506 2021-05-11    4250         72.0\n",
       "1   699317     1659 2021-05-29    8317        100.0\n",
       "2   656683     7107 2021-05-09      10          0.0"
      ]
     },
     "execution_count": 3,
     "metadata": {},
     "output_type": "execute_result"
    }
   ],
   "source": [
    "interactions.head(3)"
   ]
  },
  {
   "cell_type": "code",
   "execution_count": 4,
   "id": "1b9a7d37",
   "metadata": {},
   "outputs": [
    {
     "data": {
      "text/html": [
       "<div>\n",
       "<style scoped>\n",
       "    .dataframe tbody tr th:only-of-type {\n",
       "        vertical-align: middle;\n",
       "    }\n",
       "\n",
       "    .dataframe tbody tr th {\n",
       "        vertical-align: top;\n",
       "    }\n",
       "\n",
       "    .dataframe thead th {\n",
       "        text-align: right;\n",
       "    }\n",
       "</style>\n",
       "<table border=\"1\" class=\"dataframe\">\n",
       "  <thead>\n",
       "    <tr style=\"text-align: right;\">\n",
       "      <th></th>\n",
       "      <th>user_id</th>\n",
       "      <th>age</th>\n",
       "      <th>income</th>\n",
       "      <th>sex</th>\n",
       "      <th>kids_flg</th>\n",
       "    </tr>\n",
       "  </thead>\n",
       "  <tbody>\n",
       "    <tr>\n",
       "      <th>0</th>\n",
       "      <td>973171</td>\n",
       "      <td>age_25_34</td>\n",
       "      <td>income_60_90</td>\n",
       "      <td>М</td>\n",
       "      <td>1</td>\n",
       "    </tr>\n",
       "    <tr>\n",
       "      <th>1</th>\n",
       "      <td>962099</td>\n",
       "      <td>age_18_24</td>\n",
       "      <td>income_20_40</td>\n",
       "      <td>М</td>\n",
       "      <td>0</td>\n",
       "    </tr>\n",
       "    <tr>\n",
       "      <th>2</th>\n",
       "      <td>1047345</td>\n",
       "      <td>age_45_54</td>\n",
       "      <td>income_40_60</td>\n",
       "      <td>Ж</td>\n",
       "      <td>0</td>\n",
       "    </tr>\n",
       "  </tbody>\n",
       "</table>\n",
       "</div>"
      ],
      "text/plain": [
       "   user_id        age        income sex  kids_flg\n",
       "0   973171  age_25_34  income_60_90   М         1\n",
       "1   962099  age_18_24  income_20_40   М         0\n",
       "2  1047345  age_45_54  income_40_60   Ж         0"
      ]
     },
     "execution_count": 4,
     "metadata": {},
     "output_type": "execute_result"
    }
   ],
   "source": [
    "users.head(3)"
   ]
  },
  {
   "cell_type": "code",
   "execution_count": 5,
   "id": "e0019269",
   "metadata": {
    "scrolled": true
   },
   "outputs": [
    {
     "data": {
      "text/html": [
       "<div>\n",
       "<style scoped>\n",
       "    .dataframe tbody tr th:only-of-type {\n",
       "        vertical-align: middle;\n",
       "    }\n",
       "\n",
       "    .dataframe tbody tr th {\n",
       "        vertical-align: top;\n",
       "    }\n",
       "\n",
       "    .dataframe thead th {\n",
       "        text-align: right;\n",
       "    }\n",
       "</style>\n",
       "<table border=\"1\" class=\"dataframe\">\n",
       "  <thead>\n",
       "    <tr style=\"text-align: right;\">\n",
       "      <th></th>\n",
       "      <th>item_id</th>\n",
       "      <th>content_type</th>\n",
       "      <th>title</th>\n",
       "      <th>title_orig</th>\n",
       "      <th>release_year</th>\n",
       "      <th>genres</th>\n",
       "      <th>countries</th>\n",
       "      <th>for_kids</th>\n",
       "      <th>age_rating</th>\n",
       "      <th>studios</th>\n",
       "      <th>directors</th>\n",
       "      <th>actors</th>\n",
       "      <th>description</th>\n",
       "      <th>keywords</th>\n",
       "    </tr>\n",
       "  </thead>\n",
       "  <tbody>\n",
       "    <tr>\n",
       "      <th>0</th>\n",
       "      <td>10711</td>\n",
       "      <td>film</td>\n",
       "      <td>Поговори с ней</td>\n",
       "      <td>Hable con ella</td>\n",
       "      <td>2002.0</td>\n",
       "      <td>драмы, зарубежные, детективы, мелодрамы</td>\n",
       "      <td>Испания</td>\n",
       "      <td>NaN</td>\n",
       "      <td>16.0</td>\n",
       "      <td>NaN</td>\n",
       "      <td>Педро Альмодовар</td>\n",
       "      <td>Адольфо Фернандес, Ана Фернандес, Дарио Гранди...</td>\n",
       "      <td>Мелодрама легендарного Педро Альмодовара «Пого...</td>\n",
       "      <td>Поговори, ней, 2002, Испания, друзья, любовь, ...</td>\n",
       "    </tr>\n",
       "    <tr>\n",
       "      <th>1</th>\n",
       "      <td>2508</td>\n",
       "      <td>film</td>\n",
       "      <td>Голые перцы</td>\n",
       "      <td>Search Party</td>\n",
       "      <td>2014.0</td>\n",
       "      <td>зарубежные, приключения, комедии</td>\n",
       "      <td>США</td>\n",
       "      <td>NaN</td>\n",
       "      <td>16.0</td>\n",
       "      <td>NaN</td>\n",
       "      <td>Скот Армстронг</td>\n",
       "      <td>Адам Палли, Брайан Хаски, Дж.Б. Смув, Джейсон ...</td>\n",
       "      <td>Уморительная современная комедия на популярную...</td>\n",
       "      <td>Голые, перцы, 2014, США, друзья, свадьбы, прео...</td>\n",
       "    </tr>\n",
       "    <tr>\n",
       "      <th>2</th>\n",
       "      <td>10716</td>\n",
       "      <td>film</td>\n",
       "      <td>Тактическая сила</td>\n",
       "      <td>Tactical Force</td>\n",
       "      <td>2011.0</td>\n",
       "      <td>криминал, зарубежные, триллеры, боевики, комедии</td>\n",
       "      <td>Канада</td>\n",
       "      <td>NaN</td>\n",
       "      <td>16.0</td>\n",
       "      <td>NaN</td>\n",
       "      <td>Адам П. Калтраро</td>\n",
       "      <td>Адриан Холмс, Даррен Шалави, Джерри Вассерман,...</td>\n",
       "      <td>Профессиональный рестлер Стив Остин («Все или ...</td>\n",
       "      <td>Тактическая, сила, 2011, Канада, бандиты, ганг...</td>\n",
       "    </tr>\n",
       "  </tbody>\n",
       "</table>\n",
       "</div>"
      ],
      "text/plain": [
       "   item_id content_type             title      title_orig  release_year  \\\n",
       "0    10711         film    Поговори с ней  Hable con ella        2002.0   \n",
       "1     2508         film       Голые перцы    Search Party        2014.0   \n",
       "2    10716         film  Тактическая сила  Tactical Force        2011.0   \n",
       "\n",
       "                                             genres countries  for_kids  \\\n",
       "0           драмы, зарубежные, детективы, мелодрамы   Испания       NaN   \n",
       "1                  зарубежные, приключения, комедии       США       NaN   \n",
       "2  криминал, зарубежные, триллеры, боевики, комедии    Канада       NaN   \n",
       "\n",
       "   age_rating studios         directors  \\\n",
       "0        16.0     NaN  Педро Альмодовар   \n",
       "1        16.0     NaN    Скот Армстронг   \n",
       "2        16.0     NaN  Адам П. Калтраро   \n",
       "\n",
       "                                              actors  \\\n",
       "0  Адольфо Фернандес, Ана Фернандес, Дарио Гранди...   \n",
       "1  Адам Палли, Брайан Хаски, Дж.Б. Смув, Джейсон ...   \n",
       "2  Адриан Холмс, Даррен Шалави, Джерри Вассерман,...   \n",
       "\n",
       "                                         description  \\\n",
       "0  Мелодрама легендарного Педро Альмодовара «Пого...   \n",
       "1  Уморительная современная комедия на популярную...   \n",
       "2  Профессиональный рестлер Стив Остин («Все или ...   \n",
       "\n",
       "                                            keywords  \n",
       "0  Поговори, ней, 2002, Испания, друзья, любовь, ...  \n",
       "1  Голые, перцы, 2014, США, друзья, свадьбы, прео...  \n",
       "2  Тактическая, сила, 2011, Канада, бандиты, ганг...  "
      ]
     },
     "execution_count": 5,
     "metadata": {},
     "output_type": "execute_result"
    }
   ],
   "source": [
    "items.head(3)"
   ]
  },
  {
   "cell_type": "markdown",
   "id": "9bb4417d",
   "metadata": {},
   "source": [
    "Import prepared class for UserKNN model training"
   ]
  },
  {
   "cell_type": "code",
   "execution_count": 6,
   "id": "9bf060c7",
   "metadata": {},
   "outputs": [],
   "source": [
    "from UserKNN import UserKnn"
   ]
  },
  {
   "cell_type": "markdown",
   "id": "9da69ec7",
   "metadata": {},
   "source": [
    "And then import implicit nn recommenders in the way to test them"
   ]
  },
  {
   "cell_type": "code",
   "execution_count": 7,
   "id": "00a44f27",
   "metadata": {},
   "outputs": [],
   "source": [
    "from implicit.nearest_neighbours import CosineRecommender, TFIDFRecommender, BM25Recommender"
   ]
  },
  {
   "cell_type": "markdown",
   "id": "e6c0c5ab",
   "metadata": {},
   "source": [
    "And download our prepared popular models "
   ]
  },
  {
   "cell_type": "code",
   "execution_count": 8,
   "id": "6285067b",
   "metadata": {},
   "outputs": [],
   "source": [
    "import pickle\n",
    "\n",
    "with open('rectools_datasets/dataset.pickle', 'rb') as handle:\n",
    "    dataset = pickle.load(handle)\n",
    "    \n",
    "with open('rectools_datasets/dataset_pct.pickle', 'rb') as handle:\n",
    "    dataset_pct = pickle.load(handle)\n",
    "\n",
    "with open('pop_models/pop_sum_weight.pickle', 'rb') as handle:\n",
    "    pop_sum_weight = pickle.load(handle)\n",
    "    \n",
    "with open('pop_models/pop_sum_weight_pct.pickle', 'rb') as handle:\n",
    "    pop_sum_weight_pct = pickle.load(handle)\n",
    "    \n",
    "with open('pop_models/pop_n_users.pickle', 'rb') as handle:\n",
    "    pop_n_users = pickle.load(handle)\n",
    "    \n",
    "with open('pop_models/pop_n_interactions.pickle', 'rb') as handle:\n",
    "    pop_n_interactions = pickle.load(handle)"
   ]
  },
  {
   "cell_type": "markdown",
   "id": "bedd2776",
   "metadata": {},
   "source": [
    "### Preparing cross validation to test models"
   ]
  },
  {
   "cell_type": "markdown",
   "id": "657e4005",
   "metadata": {},
   "source": [
    "We will use TimeRangeSplit for CV in the way it is closed to the real world, because we have only historical data to train models in order to predict recos in the future for users"
   ]
  },
  {
   "cell_type": "markdown",
   "id": "e94d7010",
   "metadata": {},
   "source": [
    "So let's understand what range for historical data we have"
   ]
  },
  {
   "cell_type": "code",
   "execution_count": 9,
   "id": "7ba5f6f1",
   "metadata": {},
   "outputs": [
    {
     "name": "stdout",
     "output_type": "stream",
     "text": [
      "min date in interactions: 2021-03-13 00:00:00\n",
      "max date in interactions: 2021-08-22 00:00:00\n",
      "Days in total: 162\n",
      "Weeks in total: 23\n",
      "Month in total: 5\n"
     ]
    }
   ],
   "source": [
    "max_date = interactions['datetime'].max()\n",
    "min_date = interactions['datetime'].min()\n",
    "\n",
    "print(f\"min date in interactions: {min_date}\")\n",
    "print(f\"max date in interactions: {max_date}\")\n",
    "print(f'Days in total: {(max_date - min_date).days}')\n",
    "print(f'Weeks in total: {(max_date - min_date).days // 7}')\n",
    "print(f'Month in total: {(max_date - min_date).days // 30}')"
   ]
  },
  {
   "cell_type": "markdown",
   "id": "89a2b52e",
   "metadata": {},
   "source": [
    "As we can see there are enough month to use them like a fold, so let's make for test last 4 weeks"
   ]
  },
  {
   "cell_type": "code",
   "execution_count": 10,
   "id": "d738fb9e",
   "metadata": {},
   "outputs": [
    {
     "name": "stdout",
     "output_type": "stream",
     "text": [
      "Test fold borders: ['2021-07-18' '2021-07-25']\n"
     ]
    }
   ],
   "source": [
    "n_folds = 1\n",
    "unit = \"W\"\n",
    "n_units = 4\n",
    "periods = n_folds + 1\n",
    "\n",
    "last_date = interactions[Columns.Datetime].max().normalize()\n",
    "start_date = last_date - pd.Timedelta(n_folds * n_units + 1, unit=unit)\n",
    "\n",
    "date_range = pd.date_range(start=start_date, periods=periods, freq=unit, tz=last_date.tz)\n",
    "\n",
    "print(f\"Test fold borders: {date_range.values.astype('datetime64[D]')}\")"
   ]
  },
  {
   "cell_type": "code",
   "execution_count": 11,
   "id": "457f910b",
   "metadata": {},
   "outputs": [],
   "source": [
    "from rectools.model_selection.time_split import TimeRangeSplitter\n",
    "\n",
    "# generator of folds\n",
    "cv = TimeRangeSplitter(\n",
    "    date_range=date_range,\n",
    "    filter_already_seen=True,\n",
    "    filter_cold_items=True,\n",
    "    filter_cold_users=True,\n",
    ")"
   ]
  },
  {
   "cell_type": "code",
   "execution_count": 12,
   "id": "e33ea763",
   "metadata": {},
   "outputs": [
    {
     "name": "stdout",
     "output_type": "stream",
     "text": [
      "Real number of folds: 1\n"
     ]
    }
   ],
   "source": [
    "from rectools.dataset import Interactions\n",
    "\n",
    "# Creating Interactions object in the way to use CV\n",
    "interactions = Interactions(interactions)\n",
    "print(f\"Real number of folds: {cv.get_n_splits(interactions)}\")"
   ]
  },
  {
   "cell_type": "markdown",
   "id": "060c07b0",
   "metadata": {},
   "source": [
    "So let's define models and metrics in the way to make CV"
   ]
  },
  {
   "cell_type": "code",
   "execution_count": 13,
   "id": "841b39dd",
   "metadata": {},
   "outputs": [],
   "source": [
    "from rectools.metrics import Precision, Recall, MeanInvUserFreq, Serendipity, calc_metrics, MAP\n",
    "\n",
    "metrics = {\n",
    "    \"Precision@10\": Precision(k=10),\n",
    "    \"Recall@10\": Recall(k=10),\n",
    "    \"Novelty\": MeanInvUserFreq(k=10),\n",
    "    \"Serendipity\": Serendipity(k=10),\n",
    "    \"MAP@10\": MAP(k=10)\n",
    "}\n",
    "\n",
    "# few simple models to compare\n",
    "models = {\n",
    "    \"cosine_itemknn\": CosineRecommender(),\n",
    "    \"tfidf_itemknn\": TFIDFRecommender(),\n",
    "    \"bm25_itemknn\": BM25Recommender(K=20)\n",
    "}"
   ]
  },
  {
   "cell_type": "markdown",
   "id": "26261797",
   "metadata": {},
   "source": [
    "Let's create features for users and items like in previous notebook"
   ]
  },
  {
   "cell_type": "code",
   "execution_count": 14,
   "id": "630f9d45",
   "metadata": {},
   "outputs": [],
   "source": [
    "from sklearn import preprocessing\n",
    "\n",
    "_, bins = pd.qcut(items[\"release_year\"], 10, retbins=True)\n",
    "year_feature = pd.DataFrame(\n",
    "    {\n",
    "        \"id\": items[\"item_id\"],\n",
    "        \"value\": pd.cut(items[\"release_year\"], bins=bins, labels=bins[:-1]),\n",
    "        \"feature\": \"release_year\",\n",
    "    }\n",
    ")\n",
    "\n",
    "items[\"genre\"] = items[\"genres\"].str.split(\",\")\n",
    "genre_feature = items[[\"item_id\", \"genre\"]].explode(\"genre\")\n",
    "genre_feature.columns = [\"id\", \"value\"]\n",
    "genre_feature[\"feature\"] = \"genre\"\n",
    "\n",
    "age_rating_feature = items[['item_id', 'age_rating']].dropna()\n",
    "age_rating_feature.columns = [\"id\", \"value\"]\n",
    "age_rating_feature['feature'] = 'age_rating'\n",
    "\n",
    "content_type_feature = items[['item_id', 'content_type']].dropna()\n",
    "content_type_feature.columns = [\"id\", \"value\"]\n",
    "content_type_feature['feature'] = 'content_type'\n",
    "\n",
    "item_feat = pd.concat([genre_feature, \n",
    "                       year_feature, \n",
    "                       age_rating_feature,\n",
    "                       content_type_feature])\n",
    "\n",
    "age_feature = users[['user_id', 'age']].dropna()\n",
    "age_feature.columns = [\"id\", \"value\"]\n",
    "age_feature['feature'] = 'age'\n",
    "\n",
    "sex_feature = users[['user_id', 'sex']].dropna()\n",
    "sex_feature.columns = [\"id\", \"value\"]\n",
    "sex_feature['feature'] = 'sex'\n",
    "user_feat = pd.concat([age_feature,\n",
    "                       sex_feature\n",
    "                      ])"
   ]
  },
  {
   "cell_type": "code",
   "execution_count": 15,
   "id": "47b9993e",
   "metadata": {},
   "outputs": [],
   "source": [
    "from rectools.models import ImplicitItemKNNWrapperModel"
   ]
  },
  {
   "cell_type": "code",
   "execution_count": 16,
   "id": "22948120",
   "metadata": {
    "scrolled": true
   },
   "outputs": [
    {
     "name": "stdout",
     "output_type": "stream",
     "text": [
      "cosine_itemknn\n"
     ]
    },
    {
     "data": {
      "application/vnd.jupyter.widget-view+json": {
       "model_id": "529492b5ce9e41049ad3984b6e86996c",
       "version_major": 2,
       "version_minor": 0
      },
      "text/plain": [
       "  0%|          | 0/14928 [00:00<?, ?it/s]"
      ]
     },
     "metadata": {},
     "output_type": "display_data"
    },
    {
     "data": {
      "application/vnd.jupyter.widget-view+json": {
       "model_id": "70542aa02b5b4030abf04d61b7bf14cd",
       "version_major": 2,
       "version_minor": 0
      },
      "text/plain": [
       "  0%|          | 0/687200 [00:00<?, ?it/s]"
      ]
     },
     "metadata": {},
     "output_type": "display_data"
    },
    {
     "name": "stdout",
     "output_type": "stream",
     "text": [
      "{'Precision@10': 0.028536379404783638, 'Recall@10': 0.15382073850844413, 'MAP@10': 0.07345204436308347, 'Novelty': 9.583207320909077, 'Serendipity': 1.3224037014240433e-05}\n",
      "tfidf_itemknn\n"
     ]
    },
    {
     "data": {
      "application/vnd.jupyter.widget-view+json": {
       "model_id": "705977ef3ab6482a8c53d5d563c0e7c1",
       "version_major": 2,
       "version_minor": 0
      },
      "text/plain": [
       "  0%|          | 0/14928 [00:00<?, ?it/s]"
      ]
     },
     "metadata": {},
     "output_type": "display_data"
    },
    {
     "data": {
      "application/vnd.jupyter.widget-view+json": {
       "model_id": "ac67ab7164f943958b92b8a7c71f46c4",
       "version_major": 2,
       "version_minor": 0
      },
      "text/plain": [
       "  0%|          | 0/687200 [00:00<?, ?it/s]"
      ]
     },
     "metadata": {},
     "output_type": "display_data"
    },
    {
     "name": "stdout",
     "output_type": "stream",
     "text": [
      "{'Precision@10': 0.037698557604528025, 'Recall@10': 0.19432669276817516, 'MAP@10': 0.09153657927049391, 'Novelty': 7.543119085433283, 'Serendipity': 1.9906498770253037e-05}\n",
      "bm25_itemknn\n"
     ]
    },
    {
     "data": {
      "application/vnd.jupyter.widget-view+json": {
       "model_id": "50d3da4062494d58b4c02877b7e21213",
       "version_major": 2,
       "version_minor": 0
      },
      "text/plain": [
       "  0%|          | 0/14928 [00:00<?, ?it/s]"
      ]
     },
     "metadata": {},
     "output_type": "display_data"
    },
    {
     "data": {
      "application/vnd.jupyter.widget-view+json": {
       "model_id": "6f26699f4bec4b6197ae089f080c2a90",
       "version_major": 2,
       "version_minor": 0
      },
      "text/plain": [
       "  0%|          | 0/687200 [00:00<?, ?it/s]"
      ]
     },
     "metadata": {},
     "output_type": "display_data"
    },
    {
     "name": "stdout",
     "output_type": "stream",
     "text": [
      "{'Precision@10': 0.043408800438196095, 'Recall@10': 0.2278975986151315, 'MAP@10': 0.11251849850166812, 'Novelty': 4.0965778360598515, 'Serendipity': 5.57914820900483e-06}\n"
     ]
    }
   ],
   "source": [
    "results = []\n",
    "\n",
    "(train_ids, test_ids, _) = next(cv.split(interactions, collect_fold_stats=True))\n",
    "\n",
    "train = interactions.df.iloc[train_ids].copy()\n",
    "test = interactions.df.iloc[test_ids].copy()\n",
    "\n",
    "catalog = train[Columns.Item].unique()\n",
    "\n",
    "# Dataset object constraction for ImplicitItemKNNWrapperModel\n",
    "user_feature_train = user_feat[user_feat['id'].isin(train[Columns.User])]\n",
    "user_feature_test = user_feat[user_feat['id'].isin(test[Columns.User])]\n",
    "\n",
    "items_feature_train = item_feat[item_feat['id'].isin(train[Columns.Item])]\n",
    "items_feature_test = item_feat[item_feat['id'].isin(test[Columns.Item])]\n",
    "\n",
    "train_dts = Dataset.construct(\n",
    "    train,\n",
    "    user_features_df=user_feature_train,\n",
    "    item_features_df=items_feature_train,\n",
    "    cat_item_features=['genre', \n",
    "                       'release_year',\n",
    "                       'age_rating',\n",
    "                       'content_type'\n",
    "                       ],\n",
    "    cat_user_features=['age', 'sex']\n",
    "\n",
    ")\n",
    "\n",
    "test_dts = Dataset.construct(\n",
    "    test,\n",
    "    user_features_df=user_feature_test,\n",
    "    item_features_df=items_feature_test,\n",
    "    cat_item_features=['genre', \n",
    "                       'release_year',\n",
    "                       'age_rating',\n",
    "                       'content_type'\n",
    "                       ],\n",
    "    cat_user_features=['age', 'sex']\n",
    "\n",
    ")\n",
    "\n",
    "for model_name, model in models.items():\n",
    "    \n",
    "    print(model_name)\n",
    "    userknn_model = ImplicitItemKNNWrapperModel(model, verbose=1)\n",
    "    userknn_model.fit(train_dts)\n",
    "\n",
    "    recos = userknn_model.recommend(\n",
    "        users=train[Columns.User].unique(),\n",
    "        dataset=train_dts,\n",
    "        k=10,\n",
    "        filter_viewed=True,\n",
    "    )\n",
    "\n",
    "    metric_values = calc_metrics(\n",
    "        metrics,\n",
    "        reco=recos,\n",
    "        interactions=test,\n",
    "        prev_interactions=train,\n",
    "        catalog=catalog,\n",
    "    )\n",
    "\n",
    "    print(metric_values)\n",
    "    results.append({\"model\": model_name, **metric_values})"
   ]
  },
  {
   "cell_type": "markdown",
   "id": "c8662863",
   "metadata": {},
   "source": [
    "Let's see the results of metrics evaling:"
   ]
  },
  {
   "cell_type": "code",
   "execution_count": 17,
   "id": "411a4dd4",
   "metadata": {
    "scrolled": true
   },
   "outputs": [
    {
     "data": {
      "text/html": [
       "<div>\n",
       "<style scoped>\n",
       "    .dataframe tbody tr th:only-of-type {\n",
       "        vertical-align: middle;\n",
       "    }\n",
       "\n",
       "    .dataframe tbody tr th {\n",
       "        vertical-align: top;\n",
       "    }\n",
       "\n",
       "    .dataframe thead th {\n",
       "        text-align: right;\n",
       "    }\n",
       "</style>\n",
       "<table border=\"1\" class=\"dataframe\">\n",
       "  <thead>\n",
       "    <tr style=\"text-align: right;\">\n",
       "      <th></th>\n",
       "      <th>model</th>\n",
       "      <th>Precision@10</th>\n",
       "      <th>Recall@10</th>\n",
       "      <th>MAP@10</th>\n",
       "      <th>Novelty</th>\n",
       "      <th>Serendipity</th>\n",
       "    </tr>\n",
       "  </thead>\n",
       "  <tbody>\n",
       "    <tr>\n",
       "      <th>0</th>\n",
       "      <td>cosine_itemknn</td>\n",
       "      <td>0.028536</td>\n",
       "      <td>0.153821</td>\n",
       "      <td>0.073452</td>\n",
       "      <td>9.583207</td>\n",
       "      <td>0.000013</td>\n",
       "    </tr>\n",
       "    <tr>\n",
       "      <th>1</th>\n",
       "      <td>tfidf_itemknn</td>\n",
       "      <td>0.037699</td>\n",
       "      <td>0.194327</td>\n",
       "      <td>0.091537</td>\n",
       "      <td>7.543119</td>\n",
       "      <td>0.000020</td>\n",
       "    </tr>\n",
       "    <tr>\n",
       "      <th>2</th>\n",
       "      <td>bm25_itemknn</td>\n",
       "      <td>0.043409</td>\n",
       "      <td>0.227898</td>\n",
       "      <td>0.112518</td>\n",
       "      <td>4.096578</td>\n",
       "      <td>0.000006</td>\n",
       "    </tr>\n",
       "  </tbody>\n",
       "</table>\n",
       "</div>"
      ],
      "text/plain": [
       "            model  Precision@10  Recall@10    MAP@10   Novelty  Serendipity\n",
       "0  cosine_itemknn      0.028536   0.153821  0.073452  9.583207     0.000013\n",
       "1   tfidf_itemknn      0.037699   0.194327  0.091537  7.543119     0.000020\n",
       "2    bm25_itemknn      0.043409   0.227898  0.112518  4.096578     0.000006"
      ]
     },
     "execution_count": 17,
     "metadata": {},
     "output_type": "execute_result"
    }
   ],
   "source": [
    "df_metrics = pd.DataFrame(results)\n",
    "df_metrics"
   ]
  },
  {
   "cell_type": "markdown",
   "id": "0e177bfd",
   "metadata": {},
   "source": [
    "Let's check the last model to understand if all recos have len == 10"
   ]
  },
  {
   "cell_type": "code",
   "execution_count": 18,
   "id": "2cdca619",
   "metadata": {},
   "outputs": [
    {
     "data": {
      "text/plain": [
       "array([10,  9,  4,  2,  8,  3,  1,  6,  7])"
      ]
     },
     "execution_count": 18,
     "metadata": {},
     "output_type": "execute_result"
    }
   ],
   "source": [
    "recos.groupby('user_id')['rank'].count().unique()"
   ]
  },
  {
   "cell_type": "markdown",
   "id": "8264da6c",
   "metadata": {},
   "source": [
    "As we can see there are some recos that don't have all recos that we need, so let's try to solve it"
   ]
  },
  {
   "cell_type": "markdown",
   "id": "75ce03af",
   "metadata": {},
   "source": [
    "For the first let's get user_id where recos < 10"
   ]
  },
  {
   "cell_type": "code",
   "execution_count": 19,
   "id": "d2c043f9",
   "metadata": {},
   "outputs": [],
   "source": [
    "user_id_n_recos = recos.groupby('user_id')['rank'].count()"
   ]
  },
  {
   "cell_type": "code",
   "execution_count": 20,
   "id": "7c715104",
   "metadata": {},
   "outputs": [],
   "source": [
    "user_wo_recos = np.array(user_id_n_recos[user_id_n_recos < 10].index)"
   ]
  },
  {
   "cell_type": "markdown",
   "id": "6127f8bb",
   "metadata": {},
   "source": [
    "So let's get popular items for this users"
   ]
  },
  {
   "cell_type": "code",
   "execution_count": 21,
   "id": "237196eb",
   "metadata": {},
   "outputs": [],
   "source": [
    "pop_recos = pop_n_users.recommend(\n",
    "                user_wo_recos, \n",
    "                dataset=dataset, \n",
    "                k=10, \n",
    "                filter_viewed=True\n",
    "            )"
   ]
  },
  {
   "cell_type": "markdown",
   "id": "3ee6c273",
   "metadata": {},
   "source": [
    "Add +10 to rank in the way we want to save right order"
   ]
  },
  {
   "cell_type": "code",
   "execution_count": 22,
   "id": "1c02fb4c",
   "metadata": {},
   "outputs": [],
   "source": [
    "pop_recos['rank'] += 10"
   ]
  },
  {
   "cell_type": "code",
   "execution_count": 23,
   "id": "1b8ef3d3",
   "metadata": {
    "scrolled": true
   },
   "outputs": [
    {
     "data": {
      "text/html": [
       "<div>\n",
       "<style scoped>\n",
       "    .dataframe tbody tr th:only-of-type {\n",
       "        vertical-align: middle;\n",
       "    }\n",
       "\n",
       "    .dataframe tbody tr th {\n",
       "        vertical-align: top;\n",
       "    }\n",
       "\n",
       "    .dataframe thead th {\n",
       "        text-align: right;\n",
       "    }\n",
       "</style>\n",
       "<table border=\"1\" class=\"dataframe\">\n",
       "  <thead>\n",
       "    <tr style=\"text-align: right;\">\n",
       "      <th></th>\n",
       "      <th>user_id</th>\n",
       "      <th>item_id</th>\n",
       "      <th>score</th>\n",
       "      <th>rank</th>\n",
       "    </tr>\n",
       "  </thead>\n",
       "  <tbody>\n",
       "    <tr>\n",
       "      <th>0</th>\n",
       "      <td>4139</td>\n",
       "      <td>10440</td>\n",
       "      <td>202457.0</td>\n",
       "      <td>11</td>\n",
       "    </tr>\n",
       "    <tr>\n",
       "      <th>1</th>\n",
       "      <td>4139</td>\n",
       "      <td>15297</td>\n",
       "      <td>193123.0</td>\n",
       "      <td>12</td>\n",
       "    </tr>\n",
       "    <tr>\n",
       "      <th>2</th>\n",
       "      <td>4139</td>\n",
       "      <td>9728</td>\n",
       "      <td>132865.0</td>\n",
       "      <td>13</td>\n",
       "    </tr>\n",
       "    <tr>\n",
       "      <th>3</th>\n",
       "      <td>4139</td>\n",
       "      <td>13865</td>\n",
       "      <td>122119.0</td>\n",
       "      <td>14</td>\n",
       "    </tr>\n",
       "    <tr>\n",
       "      <th>4</th>\n",
       "      <td>4139</td>\n",
       "      <td>4151</td>\n",
       "      <td>91167.0</td>\n",
       "      <td>15</td>\n",
       "    </tr>\n",
       "  </tbody>\n",
       "</table>\n",
       "</div>"
      ],
      "text/plain": [
       "   user_id  item_id     score  rank\n",
       "0     4139    10440  202457.0    11\n",
       "1     4139    15297  193123.0    12\n",
       "2     4139     9728  132865.0    13\n",
       "3     4139    13865  122119.0    14\n",
       "4     4139     4151   91167.0    15"
      ]
     },
     "execution_count": 23,
     "metadata": {},
     "output_type": "execute_result"
    }
   ],
   "source": [
    "pop_recos.head()"
   ]
  },
  {
   "cell_type": "markdown",
   "id": "f961b880",
   "metadata": {},
   "source": [
    "And concat two recos into one df"
   ]
  },
  {
   "cell_type": "code",
   "execution_count": 24,
   "id": "7b3888ee",
   "metadata": {},
   "outputs": [],
   "source": [
    "recos_all = pd.concat([recos, pop_recos])"
   ]
  },
  {
   "cell_type": "code",
   "execution_count": 25,
   "id": "c743e315",
   "metadata": {},
   "outputs": [],
   "source": [
    "recos_all = recos_all.sort_values(['user_id', 'rank'])"
   ]
  },
  {
   "cell_type": "markdown",
   "id": "75e185b7",
   "metadata": {},
   "source": [
    "Let's redefine rank"
   ]
  },
  {
   "cell_type": "code",
   "execution_count": 26,
   "id": "6aba3383",
   "metadata": {},
   "outputs": [
    {
     "data": {
      "text/html": [
       "<div>\n",
       "<style scoped>\n",
       "    .dataframe tbody tr th:only-of-type {\n",
       "        vertical-align: middle;\n",
       "    }\n",
       "\n",
       "    .dataframe tbody tr th {\n",
       "        vertical-align: top;\n",
       "    }\n",
       "\n",
       "    .dataframe thead th {\n",
       "        text-align: right;\n",
       "    }\n",
       "</style>\n",
       "<table border=\"1\" class=\"dataframe\">\n",
       "  <thead>\n",
       "    <tr style=\"text-align: right;\">\n",
       "      <th></th>\n",
       "      <th>user_id</th>\n",
       "      <th>item_id</th>\n",
       "      <th>score</th>\n",
       "      <th>rank</th>\n",
       "    </tr>\n",
       "  </thead>\n",
       "  <tbody>\n",
       "    <tr>\n",
       "      <th>5797574</th>\n",
       "      <td>0</td>\n",
       "      <td>15297</td>\n",
       "      <td>1.753745e+08</td>\n",
       "      <td>1</td>\n",
       "    </tr>\n",
       "    <tr>\n",
       "      <th>5797575</th>\n",
       "      <td>0</td>\n",
       "      <td>10440</td>\n",
       "      <td>1.428871e+08</td>\n",
       "      <td>2</td>\n",
       "    </tr>\n",
       "    <tr>\n",
       "      <th>5797576</th>\n",
       "      <td>0</td>\n",
       "      <td>13865</td>\n",
       "      <td>9.451971e+07</td>\n",
       "      <td>3</td>\n",
       "    </tr>\n",
       "    <tr>\n",
       "      <th>5797577</th>\n",
       "      <td>0</td>\n",
       "      <td>4151</td>\n",
       "      <td>9.006657e+07</td>\n",
       "      <td>4</td>\n",
       "    </tr>\n",
       "    <tr>\n",
       "      <th>5797578</th>\n",
       "      <td>0</td>\n",
       "      <td>9728</td>\n",
       "      <td>8.127836e+07</td>\n",
       "      <td>5</td>\n",
       "    </tr>\n",
       "    <tr>\n",
       "      <th>...</th>\n",
       "      <td>...</td>\n",
       "      <td>...</td>\n",
       "      <td>...</td>\n",
       "      <td>...</td>\n",
       "    </tr>\n",
       "    <tr>\n",
       "      <th>5915169</th>\n",
       "      <td>1097556</td>\n",
       "      <td>4151</td>\n",
       "      <td>1.675141e+08</td>\n",
       "      <td>6</td>\n",
       "    </tr>\n",
       "    <tr>\n",
       "      <th>5915170</th>\n",
       "      <td>1097556</td>\n",
       "      <td>4880</td>\n",
       "      <td>1.506286e+08</td>\n",
       "      <td>7</td>\n",
       "    </tr>\n",
       "    <tr>\n",
       "      <th>5915171</th>\n",
       "      <td>1097556</td>\n",
       "      <td>142</td>\n",
       "      <td>1.067408e+08</td>\n",
       "      <td>8</td>\n",
       "    </tr>\n",
       "    <tr>\n",
       "      <th>5915172</th>\n",
       "      <td>1097556</td>\n",
       "      <td>2657</td>\n",
       "      <td>9.952675e+07</td>\n",
       "      <td>9</td>\n",
       "    </tr>\n",
       "    <tr>\n",
       "      <th>5915173</th>\n",
       "      <td>1097556</td>\n",
       "      <td>3935</td>\n",
       "      <td>9.902289e+07</td>\n",
       "      <td>10</td>\n",
       "    </tr>\n",
       "  </tbody>\n",
       "</table>\n",
       "<p>6871225 rows × 4 columns</p>\n",
       "</div>"
      ],
      "text/plain": [
       "         user_id  item_id         score  rank\n",
       "5797574        0    15297  1.753745e+08     1\n",
       "5797575        0    10440  1.428871e+08     2\n",
       "5797576        0    13865  9.451971e+07     3\n",
       "5797577        0     4151  9.006657e+07     4\n",
       "5797578        0     9728  8.127836e+07     5\n",
       "...          ...      ...           ...   ...\n",
       "5915169  1097556     4151  1.675141e+08     6\n",
       "5915170  1097556     4880  1.506286e+08     7\n",
       "5915171  1097556      142  1.067408e+08     8\n",
       "5915172  1097556     2657  9.952675e+07     9\n",
       "5915173  1097556     3935  9.902289e+07    10\n",
       "\n",
       "[6871225 rows x 4 columns]"
      ]
     },
     "execution_count": 26,
     "metadata": {},
     "output_type": "execute_result"
    }
   ],
   "source": [
    "recos_all['rank'] = recos_all[['user_id', 'rank']].groupby('user_id').cumcount() + 1\n",
    "recos_all"
   ]
  },
  {
   "cell_type": "markdown",
   "id": "4120845d",
   "metadata": {},
   "source": [
    "And delete all recos that more then 10"
   ]
  },
  {
   "cell_type": "code",
   "execution_count": 27,
   "id": "64fb4fa9",
   "metadata": {
    "scrolled": false
   },
   "outputs": [
    {
     "data": {
      "text/html": [
       "<div>\n",
       "<style scoped>\n",
       "    .dataframe tbody tr th:only-of-type {\n",
       "        vertical-align: middle;\n",
       "    }\n",
       "\n",
       "    .dataframe tbody tr th {\n",
       "        vertical-align: top;\n",
       "    }\n",
       "\n",
       "    .dataframe thead th {\n",
       "        text-align: right;\n",
       "    }\n",
       "</style>\n",
       "<table border=\"1\" class=\"dataframe\">\n",
       "  <thead>\n",
       "    <tr style=\"text-align: right;\">\n",
       "      <th></th>\n",
       "      <th>user_id</th>\n",
       "      <th>item_id</th>\n",
       "      <th>score</th>\n",
       "      <th>rank</th>\n",
       "    </tr>\n",
       "  </thead>\n",
       "  <tbody>\n",
       "    <tr>\n",
       "      <th>5797574</th>\n",
       "      <td>0</td>\n",
       "      <td>15297</td>\n",
       "      <td>1.753745e+08</td>\n",
       "      <td>1</td>\n",
       "    </tr>\n",
       "    <tr>\n",
       "      <th>5797575</th>\n",
       "      <td>0</td>\n",
       "      <td>10440</td>\n",
       "      <td>1.428871e+08</td>\n",
       "      <td>2</td>\n",
       "    </tr>\n",
       "    <tr>\n",
       "      <th>5797576</th>\n",
       "      <td>0</td>\n",
       "      <td>13865</td>\n",
       "      <td>9.451971e+07</td>\n",
       "      <td>3</td>\n",
       "    </tr>\n",
       "    <tr>\n",
       "      <th>5797577</th>\n",
       "      <td>0</td>\n",
       "      <td>4151</td>\n",
       "      <td>9.006657e+07</td>\n",
       "      <td>4</td>\n",
       "    </tr>\n",
       "    <tr>\n",
       "      <th>5797578</th>\n",
       "      <td>0</td>\n",
       "      <td>9728</td>\n",
       "      <td>8.127836e+07</td>\n",
       "      <td>5</td>\n",
       "    </tr>\n",
       "    <tr>\n",
       "      <th>...</th>\n",
       "      <td>...</td>\n",
       "      <td>...</td>\n",
       "      <td>...</td>\n",
       "      <td>...</td>\n",
       "    </tr>\n",
       "    <tr>\n",
       "      <th>5915169</th>\n",
       "      <td>1097556</td>\n",
       "      <td>4151</td>\n",
       "      <td>1.675141e+08</td>\n",
       "      <td>6</td>\n",
       "    </tr>\n",
       "    <tr>\n",
       "      <th>5915170</th>\n",
       "      <td>1097556</td>\n",
       "      <td>4880</td>\n",
       "      <td>1.506286e+08</td>\n",
       "      <td>7</td>\n",
       "    </tr>\n",
       "    <tr>\n",
       "      <th>5915171</th>\n",
       "      <td>1097556</td>\n",
       "      <td>142</td>\n",
       "      <td>1.067408e+08</td>\n",
       "      <td>8</td>\n",
       "    </tr>\n",
       "    <tr>\n",
       "      <th>5915172</th>\n",
       "      <td>1097556</td>\n",
       "      <td>2657</td>\n",
       "      <td>9.952675e+07</td>\n",
       "      <td>9</td>\n",
       "    </tr>\n",
       "    <tr>\n",
       "      <th>5915173</th>\n",
       "      <td>1097556</td>\n",
       "      <td>3935</td>\n",
       "      <td>9.902289e+07</td>\n",
       "      <td>10</td>\n",
       "    </tr>\n",
       "  </tbody>\n",
       "</table>\n",
       "<p>6871110 rows × 4 columns</p>\n",
       "</div>"
      ],
      "text/plain": [
       "         user_id  item_id         score  rank\n",
       "5797574        0    15297  1.753745e+08     1\n",
       "5797575        0    10440  1.428871e+08     2\n",
       "5797576        0    13865  9.451971e+07     3\n",
       "5797577        0     4151  9.006657e+07     4\n",
       "5797578        0     9728  8.127836e+07     5\n",
       "...          ...      ...           ...   ...\n",
       "5915169  1097556     4151  1.675141e+08     6\n",
       "5915170  1097556     4880  1.506286e+08     7\n",
       "5915171  1097556      142  1.067408e+08     8\n",
       "5915172  1097556     2657  9.952675e+07     9\n",
       "5915173  1097556     3935  9.902289e+07    10\n",
       "\n",
       "[6871110 rows x 4 columns]"
      ]
     },
     "execution_count": 27,
     "metadata": {},
     "output_type": "execute_result"
    }
   ],
   "source": [
    "recos_all = recos_all[recos_all['rank'] <= 10]\n",
    "recos_all"
   ]
  },
  {
   "cell_type": "markdown",
   "id": "3c7e032b",
   "metadata": {},
   "source": [
    "Let's define it like a function to use in metrics evaling"
   ]
  },
  {
   "cell_type": "code",
   "execution_count": 28,
   "id": "0381fd60",
   "metadata": {},
   "outputs": [],
   "source": [
    "def add_more_recos(recos: pd.DataFrame, pop_model, dataset) -> pd.DataFrame:\n",
    "    user_id_n_recos = recos.groupby('user_id')['rank'].count()\n",
    "    user_wo_recos = np.array(user_id_n_recos[user_id_n_recos < 10].index)\n",
    "    \n",
    "    pop_recos = pop_model.recommend(\n",
    "                user_wo_recos, \n",
    "                dataset=dataset, \n",
    "                k=10, \n",
    "                filter_viewed=True\n",
    "            )\n",
    "    pop_recos['rank'] += 10\n",
    "    \n",
    "    recos_all = pd.concat([recos, pop_recos]).sort_values(['user_id', 'rank'])\n",
    "    recos_all['rank'] = recos_all[['user_id', 'rank']].groupby('user_id').cumcount() + 1\n",
    "    \n",
    "    return recos_all[recos_all['rank'] <= 10]"
   ]
  },
  {
   "cell_type": "markdown",
   "id": "e4d3e4b2",
   "metadata": {},
   "source": [
    "Let's check that function work correctly"
   ]
  },
  {
   "cell_type": "code",
   "execution_count": 29,
   "id": "6a65d906",
   "metadata": {
    "scrolled": true
   },
   "outputs": [
    {
     "data": {
      "text/html": [
       "<div>\n",
       "<style scoped>\n",
       "    .dataframe tbody tr th:only-of-type {\n",
       "        vertical-align: middle;\n",
       "    }\n",
       "\n",
       "    .dataframe tbody tr th {\n",
       "        vertical-align: top;\n",
       "    }\n",
       "\n",
       "    .dataframe thead th {\n",
       "        text-align: right;\n",
       "    }\n",
       "</style>\n",
       "<table border=\"1\" class=\"dataframe\">\n",
       "  <thead>\n",
       "    <tr style=\"text-align: right;\">\n",
       "      <th></th>\n",
       "      <th>user_id</th>\n",
       "      <th>item_id</th>\n",
       "      <th>score</th>\n",
       "      <th>rank</th>\n",
       "    </tr>\n",
       "  </thead>\n",
       "  <tbody>\n",
       "    <tr>\n",
       "      <th>5797574</th>\n",
       "      <td>0</td>\n",
       "      <td>15297</td>\n",
       "      <td>1.753745e+08</td>\n",
       "      <td>1</td>\n",
       "    </tr>\n",
       "    <tr>\n",
       "      <th>5797575</th>\n",
       "      <td>0</td>\n",
       "      <td>10440</td>\n",
       "      <td>1.428871e+08</td>\n",
       "      <td>2</td>\n",
       "    </tr>\n",
       "    <tr>\n",
       "      <th>5797576</th>\n",
       "      <td>0</td>\n",
       "      <td>13865</td>\n",
       "      <td>9.451971e+07</td>\n",
       "      <td>3</td>\n",
       "    </tr>\n",
       "    <tr>\n",
       "      <th>5797577</th>\n",
       "      <td>0</td>\n",
       "      <td>4151</td>\n",
       "      <td>9.006657e+07</td>\n",
       "      <td>4</td>\n",
       "    </tr>\n",
       "    <tr>\n",
       "      <th>5797578</th>\n",
       "      <td>0</td>\n",
       "      <td>9728</td>\n",
       "      <td>8.127836e+07</td>\n",
       "      <td>5</td>\n",
       "    </tr>\n",
       "    <tr>\n",
       "      <th>...</th>\n",
       "      <td>...</td>\n",
       "      <td>...</td>\n",
       "      <td>...</td>\n",
       "      <td>...</td>\n",
       "    </tr>\n",
       "    <tr>\n",
       "      <th>5915169</th>\n",
       "      <td>1097556</td>\n",
       "      <td>4151</td>\n",
       "      <td>1.675141e+08</td>\n",
       "      <td>6</td>\n",
       "    </tr>\n",
       "    <tr>\n",
       "      <th>5915170</th>\n",
       "      <td>1097556</td>\n",
       "      <td>4880</td>\n",
       "      <td>1.506286e+08</td>\n",
       "      <td>7</td>\n",
       "    </tr>\n",
       "    <tr>\n",
       "      <th>5915171</th>\n",
       "      <td>1097556</td>\n",
       "      <td>142</td>\n",
       "      <td>1.067408e+08</td>\n",
       "      <td>8</td>\n",
       "    </tr>\n",
       "    <tr>\n",
       "      <th>5915172</th>\n",
       "      <td>1097556</td>\n",
       "      <td>2657</td>\n",
       "      <td>9.952675e+07</td>\n",
       "      <td>9</td>\n",
       "    </tr>\n",
       "    <tr>\n",
       "      <th>5915173</th>\n",
       "      <td>1097556</td>\n",
       "      <td>3935</td>\n",
       "      <td>9.902289e+07</td>\n",
       "      <td>10</td>\n",
       "    </tr>\n",
       "  </tbody>\n",
       "</table>\n",
       "<p>6871110 rows × 4 columns</p>\n",
       "</div>"
      ],
      "text/plain": [
       "         user_id  item_id         score  rank\n",
       "5797574        0    15297  1.753745e+08     1\n",
       "5797575        0    10440  1.428871e+08     2\n",
       "5797576        0    13865  9.451971e+07     3\n",
       "5797577        0     4151  9.006657e+07     4\n",
       "5797578        0     9728  8.127836e+07     5\n",
       "...          ...      ...           ...   ...\n",
       "5915169  1097556     4151  1.675141e+08     6\n",
       "5915170  1097556     4880  1.506286e+08     7\n",
       "5915171  1097556      142  1.067408e+08     8\n",
       "5915172  1097556     2657  9.952675e+07     9\n",
       "5915173  1097556     3935  9.902289e+07    10\n",
       "\n",
       "[6871110 rows x 4 columns]"
      ]
     },
     "execution_count": 29,
     "metadata": {},
     "output_type": "execute_result"
    }
   ],
   "source": [
    "add_more_recos(recos, pop_n_users, dataset)"
   ]
  },
  {
   "cell_type": "markdown",
   "id": "e631e342",
   "metadata": {},
   "source": [
    "It is sounds like a plan! Let's recolculate metrics using this function to add recos"
   ]
  },
  {
   "cell_type": "markdown",
   "id": "5550f4cd",
   "metadata": {},
   "source": [
    "For the first define a dict where all pop models and datasets will be defined"
   ]
  },
  {
   "cell_type": "code",
   "execution_count": 30,
   "id": "495bbebd",
   "metadata": {},
   "outputs": [],
   "source": [
    "pop_models_dict = {\n",
    "    \"pop_n_users\": (pop_n_users, dataset),\n",
    "    \"pop_n_interactions\": (pop_n_interactions, dataset),\n",
    "    \"pop_sum_weight\": (pop_sum_weight, dataset),\n",
    "    \"pop_sum_weight_pct\": (pop_sum_weight_pct, dataset_pct)\n",
    "}"
   ]
  },
  {
   "cell_type": "markdown",
   "id": "aeb69508",
   "metadata": {},
   "source": [
    "And reeval metrics again:"
   ]
  },
  {
   "cell_type": "code",
   "execution_count": 31,
   "id": "b166f887",
   "metadata": {},
   "outputs": [
    {
     "name": "stdout",
     "output_type": "stream",
     "text": [
      "cosine_itemknn\n"
     ]
    },
    {
     "data": {
      "application/vnd.jupyter.widget-view+json": {
       "model_id": "e26bcf6182db462183ce20d648bd8e24",
       "version_major": 2,
       "version_minor": 0
      },
      "text/plain": [
       "  0%|          | 0/14928 [00:00<?, ?it/s]"
      ]
     },
     "metadata": {},
     "output_type": "display_data"
    },
    {
     "data": {
      "application/vnd.jupyter.widget-view+json": {
       "model_id": "ac853bae6a2b4b7d8c6b1fcf37d32542",
       "version_major": 2,
       "version_minor": 0
      },
      "text/plain": [
       "  0%|          | 0/687200 [00:00<?, ?it/s]"
      ]
     },
     "metadata": {},
     "output_type": "display_data"
    },
    {
     "name": "stdout",
     "output_type": "stream",
     "text": [
      "cosine_itemknn | pop_n_users\n",
      "{'Precision@10': 0.028536379404783638, 'Recall@10': 0.15382073850844413, 'MAP@10': 0.07345204436308347, 'Novelty': 9.583063949980408, 'Serendipity': 1.3224037014240433e-05}\n",
      "cosine_itemknn | pop_n_interactions\n",
      "{'Precision@10': 0.028536379404783638, 'Recall@10': 0.15382073850844413, 'MAP@10': 0.07345204436308347, 'Novelty': 9.583063949980408, 'Serendipity': 1.3224037014240433e-05}\n",
      "cosine_itemknn | pop_sum_weight\n",
      "{'Precision@10': 0.028536379404783638, 'Recall@10': 0.15382073850844413, 'MAP@10': 0.07345204436308347, 'Novelty': 9.58308131342954, 'Serendipity': 1.3224037014240433e-05}\n",
      "cosine_itemknn | pop_sum_weight_pct\n",
      "{'Precision@10': 0.028536379404783638, 'Recall@10': 0.15382073850844413, 'MAP@10': 0.07345204436308347, 'Novelty': 9.583064909208696, 'Serendipity': 1.3224037014240433e-05}\n",
      "tfidf_itemknn\n"
     ]
    },
    {
     "data": {
      "application/vnd.jupyter.widget-view+json": {
       "model_id": "1d6189bf8c384c458413acd4d79c6bd7",
       "version_major": 2,
       "version_minor": 0
      },
      "text/plain": [
       "  0%|          | 0/14928 [00:00<?, ?it/s]"
      ]
     },
     "metadata": {},
     "output_type": "display_data"
    },
    {
     "data": {
      "application/vnd.jupyter.widget-view+json": {
       "model_id": "80ea71d2527345e1a4b7b7f9ead83bf2",
       "version_major": 2,
       "version_minor": 0
      },
      "text/plain": [
       "  0%|          | 0/687200 [00:00<?, ?it/s]"
      ]
     },
     "metadata": {},
     "output_type": "display_data"
    },
    {
     "name": "stdout",
     "output_type": "stream",
     "text": [
      "tfidf_itemknn | pop_n_users\n",
      "{'Precision@10': 0.037698557604528025, 'Recall@10': 0.19432669276817516, 'MAP@10': 0.09153657927049391, 'Novelty': 7.542962738816669, 'Serendipity': 1.9906498770253044e-05}\n",
      "tfidf_itemknn | pop_n_interactions\n",
      "{'Precision@10': 0.037698557604528025, 'Recall@10': 0.19432669276817516, 'MAP@10': 0.09153657927049391, 'Novelty': 7.542962738816669, 'Serendipity': 1.9906498770253044e-05}\n",
      "tfidf_itemknn | pop_sum_weight\n",
      "{'Precision@10': 0.037698557604528025, 'Recall@10': 0.19432669276817516, 'MAP@10': 0.09153657927049391, 'Novelty': 7.542981451593764, 'Serendipity': 1.9906498770253044e-05}\n",
      "tfidf_itemknn | pop_sum_weight_pct\n",
      "{'Precision@10': 0.037698557604528025, 'Recall@10': 0.19432669276817516, 'MAP@10': 0.09153657927049391, 'Novelty': 7.542963874096594, 'Serendipity': 1.9906498770253044e-05}\n",
      "bm25_itemknn\n"
     ]
    },
    {
     "data": {
      "application/vnd.jupyter.widget-view+json": {
       "model_id": "1842c295a73444c680e7dc74299d26fc",
       "version_major": 2,
       "version_minor": 0
      },
      "text/plain": [
       "  0%|          | 0/14928 [00:00<?, ?it/s]"
      ]
     },
     "metadata": {},
     "output_type": "display_data"
    },
    {
     "data": {
      "application/vnd.jupyter.widget-view+json": {
       "model_id": "c6e000512e94451c8a5679026c5ef94e",
       "version_major": 2,
       "version_minor": 0
      },
      "text/plain": [
       "  0%|          | 0/687200 [00:00<?, ?it/s]"
      ]
     },
     "metadata": {},
     "output_type": "display_data"
    },
    {
     "name": "stdout",
     "output_type": "stream",
     "text": [
      "bm25_itemknn | pop_n_users\n",
      "{'Precision@10': 0.043408800438196095, 'Recall@10': 0.2278975986151315, 'MAP@10': 0.11251849850166812, 'Novelty': 4.09643446513118, 'Serendipity': 5.579148209004831e-06}\n",
      "bm25_itemknn | pop_n_interactions\n",
      "{'Precision@10': 0.043408800438196095, 'Recall@10': 0.2278975986151315, 'MAP@10': 0.11251849850166812, 'Novelty': 4.09643446513118, 'Serendipity': 5.579148209004831e-06}\n",
      "bm25_itemknn | pop_sum_weight\n",
      "{'Precision@10': 0.043408800438196095, 'Recall@10': 0.2278975986151315, 'MAP@10': 0.11251849850166812, 'Novelty': 4.096451828580313, 'Serendipity': 5.579148209004831e-06}\n",
      "bm25_itemknn | pop_sum_weight_pct\n",
      "{'Precision@10': 0.043408800438196095, 'Recall@10': 0.2278975986151315, 'MAP@10': 0.11251849850166812, 'Novelty': 4.096435424359467, 'Serendipity': 5.579148209004831e-06}\n"
     ]
    }
   ],
   "source": [
    "results_w_pop = []\n",
    "for model_name, model in models.items():\n",
    "\n",
    "    print(model_name)\n",
    "    userknn_model = ImplicitItemKNNWrapperModel(model, verbose=1)\n",
    "    userknn_model.fit(train_dts)\n",
    "\n",
    "    recos = userknn_model.recommend(\n",
    "        users=train[Columns.User].unique(),\n",
    "        dataset=train_dts,\n",
    "        k=10,\n",
    "        filter_viewed=True,\n",
    "    )\n",
    "\n",
    "    # Add recos using different pop models\n",
    "    for key in pop_models_dict:\n",
    "        recos_w_pop = recos.copy()\n",
    "\n",
    "        print(model_name, '|', key)\n",
    "        model_name_w_pop = model_name + f' | {key}'\n",
    "\n",
    "        recos_w_pop = add_more_recos(recos_w_pop,\n",
    "                                     pop_models_dict[key][0], \n",
    "                                     pop_models_dict[key][1])\n",
    "\n",
    "        metric_values = calc_metrics(\n",
    "            metrics,\n",
    "            reco=recos_w_pop,\n",
    "            interactions=test,\n",
    "            prev_interactions=train,\n",
    "            catalog=catalog,\n",
    "        )\n",
    "\n",
    "        print(metric_values)\n",
    "        results_w_pop.append({\"model\": model_name_w_pop, **metric_values})"
   ]
  },
  {
   "cell_type": "code",
   "execution_count": 32,
   "id": "606077ec",
   "metadata": {},
   "outputs": [
    {
     "data": {
      "text/html": [
       "<div>\n",
       "<style scoped>\n",
       "    .dataframe tbody tr th:only-of-type {\n",
       "        vertical-align: middle;\n",
       "    }\n",
       "\n",
       "    .dataframe tbody tr th {\n",
       "        vertical-align: top;\n",
       "    }\n",
       "\n",
       "    .dataframe thead th {\n",
       "        text-align: right;\n",
       "    }\n",
       "</style>\n",
       "<table border=\"1\" class=\"dataframe\">\n",
       "  <thead>\n",
       "    <tr style=\"text-align: right;\">\n",
       "      <th></th>\n",
       "      <th>model</th>\n",
       "      <th>Precision@10</th>\n",
       "      <th>Recall@10</th>\n",
       "      <th>MAP@10</th>\n",
       "      <th>Novelty</th>\n",
       "      <th>Serendipity</th>\n",
       "    </tr>\n",
       "  </thead>\n",
       "  <tbody>\n",
       "    <tr>\n",
       "      <th>0</th>\n",
       "      <td>cosine_itemknn | pop_n_users</td>\n",
       "      <td>0.028536</td>\n",
       "      <td>0.153821</td>\n",
       "      <td>0.073452</td>\n",
       "      <td>9.583064</td>\n",
       "      <td>0.000013</td>\n",
       "    </tr>\n",
       "    <tr>\n",
       "      <th>1</th>\n",
       "      <td>cosine_itemknn | pop_n_interactions</td>\n",
       "      <td>0.028536</td>\n",
       "      <td>0.153821</td>\n",
       "      <td>0.073452</td>\n",
       "      <td>9.583064</td>\n",
       "      <td>0.000013</td>\n",
       "    </tr>\n",
       "    <tr>\n",
       "      <th>2</th>\n",
       "      <td>cosine_itemknn | pop_sum_weight</td>\n",
       "      <td>0.028536</td>\n",
       "      <td>0.153821</td>\n",
       "      <td>0.073452</td>\n",
       "      <td>9.583081</td>\n",
       "      <td>0.000013</td>\n",
       "    </tr>\n",
       "    <tr>\n",
       "      <th>3</th>\n",
       "      <td>cosine_itemknn | pop_sum_weight_pct</td>\n",
       "      <td>0.028536</td>\n",
       "      <td>0.153821</td>\n",
       "      <td>0.073452</td>\n",
       "      <td>9.583065</td>\n",
       "      <td>0.000013</td>\n",
       "    </tr>\n",
       "    <tr>\n",
       "      <th>4</th>\n",
       "      <td>tfidf_itemknn | pop_n_users</td>\n",
       "      <td>0.037699</td>\n",
       "      <td>0.194327</td>\n",
       "      <td>0.091537</td>\n",
       "      <td>7.542963</td>\n",
       "      <td>0.000020</td>\n",
       "    </tr>\n",
       "    <tr>\n",
       "      <th>5</th>\n",
       "      <td>tfidf_itemknn | pop_n_interactions</td>\n",
       "      <td>0.037699</td>\n",
       "      <td>0.194327</td>\n",
       "      <td>0.091537</td>\n",
       "      <td>7.542963</td>\n",
       "      <td>0.000020</td>\n",
       "    </tr>\n",
       "    <tr>\n",
       "      <th>6</th>\n",
       "      <td>tfidf_itemknn | pop_sum_weight</td>\n",
       "      <td>0.037699</td>\n",
       "      <td>0.194327</td>\n",
       "      <td>0.091537</td>\n",
       "      <td>7.542981</td>\n",
       "      <td>0.000020</td>\n",
       "    </tr>\n",
       "    <tr>\n",
       "      <th>7</th>\n",
       "      <td>tfidf_itemknn | pop_sum_weight_pct</td>\n",
       "      <td>0.037699</td>\n",
       "      <td>0.194327</td>\n",
       "      <td>0.091537</td>\n",
       "      <td>7.542964</td>\n",
       "      <td>0.000020</td>\n",
       "    </tr>\n",
       "    <tr>\n",
       "      <th>8</th>\n",
       "      <td>bm25_itemknn | pop_n_users</td>\n",
       "      <td>0.043409</td>\n",
       "      <td>0.227898</td>\n",
       "      <td>0.112518</td>\n",
       "      <td>4.096434</td>\n",
       "      <td>0.000006</td>\n",
       "    </tr>\n",
       "    <tr>\n",
       "      <th>9</th>\n",
       "      <td>bm25_itemknn | pop_n_interactions</td>\n",
       "      <td>0.043409</td>\n",
       "      <td>0.227898</td>\n",
       "      <td>0.112518</td>\n",
       "      <td>4.096434</td>\n",
       "      <td>0.000006</td>\n",
       "    </tr>\n",
       "    <tr>\n",
       "      <th>10</th>\n",
       "      <td>bm25_itemknn | pop_sum_weight</td>\n",
       "      <td>0.043409</td>\n",
       "      <td>0.227898</td>\n",
       "      <td>0.112518</td>\n",
       "      <td>4.096452</td>\n",
       "      <td>0.000006</td>\n",
       "    </tr>\n",
       "    <tr>\n",
       "      <th>11</th>\n",
       "      <td>bm25_itemknn | pop_sum_weight_pct</td>\n",
       "      <td>0.043409</td>\n",
       "      <td>0.227898</td>\n",
       "      <td>0.112518</td>\n",
       "      <td>4.096435</td>\n",
       "      <td>0.000006</td>\n",
       "    </tr>\n",
       "  </tbody>\n",
       "</table>\n",
       "</div>"
      ],
      "text/plain": [
       "                                  model  Precision@10  Recall@10    MAP@10  \\\n",
       "0          cosine_itemknn | pop_n_users      0.028536   0.153821  0.073452   \n",
       "1   cosine_itemknn | pop_n_interactions      0.028536   0.153821  0.073452   \n",
       "2       cosine_itemknn | pop_sum_weight      0.028536   0.153821  0.073452   \n",
       "3   cosine_itemknn | pop_sum_weight_pct      0.028536   0.153821  0.073452   \n",
       "4           tfidf_itemknn | pop_n_users      0.037699   0.194327  0.091537   \n",
       "5    tfidf_itemknn | pop_n_interactions      0.037699   0.194327  0.091537   \n",
       "6        tfidf_itemknn | pop_sum_weight      0.037699   0.194327  0.091537   \n",
       "7    tfidf_itemknn | pop_sum_weight_pct      0.037699   0.194327  0.091537   \n",
       "8            bm25_itemknn | pop_n_users      0.043409   0.227898  0.112518   \n",
       "9     bm25_itemknn | pop_n_interactions      0.043409   0.227898  0.112518   \n",
       "10        bm25_itemknn | pop_sum_weight      0.043409   0.227898  0.112518   \n",
       "11    bm25_itemknn | pop_sum_weight_pct      0.043409   0.227898  0.112518   \n",
       "\n",
       "     Novelty  Serendipity  \n",
       "0   9.583064     0.000013  \n",
       "1   9.583064     0.000013  \n",
       "2   9.583081     0.000013  \n",
       "3   9.583065     0.000013  \n",
       "4   7.542963     0.000020  \n",
       "5   7.542963     0.000020  \n",
       "6   7.542981     0.000020  \n",
       "7   7.542964     0.000020  \n",
       "8   4.096434     0.000006  \n",
       "9   4.096434     0.000006  \n",
       "10  4.096452     0.000006  \n",
       "11  4.096435     0.000006  "
      ]
     },
     "execution_count": 32,
     "metadata": {},
     "output_type": "execute_result"
    }
   ],
   "source": [
    "df_metrics_w_pop = pd.DataFrame(results_w_pop)\n",
    "df_metrics_w_pop"
   ]
  },
  {
   "cell_type": "code",
   "execution_count": 33,
   "id": "77daa797",
   "metadata": {
    "scrolled": true
   },
   "outputs": [
    {
     "data": {
      "text/html": [
       "<div>\n",
       "<style scoped>\n",
       "    .dataframe tbody tr th:only-of-type {\n",
       "        vertical-align: middle;\n",
       "    }\n",
       "\n",
       "    .dataframe tbody tr th {\n",
       "        vertical-align: top;\n",
       "    }\n",
       "\n",
       "    .dataframe thead th {\n",
       "        text-align: right;\n",
       "    }\n",
       "</style>\n",
       "<table border=\"1\" class=\"dataframe\">\n",
       "  <thead>\n",
       "    <tr style=\"text-align: right;\">\n",
       "      <th></th>\n",
       "      <th>model</th>\n",
       "      <th>Precision@10</th>\n",
       "      <th>Recall@10</th>\n",
       "      <th>MAP@10</th>\n",
       "      <th>Novelty</th>\n",
       "      <th>Serendipity</th>\n",
       "    </tr>\n",
       "  </thead>\n",
       "  <tbody>\n",
       "    <tr>\n",
       "      <th>2</th>\n",
       "      <td>bm25_itemknn</td>\n",
       "      <td>0.043409</td>\n",
       "      <td>0.227898</td>\n",
       "      <td>0.112518</td>\n",
       "      <td>4.096578</td>\n",
       "      <td>0.000006</td>\n",
       "    </tr>\n",
       "    <tr>\n",
       "      <th>9</th>\n",
       "      <td>bm25_itemknn | pop_n_interactions</td>\n",
       "      <td>0.043409</td>\n",
       "      <td>0.227898</td>\n",
       "      <td>0.112518</td>\n",
       "      <td>4.096434</td>\n",
       "      <td>0.000006</td>\n",
       "    </tr>\n",
       "    <tr>\n",
       "      <th>8</th>\n",
       "      <td>bm25_itemknn | pop_n_users</td>\n",
       "      <td>0.043409</td>\n",
       "      <td>0.227898</td>\n",
       "      <td>0.112518</td>\n",
       "      <td>4.096434</td>\n",
       "      <td>0.000006</td>\n",
       "    </tr>\n",
       "    <tr>\n",
       "      <th>10</th>\n",
       "      <td>bm25_itemknn | pop_sum_weight</td>\n",
       "      <td>0.043409</td>\n",
       "      <td>0.227898</td>\n",
       "      <td>0.112518</td>\n",
       "      <td>4.096452</td>\n",
       "      <td>0.000006</td>\n",
       "    </tr>\n",
       "    <tr>\n",
       "      <th>11</th>\n",
       "      <td>bm25_itemknn | pop_sum_weight_pct</td>\n",
       "      <td>0.043409</td>\n",
       "      <td>0.227898</td>\n",
       "      <td>0.112518</td>\n",
       "      <td>4.096435</td>\n",
       "      <td>0.000006</td>\n",
       "    </tr>\n",
       "    <tr>\n",
       "      <th>0</th>\n",
       "      <td>cosine_itemknn</td>\n",
       "      <td>0.028536</td>\n",
       "      <td>0.153821</td>\n",
       "      <td>0.073452</td>\n",
       "      <td>9.583207</td>\n",
       "      <td>0.000013</td>\n",
       "    </tr>\n",
       "    <tr>\n",
       "      <th>1</th>\n",
       "      <td>cosine_itemknn | pop_n_interactions</td>\n",
       "      <td>0.028536</td>\n",
       "      <td>0.153821</td>\n",
       "      <td>0.073452</td>\n",
       "      <td>9.583064</td>\n",
       "      <td>0.000013</td>\n",
       "    </tr>\n",
       "    <tr>\n",
       "      <th>0</th>\n",
       "      <td>cosine_itemknn | pop_n_users</td>\n",
       "      <td>0.028536</td>\n",
       "      <td>0.153821</td>\n",
       "      <td>0.073452</td>\n",
       "      <td>9.583064</td>\n",
       "      <td>0.000013</td>\n",
       "    </tr>\n",
       "    <tr>\n",
       "      <th>2</th>\n",
       "      <td>cosine_itemknn | pop_sum_weight</td>\n",
       "      <td>0.028536</td>\n",
       "      <td>0.153821</td>\n",
       "      <td>0.073452</td>\n",
       "      <td>9.583081</td>\n",
       "      <td>0.000013</td>\n",
       "    </tr>\n",
       "    <tr>\n",
       "      <th>3</th>\n",
       "      <td>cosine_itemknn | pop_sum_weight_pct</td>\n",
       "      <td>0.028536</td>\n",
       "      <td>0.153821</td>\n",
       "      <td>0.073452</td>\n",
       "      <td>9.583065</td>\n",
       "      <td>0.000013</td>\n",
       "    </tr>\n",
       "    <tr>\n",
       "      <th>1</th>\n",
       "      <td>tfidf_itemknn</td>\n",
       "      <td>0.037699</td>\n",
       "      <td>0.194327</td>\n",
       "      <td>0.091537</td>\n",
       "      <td>7.543119</td>\n",
       "      <td>0.000020</td>\n",
       "    </tr>\n",
       "    <tr>\n",
       "      <th>5</th>\n",
       "      <td>tfidf_itemknn | pop_n_interactions</td>\n",
       "      <td>0.037699</td>\n",
       "      <td>0.194327</td>\n",
       "      <td>0.091537</td>\n",
       "      <td>7.542963</td>\n",
       "      <td>0.000020</td>\n",
       "    </tr>\n",
       "    <tr>\n",
       "      <th>4</th>\n",
       "      <td>tfidf_itemknn | pop_n_users</td>\n",
       "      <td>0.037699</td>\n",
       "      <td>0.194327</td>\n",
       "      <td>0.091537</td>\n",
       "      <td>7.542963</td>\n",
       "      <td>0.000020</td>\n",
       "    </tr>\n",
       "    <tr>\n",
       "      <th>6</th>\n",
       "      <td>tfidf_itemknn | pop_sum_weight</td>\n",
       "      <td>0.037699</td>\n",
       "      <td>0.194327</td>\n",
       "      <td>0.091537</td>\n",
       "      <td>7.542981</td>\n",
       "      <td>0.000020</td>\n",
       "    </tr>\n",
       "    <tr>\n",
       "      <th>7</th>\n",
       "      <td>tfidf_itemknn | pop_sum_weight_pct</td>\n",
       "      <td>0.037699</td>\n",
       "      <td>0.194327</td>\n",
       "      <td>0.091537</td>\n",
       "      <td>7.542964</td>\n",
       "      <td>0.000020</td>\n",
       "    </tr>\n",
       "  </tbody>\n",
       "</table>\n",
       "</div>"
      ],
      "text/plain": [
       "                                  model  Precision@10  Recall@10    MAP@10  \\\n",
       "2                          bm25_itemknn      0.043409   0.227898  0.112518   \n",
       "9     bm25_itemknn | pop_n_interactions      0.043409   0.227898  0.112518   \n",
       "8            bm25_itemknn | pop_n_users      0.043409   0.227898  0.112518   \n",
       "10        bm25_itemknn | pop_sum_weight      0.043409   0.227898  0.112518   \n",
       "11    bm25_itemknn | pop_sum_weight_pct      0.043409   0.227898  0.112518   \n",
       "0                        cosine_itemknn      0.028536   0.153821  0.073452   \n",
       "1   cosine_itemknn | pop_n_interactions      0.028536   0.153821  0.073452   \n",
       "0          cosine_itemknn | pop_n_users      0.028536   0.153821  0.073452   \n",
       "2       cosine_itemknn | pop_sum_weight      0.028536   0.153821  0.073452   \n",
       "3   cosine_itemknn | pop_sum_weight_pct      0.028536   0.153821  0.073452   \n",
       "1                         tfidf_itemknn      0.037699   0.194327  0.091537   \n",
       "5    tfidf_itemknn | pop_n_interactions      0.037699   0.194327  0.091537   \n",
       "4           tfidf_itemknn | pop_n_users      0.037699   0.194327  0.091537   \n",
       "6        tfidf_itemknn | pop_sum_weight      0.037699   0.194327  0.091537   \n",
       "7    tfidf_itemknn | pop_sum_weight_pct      0.037699   0.194327  0.091537   \n",
       "\n",
       "     Novelty  Serendipity  \n",
       "2   4.096578     0.000006  \n",
       "9   4.096434     0.000006  \n",
       "8   4.096434     0.000006  \n",
       "10  4.096452     0.000006  \n",
       "11  4.096435     0.000006  \n",
       "0   9.583207     0.000013  \n",
       "1   9.583064     0.000013  \n",
       "0   9.583064     0.000013  \n",
       "2   9.583081     0.000013  \n",
       "3   9.583065     0.000013  \n",
       "1   7.543119     0.000020  \n",
       "5   7.542963     0.000020  \n",
       "4   7.542963     0.000020  \n",
       "6   7.542981     0.000020  \n",
       "7   7.542964     0.000020  "
      ]
     },
     "execution_count": 33,
     "metadata": {},
     "output_type": "execute_result"
    }
   ],
   "source": [
    "pd.concat([df_metrics_w_pop, df_metrics]).sort_values('model')"
   ]
  },
  {
   "cell_type": "markdown",
   "id": "2b05275f",
   "metadata": {},
   "source": [
    "As we can see metrics hasn't changed in general and there is may be one reason. The reason is that we don't consider cold users, where pop model can help us"
   ]
  },
  {
   "cell_type": "markdown",
   "id": "b43070fa",
   "metadata": {},
   "source": [
    "So let's make final model according to evaled metrics and winner is:  \n",
    "```bm25_itemknn```"
   ]
  },
  {
   "cell_type": "markdown",
   "id": "eb64de45",
   "metadata": {},
   "source": [
    "### For the first train offline model"
   ]
  },
  {
   "cell_type": "code",
   "execution_count": 16,
   "id": "10e205ed",
   "metadata": {},
   "outputs": [
    {
     "data": {
      "application/vnd.jupyter.widget-view+json": {
       "model_id": "7511c6a49b444c919e98710849147099",
       "version_major": 2,
       "version_minor": 0
      },
      "text/plain": [
       "  0%|          | 0/15706 [00:00<?, ?it/s]"
      ]
     },
     "metadata": {},
     "output_type": "display_data"
    },
    {
     "data": {
      "application/vnd.jupyter.widget-view+json": {
       "model_id": "66b417140b6f4981860a635db6fb9c05",
       "version_major": 2,
       "version_minor": 0
      },
      "text/plain": [
       "  0%|          | 0/962179 [00:00<?, ?it/s]"
      ]
     },
     "metadata": {},
     "output_type": "display_data"
    }
   ],
   "source": [
    "train = interactions.df.copy()\n",
    "\n",
    "catalog = train[Columns.Item].unique()\n",
    "\n",
    "# Dataset object constraction for ImplicitItemKNNWrapperModel\n",
    "user_feature_train = user_feat[user_feat['id'].isin(train[Columns.User])]\n",
    "items_feature_train = item_feat[item_feat['id'].isin(train[Columns.Item])]\n",
    "\n",
    "train_dts = Dataset.construct(\n",
    "    train,\n",
    "    user_features_df=user_feature_train,\n",
    "    item_features_df=items_feature_train,\n",
    "    cat_item_features=['genre', \n",
    "                       'release_year',\n",
    "                       'age_rating',\n",
    "                       'content_type'\n",
    "                       ],\n",
    "    cat_user_features=['age', 'sex']\n",
    "\n",
    ")\n",
    "\n",
    "\n",
    "userknn_model = ImplicitItemKNNWrapperModel(BM25Recommender(), verbose=1)\n",
    "userknn_model.fit(train_dts)\n",
    "\n",
    "offline_recos = userknn_model.recommend(\n",
    "    users=train[Columns.User].unique(),\n",
    "    dataset=train_dts,\n",
    "    k=10,\n",
    "    filter_viewed=True,\n",
    ")"
   ]
  },
  {
   "cell_type": "code",
   "execution_count": 17,
   "id": "f062eb3e",
   "metadata": {},
   "outputs": [
    {
     "data": {
      "text/html": [
       "<div>\n",
       "<style scoped>\n",
       "    .dataframe tbody tr th:only-of-type {\n",
       "        vertical-align: middle;\n",
       "    }\n",
       "\n",
       "    .dataframe tbody tr th {\n",
       "        vertical-align: top;\n",
       "    }\n",
       "\n",
       "    .dataframe thead th {\n",
       "        text-align: right;\n",
       "    }\n",
       "</style>\n",
       "<table border=\"1\" class=\"dataframe\">\n",
       "  <thead>\n",
       "    <tr style=\"text-align: right;\">\n",
       "      <th></th>\n",
       "      <th>user_id</th>\n",
       "      <th>item_id</th>\n",
       "      <th>score</th>\n",
       "      <th>rank</th>\n",
       "    </tr>\n",
       "  </thead>\n",
       "  <tbody>\n",
       "    <tr>\n",
       "      <th>0</th>\n",
       "      <td>176549</td>\n",
       "      <td>13865</td>\n",
       "      <td>8.890690e+10</td>\n",
       "      <td>1</td>\n",
       "    </tr>\n",
       "    <tr>\n",
       "      <th>1</th>\n",
       "      <td>176549</td>\n",
       "      <td>10440</td>\n",
       "      <td>7.991838e+10</td>\n",
       "      <td>2</td>\n",
       "    </tr>\n",
       "    <tr>\n",
       "      <th>2</th>\n",
       "      <td>176549</td>\n",
       "      <td>15297</td>\n",
       "      <td>7.130242e+10</td>\n",
       "      <td>3</td>\n",
       "    </tr>\n",
       "    <tr>\n",
       "      <th>3</th>\n",
       "      <td>176549</td>\n",
       "      <td>3734</td>\n",
       "      <td>6.944672e+10</td>\n",
       "      <td>4</td>\n",
       "    </tr>\n",
       "    <tr>\n",
       "      <th>4</th>\n",
       "      <td>176549</td>\n",
       "      <td>4151</td>\n",
       "      <td>4.231641e+10</td>\n",
       "      <td>5</td>\n",
       "    </tr>\n",
       "  </tbody>\n",
       "</table>\n",
       "</div>"
      ],
      "text/plain": [
       "   user_id  item_id         score  rank\n",
       "0   176549    13865  8.890690e+10     1\n",
       "1   176549    10440  7.991838e+10     2\n",
       "2   176549    15297  7.130242e+10     3\n",
       "3   176549     3734  6.944672e+10     4\n",
       "4   176549     4151  4.231641e+10     5"
      ]
     },
     "execution_count": 17,
     "metadata": {},
     "output_type": "execute_result"
    }
   ],
   "source": [
    "offline_recos.head()"
   ]
  },
  {
   "cell_type": "code",
   "execution_count": 32,
   "id": "09514d08",
   "metadata": {},
   "outputs": [],
   "source": [
    "offline = offline_recos.copy()"
   ]
  },
  {
   "cell_type": "code",
   "execution_count": 46,
   "id": "3188f5ce",
   "metadata": {},
   "outputs": [],
   "source": [
    "os.makedirs('knn_models_offline', exist_ok=True)\n",
    "offline.to_csv('knn_models_offline/bm25_offline.csv')"
   ]
  },
  {
   "cell_type": "markdown",
   "id": "8d7aa89b",
   "metadata": {},
   "source": [
    "Let's make dict from csv table to make offline recos in service"
   ]
  },
  {
   "cell_type": "code",
   "execution_count": 39,
   "id": "c469b2c4",
   "metadata": {},
   "outputs": [],
   "source": [
    "users_items_dict = offline.groupby('user_id')['item_id'].apply(list).to_dict()"
   ]
  },
  {
   "cell_type": "code",
   "execution_count": 40,
   "id": "52a5e0ab",
   "metadata": {},
   "outputs": [
    {
     "data": {
      "text/plain": [
       "[13865, 10440, 15297, 3734, 4151, 7571, 4880, 142, 16270, 4457]"
      ]
     },
     "execution_count": 40,
     "metadata": {},
     "output_type": "execute_result"
    }
   ],
   "source": [
    "users_items_dict[176549]"
   ]
  },
  {
   "cell_type": "markdown",
   "id": "8aa900fb",
   "metadata": {},
   "source": [
    "Let's save dictionary to use it in service"
   ]
  },
  {
   "cell_type": "code",
   "execution_count": 45,
   "id": "1bc81438",
   "metadata": {},
   "outputs": [],
   "source": [
    "import json\n",
    "with open('knn_models_offline/bm25_itemknn_offline.json', 'w') as handle:\n",
    "    json.dump(users_items_dict, handle)"
   ]
  },
  {
   "cell_type": "markdown",
   "id": "f4a20ad0",
   "metadata": {},
   "source": [
    "### And then try to create online model"
   ]
  },
  {
   "cell_type": "markdown",
   "id": "8c8ad73d",
   "metadata": {},
   "source": [
    "We will use UserKNN class that has been prepared, but add one method to make prediction for 1 user"
   ]
  },
  {
   "cell_type": "markdown",
   "id": "283b2059",
   "metadata": {},
   "source": [
    "But we make some changes in order to use it with BM25Recommender"
   ]
  },
  {
   "cell_type": "code",
   "execution_count": 18,
   "id": "30613c7d",
   "metadata": {},
   "outputs": [],
   "source": [
    "from UserKNN import UserKnnBM25\n",
    "from implicit.nearest_neighbours import BM25Recommender\n",
    "from random import choice\n",
    "import pandas as pd\n",
    "import os\n",
    "\n",
    "interactions = pd.read_csv('data/interactions.csv', index_col=0)\n",
    "interactions['datetime'] = pd.to_datetime(interactions['datetime'])"
   ]
  },
  {
   "cell_type": "markdown",
   "id": "4b00d558",
   "metadata": {},
   "source": [
    "For the first test how model works on parts of train"
   ]
  },
  {
   "cell_type": "code",
   "execution_count": 19,
   "id": "abf6c650",
   "metadata": {},
   "outputs": [],
   "source": [
    "model = UserKnnBM25(BM25Recommender(), N_users=50)"
   ]
  },
  {
   "cell_type": "code",
   "execution_count": 20,
   "id": "25db0ce3",
   "metadata": {},
   "outputs": [
    {
     "data": {
      "application/vnd.jupyter.widget-view+json": {
       "model_id": "b49ee03708684189b99e29be718ea368",
       "version_major": 2,
       "version_minor": 0
      },
      "text/plain": [
       "  0%|          | 0/83986 [00:00<?, ?it/s]"
      ]
     },
     "metadata": {},
     "output_type": "display_data"
    }
   ],
   "source": [
    "part_for_test = interactions[:100000].copy()\n",
    "model.fit(part_for_test)"
   ]
  },
  {
   "cell_type": "code",
   "execution_count": 21,
   "id": "3c0ad5f4",
   "metadata": {},
   "outputs": [],
   "source": [
    "users_part = part_for_test['user_id'].unique().tolist()"
   ]
  },
  {
   "cell_type": "code",
   "execution_count": 22,
   "id": "578aba5d",
   "metadata": {},
   "outputs": [
    {
     "data": {
      "text/plain": [
       "[5766, 3797, 6646, 6210, 5560, 16361, 11237]"
      ]
     },
     "execution_count": 22,
     "metadata": {},
     "output_type": "execute_result"
    }
   ],
   "source": [
    "model.predict_for_one_user(choice(users_part), 10)"
   ]
  },
  {
   "cell_type": "markdown",
   "id": "a748f2e0",
   "metadata": {},
   "source": [
    "Looks like everything is correct  \n",
    "So train all model"
   ]
  },
  {
   "cell_type": "code",
   "execution_count": 24,
   "id": "69f6a0e0",
   "metadata": {},
   "outputs": [
    {
     "data": {
      "application/vnd.jupyter.widget-view+json": {
       "model_id": "c0fb040021994bab994ba59d0aef1b53",
       "version_major": 2,
       "version_minor": 0
      },
      "text/plain": [
       "  0%|          | 0/962179 [00:00<?, ?it/s]"
      ]
     },
     "metadata": {},
     "output_type": "display_data"
    }
   ],
   "source": [
    "model = UserKnnBM25(BM25Recommender(), N_users=50)\n",
    "model.fit(interactions)"
   ]
  },
  {
   "cell_type": "code",
   "execution_count": 43,
   "id": "9fc84c16",
   "metadata": {},
   "outputs": [
    {
     "data": {
      "text/plain": [
       "[4273, 7793, 5695, 15469, 7453, 11586, 5482, 6809, 10688, 13865]"
      ]
     },
     "execution_count": 43,
     "metadata": {},
     "output_type": "execute_result"
    }
   ],
   "source": [
    "model.predict_for_one_user(176549, 10)"
   ]
  },
  {
   "cell_type": "markdown",
   "id": "d1506b59",
   "metadata": {},
   "source": [
    "Let's save model"
   ]
  },
  {
   "cell_type": "code",
   "execution_count": 28,
   "id": "9f079b19",
   "metadata": {},
   "outputs": [],
   "source": [
    "os.makedirs('knn_models', exist_ok=True)\n",
    "with open('knn_models/bm25_itemknn.pickle', 'wb') as handle:\n",
    "    pickle.dump(model, handle)"
   ]
  },
  {
   "cell_type": "markdown",
   "id": "9153173d",
   "metadata": {},
   "source": [
    "Loading the model to check that everything is correct"
   ]
  },
  {
   "cell_type": "code",
   "execution_count": 29,
   "id": "f472f1aa",
   "metadata": {},
   "outputs": [],
   "source": [
    "with open('knn_models/bm25_itemknn.pickle', 'rb') as handle:\n",
    "    load_model = pickle.load(handle)"
   ]
  },
  {
   "cell_type": "code",
   "execution_count": 42,
   "id": "e00b6339",
   "metadata": {},
   "outputs": [
    {
     "data": {
      "text/plain": [
       "[4273, 7793, 5695, 15469, 7453, 11586, 5482, 6809, 10688, 13865]"
      ]
     },
     "execution_count": 42,
     "metadata": {},
     "output_type": "execute_result"
    }
   ],
   "source": [
    "load_model.predict_for_one_user(176549, 10)"
   ]
  },
  {
   "cell_type": "code",
   "execution_count": null,
   "id": "f9affb5d",
   "metadata": {},
   "outputs": [],
   "source": []
  }
 ],
 "metadata": {
  "kernelspec": {
   "display_name": "Python 3 (ipykernel)",
   "language": "python",
   "name": "python3"
  },
  "language_info": {
   "codemirror_mode": {
    "name": "ipython",
    "version": 3
   },
   "file_extension": ".py",
   "mimetype": "text/x-python",
   "name": "python",
   "nbconvert_exporter": "python",
   "pygments_lexer": "ipython3",
   "version": "3.8.10"
  }
 },
 "nbformat": 4,
 "nbformat_minor": 5
}
