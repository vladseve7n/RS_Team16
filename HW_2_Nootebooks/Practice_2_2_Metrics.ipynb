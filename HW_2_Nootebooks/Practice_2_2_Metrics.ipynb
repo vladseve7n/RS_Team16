{
  "cells": [
    {
      "cell_type": "markdown",
      "metadata": {
        "id": "a00c6db1"
      },
      "source": [
        "# Метрики\n",
        "\n",
        "## Imports"
      ],
      "id": "a00c6db1"
    },
    {
      "cell_type": "code",
      "execution_count": 1,
      "metadata": {
        "colab": {
          "base_uri": "https://localhost:8080/"
        },
        "id": "14dec809",
        "outputId": "2bff6427-c99b-473e-fa48-a088de6391bc"
      },
      "outputs": [
        {
          "output_type": "stream",
          "name": "stdout",
          "text": [
            "Looking in indexes: https://pypi.org/simple, https://us-python.pkg.dev/colab-wheels/public/simple/\n",
            "Collecting rectools\n",
            "  Downloading RecTools-0.3.0-py3-none-any.whl (89 kB)\n",
            "\u001b[K     |████████████████████████████████| 89 kB 1.8 MB/s \n",
            "\u001b[?25hRequirement already satisfied: numpy<2.0.0,>=1.19.5 in /usr/local/lib/python3.7/dist-packages (from rectools) (1.21.6)\n",
            "Collecting lightfm<2.0,>=1.16\n",
            "  Downloading lightfm-1.16.tar.gz (310 kB)\n",
            "\u001b[K     |████████████████████████████████| 310 kB 50.0 MB/s \n",
            "\u001b[?25hRequirement already satisfied: tqdm<5.0.0,>=4.27.0 in /usr/local/lib/python3.7/dist-packages (from rectools) (4.64.1)\n",
            "Collecting implicit==0.4.4\n",
            "  Downloading implicit-0.4.4.tar.gz (1.1 MB)\n",
            "\u001b[K     |████████████████████████████████| 1.1 MB 49.4 MB/s \n",
            "\u001b[?25hCollecting nmslib<3.0.0,>=2.0.4\n",
            "  Downloading nmslib-2.1.1-cp37-cp37m-manylinux2010_x86_64.whl (13.5 MB)\n",
            "\u001b[K     |████████████████████████████████| 13.5 MB 25.5 MB/s \n",
            "\u001b[?25hCollecting Markdown<3.3,>=3.2\n",
            "  Downloading Markdown-3.2.2-py3-none-any.whl (88 kB)\n",
            "\u001b[K     |████████████████████████████████| 88 kB 8.0 MB/s \n",
            "\u001b[?25hRequirement already satisfied: pandas<2.0.0,>=0.25.3 in /usr/local/lib/python3.7/dist-packages (from rectools) (1.3.5)\n",
            "Requirement already satisfied: scipy<2.0.0,>=1.5.4 in /usr/local/lib/python3.7/dist-packages (from rectools) (1.7.3)\n",
            "Requirement already satisfied: typeguard<3.0.0,>=2.0.1 in /usr/local/lib/python3.7/dist-packages (from rectools) (2.7.1)\n",
            "Collecting attrs<22.0.0,>=19.1.0\n",
            "  Downloading attrs-21.4.0-py2.py3-none-any.whl (60 kB)\n",
            "\u001b[K     |████████████████████████████████| 60 kB 7.8 MB/s \n",
            "\u001b[?25hRequirement already satisfied: requests in /usr/local/lib/python3.7/dist-packages (from lightfm<2.0,>=1.16->rectools) (2.23.0)\n",
            "Requirement already satisfied: scikit-learn in /usr/local/lib/python3.7/dist-packages (from lightfm<2.0,>=1.16->rectools) (1.0.2)\n",
            "Requirement already satisfied: importlib-metadata in /usr/local/lib/python3.7/dist-packages (from Markdown<3.3,>=3.2->rectools) (4.13.0)\n",
            "Requirement already satisfied: psutil in /usr/local/lib/python3.7/dist-packages (from nmslib<3.0.0,>=2.0.4->rectools) (5.4.8)\n",
            "Collecting pybind11<2.6.2\n",
            "  Downloading pybind11-2.6.1-py2.py3-none-any.whl (188 kB)\n",
            "\u001b[K     |████████████████████████████████| 188 kB 73.8 MB/s \n",
            "\u001b[?25hRequirement already satisfied: python-dateutil>=2.7.3 in /usr/local/lib/python3.7/dist-packages (from pandas<2.0.0,>=0.25.3->rectools) (2.8.2)\n",
            "Requirement already satisfied: pytz>=2017.3 in /usr/local/lib/python3.7/dist-packages (from pandas<2.0.0,>=0.25.3->rectools) (2022.6)\n",
            "Requirement already satisfied: six>=1.5 in /usr/local/lib/python3.7/dist-packages (from python-dateutil>=2.7.3->pandas<2.0.0,>=0.25.3->rectools) (1.15.0)\n",
            "Requirement already satisfied: typing-extensions>=3.6.4 in /usr/local/lib/python3.7/dist-packages (from importlib-metadata->Markdown<3.3,>=3.2->rectools) (4.1.1)\n",
            "Requirement already satisfied: zipp>=0.5 in /usr/local/lib/python3.7/dist-packages (from importlib-metadata->Markdown<3.3,>=3.2->rectools) (3.10.0)\n",
            "Requirement already satisfied: idna<3,>=2.5 in /usr/local/lib/python3.7/dist-packages (from requests->lightfm<2.0,>=1.16->rectools) (2.10)\n",
            "Requirement already satisfied: urllib3!=1.25.0,!=1.25.1,<1.26,>=1.21.1 in /usr/local/lib/python3.7/dist-packages (from requests->lightfm<2.0,>=1.16->rectools) (1.24.3)\n",
            "Requirement already satisfied: certifi>=2017.4.17 in /usr/local/lib/python3.7/dist-packages (from requests->lightfm<2.0,>=1.16->rectools) (2022.9.24)\n",
            "Requirement already satisfied: chardet<4,>=3.0.2 in /usr/local/lib/python3.7/dist-packages (from requests->lightfm<2.0,>=1.16->rectools) (3.0.4)\n",
            "Requirement already satisfied: threadpoolctl>=2.0.0 in /usr/local/lib/python3.7/dist-packages (from scikit-learn->lightfm<2.0,>=1.16->rectools) (3.1.0)\n",
            "Requirement already satisfied: joblib>=0.11 in /usr/local/lib/python3.7/dist-packages (from scikit-learn->lightfm<2.0,>=1.16->rectools) (1.2.0)\n",
            "Building wheels for collected packages: implicit, lightfm\n",
            "  Building wheel for implicit (setup.py) ... \u001b[?25l\u001b[?25hdone\n",
            "  Created wheel for implicit: filename=implicit-0.4.4-cp37-cp37m-linux_x86_64.whl size=3411082 sha256=2e9750b93a4d03161ffe55b7a5bd20af378ee8c8d14340b199a3233c9f61b558\n",
            "  Stored in directory: /root/.cache/pip/wheels/44/7e/7d/a17324ea207cfbe76aca878b5b8ca0aa932cf55d163329be37\n",
            "  Building wheel for lightfm (setup.py) ... \u001b[?25l\u001b[?25hdone\n",
            "  Created wheel for lightfm: filename=lightfm-1.16-cp37-cp37m-linux_x86_64.whl size=705378 sha256=55746632c4373f7fbabd3ea0df618ecbec6e8c23cd8607141b965df0d41fec07\n",
            "  Stored in directory: /root/.cache/pip/wheels/f8/56/28/5772a3bd3413d65f03aa452190b00898b680b10028a1021914\n",
            "Successfully built implicit lightfm\n",
            "Installing collected packages: pybind11, nmslib, Markdown, lightfm, implicit, attrs, rectools\n",
            "  Attempting uninstall: Markdown\n",
            "    Found existing installation: Markdown 3.4.1\n",
            "    Uninstalling Markdown-3.4.1:\n",
            "      Successfully uninstalled Markdown-3.4.1\n",
            "  Attempting uninstall: attrs\n",
            "    Found existing installation: attrs 22.1.0\n",
            "    Uninstalling attrs-22.1.0:\n",
            "      Successfully uninstalled attrs-22.1.0\n",
            "Successfully installed Markdown-3.2.2 attrs-21.4.0 implicit-0.4.4 lightfm-1.16 nmslib-2.1.1 pybind11-2.6.1 rectools-0.3.0\n",
            "Looking in indexes: https://pypi.org/simple, https://us-python.pkg.dev/colab-wheels/public/simple/\n",
            "Requirement already satisfied: pandas in /usr/local/lib/python3.7/dist-packages (1.3.5)\n",
            "Requirement already satisfied: numpy>=1.17.3 in /usr/local/lib/python3.7/dist-packages (from pandas) (1.21.6)\n",
            "Requirement already satisfied: python-dateutil>=2.7.3 in /usr/local/lib/python3.7/dist-packages (from pandas) (2.8.2)\n",
            "Requirement already satisfied: pytz>=2017.3 in /usr/local/lib/python3.7/dist-packages (from pandas) (2022.6)\n",
            "Requirement already satisfied: six>=1.5 in /usr/local/lib/python3.7/dist-packages (from python-dateutil>=2.7.3->pandas) (1.15.0)\n",
            "Looking in indexes: https://pypi.org/simple, https://us-python.pkg.dev/colab-wheels/public/simple/\n",
            "Requirement already satisfied: numba in /usr/local/lib/python3.7/dist-packages (0.56.4)\n",
            "Requirement already satisfied: llvmlite<0.40,>=0.39.0dev0 in /usr/local/lib/python3.7/dist-packages (from numba) (0.39.1)\n",
            "Requirement already satisfied: numpy<1.24,>=1.18 in /usr/local/lib/python3.7/dist-packages (from numba) (1.21.6)\n",
            "Requirement already satisfied: setuptools in /usr/local/lib/python3.7/dist-packages (from numba) (57.4.0)\n",
            "Requirement already satisfied: importlib-metadata in /usr/local/lib/python3.7/dist-packages (from numba) (4.13.0)\n",
            "Requirement already satisfied: zipp>=0.5 in /usr/local/lib/python3.7/dist-packages (from importlib-metadata->numba) (3.10.0)\n",
            "Requirement already satisfied: typing-extensions>=3.6.4 in /usr/local/lib/python3.7/dist-packages (from importlib-metadata->numba) (4.1.1)\n",
            "Looking in indexes: https://pypi.org/simple, https://us-python.pkg.dev/colab-wheels/public/simple/\n",
            "Requirement already satisfied: numpy in /usr/local/lib/python3.7/dist-packages (1.21.6)\n"
          ]
        }
      ],
      "source": [
        "!pip install rectools\n",
        "!pip install pandas\n",
        "!pip install numba\n",
        "!pip install numpy\n",
        "import pandas as pd\n",
        "import numpy as np\n",
        "import numba as nb\n",
        "\n",
        "from tqdm.auto import tqdm\n",
        "from rectools import Columns"
      ],
      "id": "14dec809"
    },
    {
      "cell_type": "code",
      "execution_count": 2,
      "metadata": {
        "id": "e3551b5e"
      },
      "outputs": [],
      "source": [
        "np.random.seed(23)"
      ],
      "id": "e3551b5e"
    },
    {
      "cell_type": "markdown",
      "metadata": {
        "id": "86146c27"
      },
      "source": [
        "## Homework\n",
        "\n",
        "### PFound\n",
        "Исходные данные - Yandex Cup 2022 Analytics\n",
        "- Ссылка - https://yandex.ru/cup/analytics/analysis/ , пример A. Рассчитать pFound\n",
        "- Данные - https://yadi.sk/d/guqki4UI4hFlXQ\n",
        "- Формула\n",
        "$$pFound@K = \\sum_{i=1}^{k} pLook[i]\\ pRel[i]$$\n",
        "\n",
        "$$pLook[1] = 1$$\n",
        "\n",
        "$$pLook[i] = pLook[i-1]\\ (1 - pRel[i-1])\\ (1 - pBreak)$$\n",
        "\n",
        "$$pBreak = 0.15$$\n",
        "\n",
        "**Задача** - написать функцию, которая принимает на вход dataframe (после join), а на выходе дает средний pFound по всем query.\n",
        "- Запрещается использовать циклы for для расчет метрики (как полностью, так и ее частей).\n",
        "- Усложнение, если задача показалась легкой - попробуйте обойтись без groupby (не уверен, что это возможно, но вдруг вы справитесь)\n",
        "\n",
        "### MRR\n",
        "Исходные данные - результат `generate_subsample` \n",
        "\n",
        "**Задача** - по аналогии с precision написать три версии функции подсчета Mean Reciprocal Rank (naive, numba, pandas) и протестировать на разных размерах выборки\n",
        "- Протестируйте для всех комбинаций (users_count, top_k):\n",
        "  - users_count - [100, 1000, 10000, 100000]\n",
        "  - top_k - [10, 50, 100]\n",
        "- Результатом тестирования должен быть график, где будут отражены следующие показатели:\n",
        "  - Алгоритм - naive, numba, pandas\n",
        "  - Скорость работы (время)\n",
        "  - users_count\n",
        "  - top_k"
      ],
      "id": "86146c27"
    },
    {
      "cell_type": "code",
      "execution_count": 3,
      "metadata": {
        "colab": {
          "base_uri": "https://localhost:8080/"
        },
        "id": "a0e001ef",
        "outputId": "76472f6c-2059-4d02-8c49-d9f6bea026de"
      },
      "outputs": [
        {
          "output_type": "stream",
          "name": "stdout",
          "text": [
            "Mounted at /content/drive\n"
          ]
        }
      ],
      "source": [
        "from google.colab import drive\n",
        "drive.mount('/content/drive')"
      ],
      "id": "a0e001ef"
    },
    {
      "cell_type": "code",
      "execution_count": 4,
      "metadata": {
        "id": "Mow8oB2wsD_M"
      },
      "outputs": [],
      "source": [
        "import requests\n",
        "url = 'https://github.com/irsafilo/KION_DATASET/raw/f69775be31fa5779907cf0a92ddedb70037fb5ae/data_original.zip'"
      ],
      "id": "Mow8oB2wsD_M"
    },
    {
      "cell_type": "code",
      "execution_count": 5,
      "metadata": {
        "colab": {
          "base_uri": "https://localhost:8080/",
          "height": 49,
          "referenced_widgets": [
            "4d4d65fc43d544c49b919281fb3f3b29",
            "779fbd0c80ee424a8ecf4f21ef7f7e54",
            "2729c6c1634f4b4fba4b8d1855620eae",
            "d31ec5e67a2b489d9e5c64f0f019adb9",
            "d4172a66db40435c8bc50be658f9935c",
            "a22f3a7adeae4317b2ab7fb194faec4e",
            "0a35d9c677fc4f1a9caf665a7c45b81e",
            "f1a35270a97e4349b0cd8b846f9b61cf",
            "7c4569c9bceb46f8b962b8225ab545c4",
            "783535aa76e744d6a041785c4c8612d6",
            "fe1d7f8d43964dfe964424ec128ce710"
          ]
        },
        "id": "2T2jNCMRsEB7",
        "outputId": "9359087d-56c6-45d0-d48f-ba84f9766c64"
      },
      "outputs": [
        {
          "output_type": "display_data",
          "data": {
            "text/plain": [
              "kion dataset download:   0%|          | 0.00/78.8M [00:00<?, ?iB/s]"
            ],
            "application/vnd.jupyter.widget-view+json": {
              "version_major": 2,
              "version_minor": 0,
              "model_id": "4d4d65fc43d544c49b919281fb3f3b29"
            }
          },
          "metadata": {}
        }
      ],
      "source": [
        "req = requests.get(url, stream=True)\n",
        "\n",
        "with open('kion.zip', 'wb') as fd:\n",
        "    total_size_in_bytes = int(req.headers.get('Content-Length', 0))\n",
        "    progress_bar = tqdm(desc='kion dataset download', total=total_size_in_bytes, unit='iB', unit_scale=True)\n",
        "    for chunk in req.iter_content(chunk_size=2 ** 20):\n",
        "        progress_bar.update(len(chunk))\n",
        "        fd.write(chunk)"
      ],
      "id": "2T2jNCMRsEB7"
    },
    {
      "cell_type": "code",
      "execution_count": 6,
      "metadata": {
        "id": "hRQdDJt9sEFL"
      },
      "outputs": [],
      "source": [
        "import zipfile as zf\n",
        "\n",
        "files = zf.ZipFile('kion.zip','r')\n",
        "files.extractall()\n",
        "files.close()"
      ],
      "id": "hRQdDJt9sEFL"
    },
    {
      "cell_type": "code",
      "execution_count": 7,
      "metadata": {
        "id": "7rvcj4DbsEIL"
      },
      "outputs": [],
      "source": [
        "interactions = pd.read_csv('data_original/interactions.csv')\n",
        "\n",
        "interactions.rename(\n",
        "    columns={\n",
        "        'track_id': Columns.Item,\n",
        "        'last_watch_dt': Columns.Datetime,\n",
        "        'total_dur': Columns.Weight\n",
        "    }, \n",
        "    inplace=True) \n",
        "\n",
        "interactions[Columns.Datetime] = pd.to_datetime(interactions[Columns.Datetime])"
      ],
      "id": "7rvcj4DbsEIL"
    },
    {
      "cell_type": "code",
      "execution_count": 8,
      "metadata": {
        "colab": {
          "base_uri": "https://localhost:8080/",
          "height": 419
        },
        "id": "_xufRyoHsELN",
        "outputId": "a9ffaac8-b614-4c59-a087-c3cf7f85a260"
      },
      "outputs": [
        {
          "output_type": "execute_result",
          "data": {
            "text/plain": [
              "         user_id  item_id   datetime  weight  watched_pct\n",
              "0         176549     9506 2021-05-11    4250         72.0\n",
              "1         699317     1659 2021-05-29    8317        100.0\n",
              "2         656683     7107 2021-05-09      10          0.0\n",
              "3         864613     7638 2021-07-05   14483        100.0\n",
              "4         964868     9506 2021-04-30    6725        100.0\n",
              "...          ...      ...        ...     ...          ...\n",
              "5476246   648596    12225 2021-08-13      76          0.0\n",
              "5476247   546862     9673 2021-04-13    2308         49.0\n",
              "5476248   697262    15297 2021-08-20   18307         63.0\n",
              "5476249   384202    16197 2021-04-19    6203        100.0\n",
              "5476250   319709     4436 2021-08-15    3921         45.0\n",
              "\n",
              "[5476251 rows x 5 columns]"
            ],
            "text/html": [
              "\n",
              "  <div id=\"df-c5bf92fc-c5a2-4da9-9125-a342e05f89cf\">\n",
              "    <div class=\"colab-df-container\">\n",
              "      <div>\n",
              "<style scoped>\n",
              "    .dataframe tbody tr th:only-of-type {\n",
              "        vertical-align: middle;\n",
              "    }\n",
              "\n",
              "    .dataframe tbody tr th {\n",
              "        vertical-align: top;\n",
              "    }\n",
              "\n",
              "    .dataframe thead th {\n",
              "        text-align: right;\n",
              "    }\n",
              "</style>\n",
              "<table border=\"1\" class=\"dataframe\">\n",
              "  <thead>\n",
              "    <tr style=\"text-align: right;\">\n",
              "      <th></th>\n",
              "      <th>user_id</th>\n",
              "      <th>item_id</th>\n",
              "      <th>datetime</th>\n",
              "      <th>weight</th>\n",
              "      <th>watched_pct</th>\n",
              "    </tr>\n",
              "  </thead>\n",
              "  <tbody>\n",
              "    <tr>\n",
              "      <th>0</th>\n",
              "      <td>176549</td>\n",
              "      <td>9506</td>\n",
              "      <td>2021-05-11</td>\n",
              "      <td>4250</td>\n",
              "      <td>72.0</td>\n",
              "    </tr>\n",
              "    <tr>\n",
              "      <th>1</th>\n",
              "      <td>699317</td>\n",
              "      <td>1659</td>\n",
              "      <td>2021-05-29</td>\n",
              "      <td>8317</td>\n",
              "      <td>100.0</td>\n",
              "    </tr>\n",
              "    <tr>\n",
              "      <th>2</th>\n",
              "      <td>656683</td>\n",
              "      <td>7107</td>\n",
              "      <td>2021-05-09</td>\n",
              "      <td>10</td>\n",
              "      <td>0.0</td>\n",
              "    </tr>\n",
              "    <tr>\n",
              "      <th>3</th>\n",
              "      <td>864613</td>\n",
              "      <td>7638</td>\n",
              "      <td>2021-07-05</td>\n",
              "      <td>14483</td>\n",
              "      <td>100.0</td>\n",
              "    </tr>\n",
              "    <tr>\n",
              "      <th>4</th>\n",
              "      <td>964868</td>\n",
              "      <td>9506</td>\n",
              "      <td>2021-04-30</td>\n",
              "      <td>6725</td>\n",
              "      <td>100.0</td>\n",
              "    </tr>\n",
              "    <tr>\n",
              "      <th>...</th>\n",
              "      <td>...</td>\n",
              "      <td>...</td>\n",
              "      <td>...</td>\n",
              "      <td>...</td>\n",
              "      <td>...</td>\n",
              "    </tr>\n",
              "    <tr>\n",
              "      <th>5476246</th>\n",
              "      <td>648596</td>\n",
              "      <td>12225</td>\n",
              "      <td>2021-08-13</td>\n",
              "      <td>76</td>\n",
              "      <td>0.0</td>\n",
              "    </tr>\n",
              "    <tr>\n",
              "      <th>5476247</th>\n",
              "      <td>546862</td>\n",
              "      <td>9673</td>\n",
              "      <td>2021-04-13</td>\n",
              "      <td>2308</td>\n",
              "      <td>49.0</td>\n",
              "    </tr>\n",
              "    <tr>\n",
              "      <th>5476248</th>\n",
              "      <td>697262</td>\n",
              "      <td>15297</td>\n",
              "      <td>2021-08-20</td>\n",
              "      <td>18307</td>\n",
              "      <td>63.0</td>\n",
              "    </tr>\n",
              "    <tr>\n",
              "      <th>5476249</th>\n",
              "      <td>384202</td>\n",
              "      <td>16197</td>\n",
              "      <td>2021-04-19</td>\n",
              "      <td>6203</td>\n",
              "      <td>100.0</td>\n",
              "    </tr>\n",
              "    <tr>\n",
              "      <th>5476250</th>\n",
              "      <td>319709</td>\n",
              "      <td>4436</td>\n",
              "      <td>2021-08-15</td>\n",
              "      <td>3921</td>\n",
              "      <td>45.0</td>\n",
              "    </tr>\n",
              "  </tbody>\n",
              "</table>\n",
              "<p>5476251 rows × 5 columns</p>\n",
              "</div>\n",
              "      <button class=\"colab-df-convert\" onclick=\"convertToInteractive('df-c5bf92fc-c5a2-4da9-9125-a342e05f89cf')\"\n",
              "              title=\"Convert this dataframe to an interactive table.\"\n",
              "              style=\"display:none;\">\n",
              "        \n",
              "  <svg xmlns=\"http://www.w3.org/2000/svg\" height=\"24px\"viewBox=\"0 0 24 24\"\n",
              "       width=\"24px\">\n",
              "    <path d=\"M0 0h24v24H0V0z\" fill=\"none\"/>\n",
              "    <path d=\"M18.56 5.44l.94 2.06.94-2.06 2.06-.94-2.06-.94-.94-2.06-.94 2.06-2.06.94zm-11 1L8.5 8.5l.94-2.06 2.06-.94-2.06-.94L8.5 2.5l-.94 2.06-2.06.94zm10 10l.94 2.06.94-2.06 2.06-.94-2.06-.94-.94-2.06-.94 2.06-2.06.94z\"/><path d=\"M17.41 7.96l-1.37-1.37c-.4-.4-.92-.59-1.43-.59-.52 0-1.04.2-1.43.59L10.3 9.45l-7.72 7.72c-.78.78-.78 2.05 0 2.83L4 21.41c.39.39.9.59 1.41.59.51 0 1.02-.2 1.41-.59l7.78-7.78 2.81-2.81c.8-.78.8-2.07 0-2.86zM5.41 20L4 18.59l7.72-7.72 1.47 1.35L5.41 20z\"/>\n",
              "  </svg>\n",
              "      </button>\n",
              "      \n",
              "  <style>\n",
              "    .colab-df-container {\n",
              "      display:flex;\n",
              "      flex-wrap:wrap;\n",
              "      gap: 12px;\n",
              "    }\n",
              "\n",
              "    .colab-df-convert {\n",
              "      background-color: #E8F0FE;\n",
              "      border: none;\n",
              "      border-radius: 50%;\n",
              "      cursor: pointer;\n",
              "      display: none;\n",
              "      fill: #1967D2;\n",
              "      height: 32px;\n",
              "      padding: 0 0 0 0;\n",
              "      width: 32px;\n",
              "    }\n",
              "\n",
              "    .colab-df-convert:hover {\n",
              "      background-color: #E2EBFA;\n",
              "      box-shadow: 0px 1px 2px rgba(60, 64, 67, 0.3), 0px 1px 3px 1px rgba(60, 64, 67, 0.15);\n",
              "      fill: #174EA6;\n",
              "    }\n",
              "\n",
              "    [theme=dark] .colab-df-convert {\n",
              "      background-color: #3B4455;\n",
              "      fill: #D2E3FC;\n",
              "    }\n",
              "\n",
              "    [theme=dark] .colab-df-convert:hover {\n",
              "      background-color: #434B5C;\n",
              "      box-shadow: 0px 1px 3px 1px rgba(0, 0, 0, 0.15);\n",
              "      filter: drop-shadow(0px 1px 2px rgba(0, 0, 0, 0.3));\n",
              "      fill: #FFFFFF;\n",
              "    }\n",
              "  </style>\n",
              "\n",
              "      <script>\n",
              "        const buttonEl =\n",
              "          document.querySelector('#df-c5bf92fc-c5a2-4da9-9125-a342e05f89cf button.colab-df-convert');\n",
              "        buttonEl.style.display =\n",
              "          google.colab.kernel.accessAllowed ? 'block' : 'none';\n",
              "\n",
              "        async function convertToInteractive(key) {\n",
              "          const element = document.querySelector('#df-c5bf92fc-c5a2-4da9-9125-a342e05f89cf');\n",
              "          const dataTable =\n",
              "            await google.colab.kernel.invokeFunction('convertToInteractive',\n",
              "                                                     [key], {});\n",
              "          if (!dataTable) return;\n",
              "\n",
              "          const docLinkHtml = 'Like what you see? Visit the ' +\n",
              "            '<a target=\"_blank\" href=https://colab.research.google.com/notebooks/data_table.ipynb>data table notebook</a>'\n",
              "            + ' to learn more about interactive tables.';\n",
              "          element.innerHTML = '';\n",
              "          dataTable['output_type'] = 'display_data';\n",
              "          await google.colab.output.renderOutput(dataTable, element);\n",
              "          const docLink = document.createElement('div');\n",
              "          docLink.innerHTML = docLinkHtml;\n",
              "          element.appendChild(docLink);\n",
              "        }\n",
              "      </script>\n",
              "    </div>\n",
              "  </div>\n",
              "  "
            ]
          },
          "metadata": {},
          "execution_count": 8
        }
      ],
      "source": [
        "interactions"
      ],
      "id": "_xufRyoHsELN"
    },
    {
      "cell_type": "code",
      "execution_count": 9,
      "metadata": {
        "id": "s6-vg-35wVsu"
      },
      "outputs": [],
      "source": [
        "users = pd.read_csv('data_original/users.csv')\n",
        "items = pd.read_csv('data_original/items.csv')"
      ],
      "id": "s6-vg-35wVsu"
    },
    {
      "cell_type": "code",
      "execution_count": 10,
      "metadata": {
        "id": "BtIZvHSrwbTU"
      },
      "outputs": [],
      "source": [
        "def generate_subsample(n_users, top_k):\n",
        "  users = np.random.choice(interactions['user_id'].unique(), n_users)\n",
        "  interactions_new = interactions[interactions['user_id'].isin(users)].reset_index(drop=True)\n",
        "  recs = np.random.choice(interactions_new['item_id'], size=(n_users, top_k))\n",
        "  return users, interactions_new.drop(['datetime', 'weight', 'watched_pct'], axis=1).values, recs"
      ],
      "id": "BtIZvHSrwbTU"
    },
    {
      "cell_type": "code",
      "execution_count": 11,
      "metadata": {
        "id": "zENh0Ol9xII2"
      },
      "outputs": [],
      "source": [
        "users_df, target_df, recs_df  = generate_subsample(500, 10)"
      ],
      "id": "zENh0Ol9xII2"
    },
    {
      "cell_type": "markdown",
      "metadata": {
        "id": "kE8_D74ozgKa"
      },
      "source": [
        "Naive"
      ],
      "id": "kE8_D74ozgKa"
    },
    {
      "cell_type": "code",
      "execution_count": 12,
      "metadata": {
        "id": "cQvR7Sk3xoqp"
      },
      "outputs": [],
      "source": [
        "def mrr_naive(users, target, recs):\n",
        "  mrr_sub = []\n",
        "  for i, user in enumerate(users):\n",
        "    user_target = target[target[:, 0] == user][:, 1]\n",
        "    rank = 0.0\n",
        "    for j, rec in enumerate(recs[i]):\n",
        "      if rec in user_target:\n",
        "        rank = 1 / (j + 1)\n",
        "        break\n",
        "    mrr_sub.append(rank)\n",
        "  return sum(mrr_sub) / len(users)"
      ],
      "id": "cQvR7Sk3xoqp"
    },
    {
      "cell_type": "code",
      "execution_count": 13,
      "metadata": {
        "colab": {
          "base_uri": "https://localhost:8080/"
        },
        "id": "_HRv-cvjx-bV",
        "outputId": "fcb4c823-1c65-4afc-eaf4-c312f04b2c32"
      },
      "outputs": [
        {
          "output_type": "execute_result",
          "data": {
            "text/plain": [
              "0.06618253968253965"
            ]
          },
          "metadata": {},
          "execution_count": 13
        }
      ],
      "source": [
        "mrr_naive(users_df, target_df, recs_df)"
      ],
      "id": "_HRv-cvjx-bV"
    },
    {
      "cell_type": "markdown",
      "metadata": {
        "id": "Npm6iunQziDL"
      },
      "source": [
        "Numba"
      ],
      "id": "Npm6iunQziDL"
    },
    {
      "cell_type": "code",
      "execution_count": 14,
      "metadata": {
        "id": "J79J921tyABN"
      },
      "outputs": [],
      "source": [
        "@nb.njit(cache=True, parallel=True)\n",
        "def mrr_numba(users, target, recs):\n",
        "  res = np.zeros(len(users))\n",
        "  for i in nb.prange(len(users)):\n",
        "    user = users[i]\n",
        "    user_target = target[target[:, 0] == user][:, 1]\n",
        "    rank = 0\n",
        "    for j, rec in enumerate(recs[i]):\n",
        "      if rec in user_target:\n",
        "        rank = 1 / (j + 1)\n",
        "        break\n",
        "    res[i] = rank\n",
        "  return res.mean()"
      ],
      "id": "J79J921tyABN"
    },
    {
      "cell_type": "code",
      "execution_count": 15,
      "metadata": {
        "colab": {
          "base_uri": "https://localhost:8080/"
        },
        "id": "N6CENWgazqDX",
        "outputId": "41f39f3a-9630-4f6f-f1cd-5587a7a9a036"
      },
      "outputs": [
        {
          "output_type": "execute_result",
          "data": {
            "text/plain": [
              "0.06618253968253968"
            ]
          },
          "metadata": {},
          "execution_count": 15
        }
      ],
      "source": [
        "mrr_numba(users_df, target_df, recs_df)"
      ],
      "id": "N6CENWgazqDX"
    },
    {
      "cell_type": "code",
      "execution_count": 16,
      "metadata": {
        "id": "77lCIyjmzy0d"
      },
      "outputs": [],
      "source": [
        "def mrr_pandas(users, target, recs):\n",
        "  df_recs = pd.DataFrame({\n",
        "          'user_id': np.repeat(users, recs.shape[1]),\n",
        "          'item_id': recs.ravel()\n",
        "  })\n",
        "  df_recs['rank'] = df_recs.groupby('user_id').cumcount() + 1\n",
        "  target['target'] = 1\n",
        "  df_recs = df_recs.merge(target, how='left', left_on=['user_id', 'item_id'], right_on=['user_id', 'item_id'])\n",
        "  df_recs['mrr'] = 0\n",
        "  df_recs.loc[~df_recs['target'].isna(), 'mrr'] = 1 / (df_recs.loc[~df_recs['target'].isna(), 'rank'])\n",
        "  mrr = df_recs.groupby('user_id')['mrr'].max().mean()\n",
        "  return mrr"
      ],
      "id": "77lCIyjmzy0d"
    },
    {
      "cell_type": "code",
      "execution_count": 17,
      "metadata": {
        "colab": {
          "base_uri": "https://localhost:8080/"
        },
        "id": "KF_ePtOf0ZZ5",
        "outputId": "3ee3d753-0e27-40a3-fba3-3806212497d6"
      },
      "outputs": [
        {
          "output_type": "execute_result",
          "data": {
            "text/plain": [
              "0.06618253968253969"
            ]
          },
          "metadata": {},
          "execution_count": 17
        }
      ],
      "source": [
        "target_df = pd.DataFrame(target_df, columns=['user_id', 'item_id'])\n",
        "mrr_pandas(users_df, target_df, recs_df)"
      ],
      "id": "KF_ePtOf0ZZ5"
    },
    {
      "cell_type": "code",
      "execution_count": 18,
      "metadata": {
        "colab": {
          "base_uri": "https://localhost:8080/",
          "height": 833
        },
        "id": "MwGirjLp1F4q",
        "outputId": "f1ffda3f-26d1-44c3-b789-ad8f7c399b83"
      },
      "outputs": [
        {
          "output_type": "stream",
          "name": "stdout",
          "text": [
            "algo: mrr_naive, user_count: 10, k: 10, avg_time: 0.00042 s\n",
            "algo: mrr_numba, user_count: 10, k: 10, avg_time: 0.00002 s\n",
            "algo: mrr_pandas, user_count: 10, k: 10, avg_time: 0.00819 s\n",
            "\n",
            "algo: mrr_naive, user_count: 10, k: 50, avg_time: 0.00201 s\n",
            "algo: mrr_numba, user_count: 10, k: 50, avg_time: 0.00002 s\n",
            "algo: mrr_pandas, user_count: 10, k: 50, avg_time: 0.00831 s\n",
            "\n",
            "algo: mrr_naive, user_count: 10, k: 100, avg_time: 0.00109 s\n",
            "algo: mrr_numba, user_count: 10, k: 100, avg_time: 0.00722 s\n",
            "algo: mrr_pandas, user_count: 10, k: 100, avg_time: 0.01308 s\n",
            "\n",
            "algo: mrr_naive, user_count: 100, k: 10, avg_time: 0.00618 s\n",
            "algo: mrr_numba, user_count: 100, k: 10, avg_time: 0.02099 s\n",
            "algo: mrr_pandas, user_count: 100, k: 10, avg_time: 0.01066 s\n",
            "\n",
            "algo: mrr_naive, user_count: 100, k: 50, avg_time: 0.02112 s\n",
            "algo: mrr_numba, user_count: 100, k: 50, avg_time: 0.00891 s\n",
            "algo: mrr_pandas, user_count: 100, k: 50, avg_time: 0.01705 s\n",
            "\n",
            "algo: mrr_naive, user_count: 100, k: 100, avg_time: 0.03213 s\n",
            "algo: mrr_numba, user_count: 100, k: 100, avg_time: 0.03736 s\n",
            "algo: mrr_pandas, user_count: 100, k: 100, avg_time: 0.01827 s\n",
            "\n",
            "algo: mrr_naive, user_count: 1000, k: 10, avg_time: 0.11901 s\n",
            "algo: mrr_numba, user_count: 1000, k: 10, avg_time: 0.01546 s\n",
            "algo: mrr_pandas, user_count: 1000, k: 10, avg_time: 0.00894 s\n",
            "\n",
            "algo: mrr_naive, user_count: 1000, k: 50, avg_time: 0.11926 s\n",
            "algo: mrr_numba, user_count: 1000, k: 50, avg_time: 0.01131 s\n",
            "algo: mrr_pandas, user_count: 1000, k: 50, avg_time: 0.01785 s\n",
            "\n",
            "algo: mrr_naive, user_count: 1000, k: 100, avg_time: 0.17416 s\n",
            "algo: mrr_numba, user_count: 1000, k: 100, avg_time: 0.01048 s\n",
            "algo: mrr_pandas, user_count: 1000, k: 100, avg_time: 0.02639 s\n",
            "\n",
            "algo: mrr_naive, user_count: 10000, k: 10, avg_time: 1.52505 s\n",
            "algo: mrr_numba, user_count: 10000, k: 10, avg_time: 0.96902 s\n",
            "algo: mrr_pandas, user_count: 10000, k: 10, avg_time: 0.04296 s\n",
            "\n",
            "algo: mrr_naive, user_count: 10000, k: 50, avg_time: 2.22131 s\n",
            "algo: mrr_numba, user_count: 10000, k: 50, avg_time: 0.95226 s\n",
            "algo: mrr_pandas, user_count: 10000, k: 50, avg_time: 0.13408 s\n",
            "\n",
            "algo: mrr_naive, user_count: 10000, k: 100, avg_time: 3.47288 s\n",
            "algo: mrr_numba, user_count: 10000, k: 100, avg_time: 0.95087 s\n",
            "algo: mrr_pandas, user_count: 10000, k: 100, avg_time: 0.25010 s\n",
            "\n"
          ]
        }
      ],
      "source": [
        "from itertools import product\n",
        "\n",
        "import timeit\n",
        "\n",
        "users_count = [10, 100, 1000, 10000]\n",
        "top_k = [10, 50, 100]\n",
        "n_runs = 5\n",
        "res = []\n",
        "\n",
        "for u_count, k in list(product(users_count, top_k)):\n",
        "  users, target, recs = generate_subsample(u_count, k)\n",
        "  for algo in [mrr_naive, mrr_numba, mrr_pandas]:\n",
        "    algo_name =  algo.__name__\n",
        "    if algo_name == 'mrr_pandas':\n",
        "      target = pd.DataFrame(target, columns=['user_id', 'item_id'])\n",
        "\n",
        "    avg_time = timeit.timeit('algo(users, target, recs)', \"from __main__ import algo, users, target, recs\" , number=n_runs) / n_runs\n",
        "    print(f'algo: {algo_name}, user_count: {u_count}, k: {k}, avg_time: {avg_time:0.5f} s')\n",
        "\n",
        "    res.append({\n",
        "        'top_k': k,\n",
        "        'users_count': u_count,\n",
        "        'algo': algo_name,\n",
        "        'avg_time': avg_time\n",
        "    })\n",
        "  print()\n",
        "\n",
        "res = pd.DataFrame(res)"
      ],
      "id": "MwGirjLp1F4q"
    },
    {
      "cell_type": "code",
      "execution_count": 21,
      "metadata": {
        "id": "2_d6P6Yn1ZEL",
        "colab": {
          "base_uri": "https://localhost:8080/",
          "height": 204
        },
        "outputId": "2e9fbe74-1372-4909-9eba-0e650a8eec7b"
      },
      "outputs": [
        {
          "output_type": "execute_result",
          "data": {
            "text/plain": [
              "   top_k  users_count        algo  avg_time\n",
              "0     10           10   mrr_naive  0.000424\n",
              "1     10           10   mrr_numba  0.000015\n",
              "2     10           10  mrr_pandas  0.008187\n",
              "3     50           10   mrr_naive  0.002006\n",
              "4     50           10   mrr_numba  0.000018"
            ],
            "text/html": [
              "\n",
              "  <div id=\"df-1c990d0d-cf06-4eb9-8aa9-0dbc5660423c\">\n",
              "    <div class=\"colab-df-container\">\n",
              "      <div>\n",
              "<style scoped>\n",
              "    .dataframe tbody tr th:only-of-type {\n",
              "        vertical-align: middle;\n",
              "    }\n",
              "\n",
              "    .dataframe tbody tr th {\n",
              "        vertical-align: top;\n",
              "    }\n",
              "\n",
              "    .dataframe thead th {\n",
              "        text-align: right;\n",
              "    }\n",
              "</style>\n",
              "<table border=\"1\" class=\"dataframe\">\n",
              "  <thead>\n",
              "    <tr style=\"text-align: right;\">\n",
              "      <th></th>\n",
              "      <th>top_k</th>\n",
              "      <th>users_count</th>\n",
              "      <th>algo</th>\n",
              "      <th>avg_time</th>\n",
              "    </tr>\n",
              "  </thead>\n",
              "  <tbody>\n",
              "    <tr>\n",
              "      <th>0</th>\n",
              "      <td>10</td>\n",
              "      <td>10</td>\n",
              "      <td>mrr_naive</td>\n",
              "      <td>0.000424</td>\n",
              "    </tr>\n",
              "    <tr>\n",
              "      <th>1</th>\n",
              "      <td>10</td>\n",
              "      <td>10</td>\n",
              "      <td>mrr_numba</td>\n",
              "      <td>0.000015</td>\n",
              "    </tr>\n",
              "    <tr>\n",
              "      <th>2</th>\n",
              "      <td>10</td>\n",
              "      <td>10</td>\n",
              "      <td>mrr_pandas</td>\n",
              "      <td>0.008187</td>\n",
              "    </tr>\n",
              "    <tr>\n",
              "      <th>3</th>\n",
              "      <td>50</td>\n",
              "      <td>10</td>\n",
              "      <td>mrr_naive</td>\n",
              "      <td>0.002006</td>\n",
              "    </tr>\n",
              "    <tr>\n",
              "      <th>4</th>\n",
              "      <td>50</td>\n",
              "      <td>10</td>\n",
              "      <td>mrr_numba</td>\n",
              "      <td>0.000018</td>\n",
              "    </tr>\n",
              "  </tbody>\n",
              "</table>\n",
              "</div>\n",
              "      <button class=\"colab-df-convert\" onclick=\"convertToInteractive('df-1c990d0d-cf06-4eb9-8aa9-0dbc5660423c')\"\n",
              "              title=\"Convert this dataframe to an interactive table.\"\n",
              "              style=\"display:none;\">\n",
              "        \n",
              "  <svg xmlns=\"http://www.w3.org/2000/svg\" height=\"24px\"viewBox=\"0 0 24 24\"\n",
              "       width=\"24px\">\n",
              "    <path d=\"M0 0h24v24H0V0z\" fill=\"none\"/>\n",
              "    <path d=\"M18.56 5.44l.94 2.06.94-2.06 2.06-.94-2.06-.94-.94-2.06-.94 2.06-2.06.94zm-11 1L8.5 8.5l.94-2.06 2.06-.94-2.06-.94L8.5 2.5l-.94 2.06-2.06.94zm10 10l.94 2.06.94-2.06 2.06-.94-2.06-.94-.94-2.06-.94 2.06-2.06.94z\"/><path d=\"M17.41 7.96l-1.37-1.37c-.4-.4-.92-.59-1.43-.59-.52 0-1.04.2-1.43.59L10.3 9.45l-7.72 7.72c-.78.78-.78 2.05 0 2.83L4 21.41c.39.39.9.59 1.41.59.51 0 1.02-.2 1.41-.59l7.78-7.78 2.81-2.81c.8-.78.8-2.07 0-2.86zM5.41 20L4 18.59l7.72-7.72 1.47 1.35L5.41 20z\"/>\n",
              "  </svg>\n",
              "      </button>\n",
              "      \n",
              "  <style>\n",
              "    .colab-df-container {\n",
              "      display:flex;\n",
              "      flex-wrap:wrap;\n",
              "      gap: 12px;\n",
              "    }\n",
              "\n",
              "    .colab-df-convert {\n",
              "      background-color: #E8F0FE;\n",
              "      border: none;\n",
              "      border-radius: 50%;\n",
              "      cursor: pointer;\n",
              "      display: none;\n",
              "      fill: #1967D2;\n",
              "      height: 32px;\n",
              "      padding: 0 0 0 0;\n",
              "      width: 32px;\n",
              "    }\n",
              "\n",
              "    .colab-df-convert:hover {\n",
              "      background-color: #E2EBFA;\n",
              "      box-shadow: 0px 1px 2px rgba(60, 64, 67, 0.3), 0px 1px 3px 1px rgba(60, 64, 67, 0.15);\n",
              "      fill: #174EA6;\n",
              "    }\n",
              "\n",
              "    [theme=dark] .colab-df-convert {\n",
              "      background-color: #3B4455;\n",
              "      fill: #D2E3FC;\n",
              "    }\n",
              "\n",
              "    [theme=dark] .colab-df-convert:hover {\n",
              "      background-color: #434B5C;\n",
              "      box-shadow: 0px 1px 3px 1px rgba(0, 0, 0, 0.15);\n",
              "      filter: drop-shadow(0px 1px 2px rgba(0, 0, 0, 0.3));\n",
              "      fill: #FFFFFF;\n",
              "    }\n",
              "  </style>\n",
              "\n",
              "      <script>\n",
              "        const buttonEl =\n",
              "          document.querySelector('#df-1c990d0d-cf06-4eb9-8aa9-0dbc5660423c button.colab-df-convert');\n",
              "        buttonEl.style.display =\n",
              "          google.colab.kernel.accessAllowed ? 'block' : 'none';\n",
              "\n",
              "        async function convertToInteractive(key) {\n",
              "          const element = document.querySelector('#df-1c990d0d-cf06-4eb9-8aa9-0dbc5660423c');\n",
              "          const dataTable =\n",
              "            await google.colab.kernel.invokeFunction('convertToInteractive',\n",
              "                                                     [key], {});\n",
              "          if (!dataTable) return;\n",
              "\n",
              "          const docLinkHtml = 'Like what you see? Visit the ' +\n",
              "            '<a target=\"_blank\" href=https://colab.research.google.com/notebooks/data_table.ipynb>data table notebook</a>'\n",
              "            + ' to learn more about interactive tables.';\n",
              "          element.innerHTML = '';\n",
              "          dataTable['output_type'] = 'display_data';\n",
              "          await google.colab.output.renderOutput(dataTable, element);\n",
              "          const docLink = document.createElement('div');\n",
              "          docLink.innerHTML = docLinkHtml;\n",
              "          element.appendChild(docLink);\n",
              "        }\n",
              "      </script>\n",
              "    </div>\n",
              "  </div>\n",
              "  "
            ]
          },
          "metadata": {},
          "execution_count": 21
        }
      ],
      "source": [
        "res.head()"
      ],
      "id": "2_d6P6Yn1ZEL"
    },
    {
      "cell_type": "code",
      "execution_count": 26,
      "metadata": {
        "id": "zdJAPD5k2Nje"
      },
      "outputs": [],
      "source": [
        "import seaborn as sns\n",
        "\n",
        "def plot(need_log=False, y_lim=(0, 0.4)):\n",
        "  time_col = 'log_time' if need_log else 'avg_time'\n",
        "  g = sns.FacetGrid(res, col=\"top_k\", hue='algo')\n",
        "  g.figure.set_size_inches(15, 4)\n",
        "  g.map(sns.lineplot, \"users_count\", time_col, marker=\"o\")\n",
        "  g.set(ylim=y_lim)\n",
        "  g.add_legend()"
      ],
      "id": "zdJAPD5k2Nje"
    },
    {
      "cell_type": "code",
      "execution_count": 29,
      "metadata": {
        "id": "Gd_JuWmQ2R0D",
        "colab": {
          "base_uri": "https://localhost:8080/",
          "height": 297
        },
        "outputId": "503ded31-8a29-4fb3-bcda-93de853e165a"
      },
      "outputs": [
        {
          "output_type": "display_data",
          "data": {
            "text/plain": [
              "<Figure size 1175.25x288 with 3 Axes>"
            ],
            "image/png": "[encoded data removed]"
          },
          "metadata": {
            "needs_background": "light"
          }
        }
      ],
      "source": [
        "plot(y_lim=(0, 5))"
      ],
      "id": "Gd_JuWmQ2R0D"
    },
    {
      "cell_type": "code",
      "execution_count": null,
      "metadata": {
        "id": "xkMlWn9s2Wza"
      },
      "outputs": [],
      "source": [],
      "id": "xkMlWn9s2Wza"
    }
  ],
  "metadata": {
    "colab": {
      "provenance": []
    },
    "kernelspec": {
      "display_name": "Python 3 (ipykernel)",
      "language": "python",
      "name": "python3"
    },
    "language_info": {
      "codemirror_mode": {
        "name": "ipython",
        "version": 3
      },
      "file_extension": ".py",
      "mimetype": "text/x-python",
      "name": "python",
      "nbconvert_exporter": "python",
      "pygments_lexer": "ipython3",
      "version": "3.9.6"
    },
    "toc": {
      "base_numbering": 1,
      "nav_menu": {},
      "number_sections": true,
      "sideBar": true,
      "skip_h1_title": true,
      "title_cell": "Table of Contents",
      "title_sidebar": "Contents",
      "toc_cell": false,
      "toc_position": {
        "height": "calc(100% - 180px)",
        "left": "10px",
        "top": "150px",
        "width": "221px"
      },
      "toc_section_display": true,
      "toc_window_display": true
    },
    "widgets": {
      "application/vnd.jupyter.widget-state+json": {
        "4d4d65fc43d544c49b919281fb3f3b29": {
          "model_module": "@jupyter-widgets/controls",
          "model_name": "HBoxModel",
          "model_module_version": "1.5.0",
          "state": {
            "_dom_classes": [],
            "_model_module": "@jupyter-widgets/controls",
            "_model_module_version": "1.5.0",
            "_model_name": "HBoxModel",
            "_view_count": null,
            "_view_module": "@jupyter-widgets/controls",
            "_view_module_version": "1.5.0",
            "_view_name": "HBoxView",
            "box_style": "",
            "children": [
              "IPY_MODEL_779fbd0c80ee424a8ecf4f21ef7f7e54",
              "IPY_MODEL_2729c6c1634f4b4fba4b8d1855620eae",
              "IPY_MODEL_d31ec5e67a2b489d9e5c64f0f019adb9"
            ],
            "layout": "IPY_MODEL_d4172a66db40435c8bc50be658f9935c"
          }
        },
        "779fbd0c80ee424a8ecf4f21ef7f7e54": {
          "model_module": "@jupyter-widgets/controls",
          "model_name": "HTMLModel",
          "model_module_version": "1.5.0",
          "state": {
            "_dom_classes": [],
            "_model_module": "@jupyter-widgets/controls",
            "_model_module_version": "1.5.0",
            "_model_name": "HTMLModel",
            "_view_count": null,
            "_view_module": "@jupyter-widgets/controls",
            "_view_module_version": "1.5.0",
            "_view_name": "HTMLView",
            "description": "",
            "description_tooltip": null,
            "layout": "IPY_MODEL_a22f3a7adeae4317b2ab7fb194faec4e",
            "placeholder": "​",
            "style": "IPY_MODEL_0a35d9c677fc4f1a9caf665a7c45b81e",
            "value": "kion dataset download: 100%"
          }
        },
        "2729c6c1634f4b4fba4b8d1855620eae": {
          "model_module": "@jupyter-widgets/controls",
          "model_name": "FloatProgressModel",
          "model_module_version": "1.5.0",
          "state": {
            "_dom_classes": [],
            "_model_module": "@jupyter-widgets/controls",
            "_model_module_version": "1.5.0",
            "_model_name": "FloatProgressModel",
            "_view_count": null,
            "_view_module": "@jupyter-widgets/controls",
            "_view_module_version": "1.5.0",
            "_view_name": "ProgressView",
            "bar_style": "",
            "description": "",
            "description_tooltip": null,
            "layout": "IPY_MODEL_f1a35270a97e4349b0cd8b846f9b61cf",
            "max": 78795295,
            "min": 0,
            "orientation": "horizontal",
            "style": "IPY_MODEL_7c4569c9bceb46f8b962b8225ab545c4",
            "value": 78795295
          }
        },
        "d31ec5e67a2b489d9e5c64f0f019adb9": {
          "model_module": "@jupyter-widgets/controls",
          "model_name": "HTMLModel",
          "model_module_version": "1.5.0",
          "state": {
            "_dom_classes": [],
            "_model_module": "@jupyter-widgets/controls",
            "_model_module_version": "1.5.0",
            "_model_name": "HTMLModel",
            "_view_count": null,
            "_view_module": "@jupyter-widgets/controls",
            "_view_module_version": "1.5.0",
            "_view_name": "HTMLView",
            "description": "",
            "description_tooltip": null,
            "layout": "IPY_MODEL_783535aa76e744d6a041785c4c8612d6",
            "placeholder": "​",
            "style": "IPY_MODEL_fe1d7f8d43964dfe964424ec128ce710",
            "value": " 78.8M/78.8M [00:20&lt;00:00, 315MiB/s]"
          }
        },
        "d4172a66db40435c8bc50be658f9935c": {
          "model_module": "@jupyter-widgets/base",
          "model_name": "LayoutModel",
          "model_module_version": "1.2.0",
          "state": {
            "_model_module": "@jupyter-widgets/base",
            "_model_module_version": "1.2.0",
            "_model_name": "LayoutModel",
            "_view_count": null,
            "_view_module": "@jupyter-widgets/base",
            "_view_module_version": "1.2.0",
            "_view_name": "LayoutView",
            "align_content": null,
            "align_items": null,
            "align_self": null,
            "border": null,
            "bottom": null,
            "display": null,
            "flex": null,
            "flex_flow": null,
            "grid_area": null,
            "grid_auto_columns": null,
            "grid_auto_flow": null,
            "grid_auto_rows": null,
            "grid_column": null,
            "grid_gap": null,
            "grid_row": null,
            "grid_template_areas": null,
            "grid_template_columns": null,
            "grid_template_rows": null,
            "height": null,
            "justify_content": null,
            "justify_items": null,
            "left": null,
            "margin": null,
            "max_height": null,
            "max_width": null,
            "min_height": null,
            "min_width": null,
            "object_fit": null,
            "object_position": null,
            "order": null,
            "overflow": null,
            "overflow_x": null,
            "overflow_y": null,
            "padding": null,
            "right": null,
            "top": null,
            "visibility": null,
            "width": null
          }
        },
        "a22f3a7adeae4317b2ab7fb194faec4e": {
          "model_module": "@jupyter-widgets/base",
          "model_name": "LayoutModel",
          "model_module_version": "1.2.0",
          "state": {
            "_model_module": "@jupyter-widgets/base",
            "_model_module_version": "1.2.0",
            "_model_name": "LayoutModel",
            "_view_count": null,
            "_view_module": "@jupyter-widgets/base",
            "_view_module_version": "1.2.0",
            "_view_name": "LayoutView",
            "align_content": null,
            "align_items": null,
            "align_self": null,
            "border": null,
            "bottom": null,
            "display": null,
            "flex": null,
            "flex_flow": null,
            "grid_area": null,
            "grid_auto_columns": null,
            "grid_auto_flow": null,
            "grid_auto_rows": null,
            "grid_column": null,
            "grid_gap": null,
            "grid_row": null,
            "grid_template_areas": null,
            "grid_template_columns": null,
            "grid_template_rows": null,
            "height": null,
            "justify_content": null,
            "justify_items": null,
            "left": null,
            "margin": null,
            "max_height": null,
            "max_width": null,
            "min_height": null,
            "min_width": null,
            "object_fit": null,
            "object_position": null,
            "order": null,
            "overflow": null,
            "overflow_x": null,
            "overflow_y": null,
            "padding": null,
            "right": null,
            "top": null,
            "visibility": null,
            "width": null
          }
        },
        "0a35d9c677fc4f1a9caf665a7c45b81e": {
          "model_module": "@jupyter-widgets/controls",
          "model_name": "DescriptionStyleModel",
          "model_module_version": "1.5.0",
          "state": {
            "_model_module": "@jupyter-widgets/controls",
            "_model_module_version": "1.5.0",
            "_model_name": "DescriptionStyleModel",
            "_view_count": null,
            "_view_module": "@jupyter-widgets/base",
            "_view_module_version": "1.2.0",
            "_view_name": "StyleView",
            "description_width": ""
          }
        },
        "f1a35270a97e4349b0cd8b846f9b61cf": {
          "model_module": "@jupyter-widgets/base",
          "model_name": "LayoutModel",
          "model_module_version": "1.2.0",
          "state": {
            "_model_module": "@jupyter-widgets/base",
            "_model_module_version": "1.2.0",
            "_model_name": "LayoutModel",
            "_view_count": null,
            "_view_module": "@jupyter-widgets/base",
            "_view_module_version": "1.2.0",
            "_view_name": "LayoutView",
            "align_content": null,
            "align_items": null,
            "align_self": null,
            "border": null,
            "bottom": null,
            "display": null,
            "flex": null,
            "flex_flow": null,
            "grid_area": null,
            "grid_auto_columns": null,
            "grid_auto_flow": null,
            "grid_auto_rows": null,
            "grid_column": null,
            "grid_gap": null,
            "grid_row": null,
            "grid_template_areas": null,
            "grid_template_columns": null,
            "grid_template_rows": null,
            "height": null,
            "justify_content": null,
            "justify_items": null,
            "left": null,
            "margin": null,
            "max_height": null,
            "max_width": null,
            "min_height": null,
            "min_width": null,
            "object_fit": null,
            "object_position": null,
            "order": null,
            "overflow": null,
            "overflow_x": null,
            "overflow_y": null,
            "padding": null,
            "right": null,
            "top": null,
            "visibility": null,
            "width": null
          }
        },
        "7c4569c9bceb46f8b962b8225ab545c4": {
          "model_module": "@jupyter-widgets/controls",
          "model_name": "ProgressStyleModel",
          "model_module_version": "1.5.0",
          "state": {
            "_model_module": "@jupyter-widgets/controls",
            "_model_module_version": "1.5.0",
            "_model_name": "ProgressStyleModel",
            "_view_count": null,
            "_view_module": "@jupyter-widgets/base",
            "_view_module_version": "1.2.0",
            "_view_name": "StyleView",
            "bar_color": null,
            "description_width": ""
          }
        },
        "783535aa76e744d6a041785c4c8612d6": {
          "model_module": "@jupyter-widgets/base",
          "model_name": "LayoutModel",
          "model_module_version": "1.2.0",
          "state": {
            "_model_module": "@jupyter-widgets/base",
            "_model_module_version": "1.2.0",
            "_model_name": "LayoutModel",
            "_view_count": null,
            "_view_module": "@jupyter-widgets/base",
            "_view_module_version": "1.2.0",
            "_view_name": "LayoutView",
            "align_content": null,
            "align_items": null,
            "align_self": null,
            "border": null,
            "bottom": null,
            "display": null,
            "flex": null,
            "flex_flow": null,
            "grid_area": null,
            "grid_auto_columns": null,
            "grid_auto_flow": null,
            "grid_auto_rows": null,
            "grid_column": null,
            "grid_gap": null,
            "grid_row": null,
            "grid_template_areas": null,
            "grid_template_columns": null,
            "grid_template_rows": null,
            "height": null,
            "justify_content": null,
            "justify_items": null,
            "left": null,
            "margin": null,
            "max_height": null,
            "max_width": null,
            "min_height": null,
            "min_width": null,
            "object_fit": null,
            "object_position": null,
            "order": null,
            "overflow": null,
            "overflow_x": null,
            "overflow_y": null,
            "padding": null,
            "right": null,
            "top": null,
            "visibility": null,
            "width": null
          }
        },
        "fe1d7f8d43964dfe964424ec128ce710": {
          "model_module": "@jupyter-widgets/controls",
          "model_name": "DescriptionStyleModel",
          "model_module_version": "1.5.0",
          "state": {
            "_model_module": "@jupyter-widgets/controls",
            "_model_module_version": "1.5.0",
            "_model_name": "DescriptionStyleModel",
            "_view_count": null,
            "_view_module": "@jupyter-widgets/base",
            "_view_module_version": "1.2.0",
            "_view_name": "StyleView",
            "description_width": ""
          }
        }
      }
    },
    "accelerator": "GPU",
    "gpuClass": "standard"
  },
  "nbformat": 4,
  "nbformat_minor": 5
}