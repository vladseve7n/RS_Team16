{
  "cells": [
    {
      "cell_type": "markdown",
      "metadata": {
        "id": "a00c6db1"
      },
      "source": [
        "# Метрики\n",
        "\n",
        "## Imports"
      ],
      "id": "a00c6db1"
    },
    {
      "cell_type": "code",
      "source": [
        "!pip install rectools\n",
        "!pip install pandas\n",
        "!pip install numba\n",
        "!pip install numpy"
      ],
      "metadata": {
        "colab": {
          "base_uri": "https://localhost:8080/"
        },
        "id": "f-WYPnKHbMaf",
        "outputId": "ae507bfd-859b-4620-d4a5-6471ec788665"
      },
      "id": "f-WYPnKHbMaf",
      "execution_count": 2,
      "outputs": [
        {
          "output_type": "stream",
          "name": "stdout",
          "text": [
            "Looking in indexes: https://pypi.org/simple, https://us-python.pkg.dev/colab-wheels/public/simple/\n",
            "Collecting rectools\n",
            "  Downloading RecTools-0.3.0-py3-none-any.whl (89 kB)\n",
            "\u001b[K     |████████████████████████████████| 89 kB 3.3 MB/s \n",
            "\u001b[?25hCollecting attrs<22.0.0,>=19.1.0\n",
            "  Downloading attrs-21.4.0-py2.py3-none-any.whl (60 kB)\n",
            "\u001b[K     |████████████████████████████████| 60 kB 9.1 MB/s \n",
            "\u001b[?25hCollecting lightfm<2.0,>=1.16\n",
            "  Downloading lightfm-1.16.tar.gz (310 kB)\n",
            "\u001b[K     |████████████████████████████████| 310 kB 33.0 MB/s \n",
            "\u001b[?25hRequirement already satisfied: tqdm<5.0.0,>=4.27.0 in /usr/local/lib/python3.8/dist-packages (from rectools) (4.64.1)\n",
            "Collecting nmslib<3.0.0,>=2.0.4\n",
            "  Downloading nmslib-2.1.1-cp38-cp38-manylinux2010_x86_64.whl (13.4 MB)\n",
            "\u001b[K     |████████████████████████████████| 13.4 MB 4.8 MB/s \n",
            "\u001b[?25hRequirement already satisfied: pandas<2.0.0,>=0.25.3 in /usr/local/lib/python3.8/dist-packages (from rectools) (1.3.5)\n",
            "Collecting Markdown<3.3,>=3.2\n",
            "  Downloading Markdown-3.2.2-py3-none-any.whl (88 kB)\n",
            "\u001b[K     |████████████████████████████████| 88 kB 8.7 MB/s \n",
            "\u001b[?25hRequirement already satisfied: typeguard<3.0.0,>=2.0.1 in /usr/local/lib/python3.8/dist-packages (from rectools) (2.7.1)\n",
            "Collecting implicit==0.4.4\n",
            "  Downloading implicit-0.4.4.tar.gz (1.1 MB)\n",
            "\u001b[K     |████████████████████████████████| 1.1 MB 51.8 MB/s \n",
            "\u001b[?25hRequirement already satisfied: numpy<2.0.0,>=1.19.5 in /usr/local/lib/python3.8/dist-packages (from rectools) (1.21.6)\n",
            "Requirement already satisfied: scipy<2.0.0,>=1.5.4 in /usr/local/lib/python3.8/dist-packages (from rectools) (1.7.3)\n",
            "Requirement already satisfied: requests in /usr/local/lib/python3.8/dist-packages (from lightfm<2.0,>=1.16->rectools) (2.23.0)\n",
            "Requirement already satisfied: scikit-learn in /usr/local/lib/python3.8/dist-packages (from lightfm<2.0,>=1.16->rectools) (1.0.2)\n",
            "Collecting pybind11<2.6.2\n",
            "  Downloading pybind11-2.6.1-py2.py3-none-any.whl (188 kB)\n",
            "\u001b[K     |████████████████████████████████| 188 kB 60.2 MB/s \n",
            "\u001b[?25hRequirement already satisfied: psutil in /usr/local/lib/python3.8/dist-packages (from nmslib<3.0.0,>=2.0.4->rectools) (5.4.8)\n",
            "Requirement already satisfied: python-dateutil>=2.7.3 in /usr/local/lib/python3.8/dist-packages (from pandas<2.0.0,>=0.25.3->rectools) (2.8.2)\n",
            "Requirement already satisfied: pytz>=2017.3 in /usr/local/lib/python3.8/dist-packages (from pandas<2.0.0,>=0.25.3->rectools) (2022.6)\n",
            "Requirement already satisfied: six>=1.5 in /usr/local/lib/python3.8/dist-packages (from python-dateutil>=2.7.3->pandas<2.0.0,>=0.25.3->rectools) (1.15.0)\n",
            "Requirement already satisfied: urllib3!=1.25.0,!=1.25.1,<1.26,>=1.21.1 in /usr/local/lib/python3.8/dist-packages (from requests->lightfm<2.0,>=1.16->rectools) (1.24.3)\n",
            "Requirement already satisfied: chardet<4,>=3.0.2 in /usr/local/lib/python3.8/dist-packages (from requests->lightfm<2.0,>=1.16->rectools) (3.0.4)\n",
            "Requirement already satisfied: certifi>=2017.4.17 in /usr/local/lib/python3.8/dist-packages (from requests->lightfm<2.0,>=1.16->rectools) (2022.9.24)\n",
            "Requirement already satisfied: idna<3,>=2.5 in /usr/local/lib/python3.8/dist-packages (from requests->lightfm<2.0,>=1.16->rectools) (2.10)\n",
            "Requirement already satisfied: joblib>=0.11 in /usr/local/lib/python3.8/dist-packages (from scikit-learn->lightfm<2.0,>=1.16->rectools) (1.2.0)\n",
            "Requirement already satisfied: threadpoolctl>=2.0.0 in /usr/local/lib/python3.8/dist-packages (from scikit-learn->lightfm<2.0,>=1.16->rectools) (3.1.0)\n",
            "Building wheels for collected packages: implicit, lightfm\n",
            "  Building wheel for implicit (setup.py) ... \u001b[?25l\u001b[?25hdone\n",
            "  Created wheel for implicit: filename=implicit-0.4.4-cp38-cp38-linux_x86_64.whl size=3825489 sha256=b51d60efa1ae5b52368b300d85635c34716d4bd09e4087040e99b70b0e163da3\n",
            "  Stored in directory: /root/.cache/pip/wheels/00/ac/67/6f4536c819ed560c2c7e17c0f7a920e3e50c26108616087d05\n",
            "  Building wheel for lightfm (setup.py) ... \u001b[?25l\u001b[?25hdone\n",
            "  Created wheel for lightfm: filename=lightfm-1.16-cp38-cp38-linux_x86_64.whl size=746161 sha256=eb830afbb9a33b66a32f58487716cc5da9bcff77f28dafba18ff29cf83c54dd2\n",
            "  Stored in directory: /root/.cache/pip/wheels/ec/bb/51/9c487d021c1373b691d13cadca0b65b6852627b1f3f43550fa\n",
            "Successfully built implicit lightfm\n",
            "Installing collected packages: pybind11, nmslib, Markdown, lightfm, implicit, attrs, rectools\n",
            "  Attempting uninstall: Markdown\n",
            "    Found existing installation: Markdown 3.4.1\n",
            "    Uninstalling Markdown-3.4.1:\n",
            "      Successfully uninstalled Markdown-3.4.1\n",
            "  Attempting uninstall: attrs\n",
            "    Found existing installation: attrs 22.1.0\n",
            "    Uninstalling attrs-22.1.0:\n",
            "      Successfully uninstalled attrs-22.1.0\n",
            "Successfully installed Markdown-3.2.2 attrs-21.4.0 implicit-0.4.4 lightfm-1.16 nmslib-2.1.1 pybind11-2.6.1 rectools-0.3.0\n",
            "Looking in indexes: https://pypi.org/simple, https://us-python.pkg.dev/colab-wheels/public/simple/\n",
            "Requirement already satisfied: pandas in /usr/local/lib/python3.8/dist-packages (1.3.5)\n",
            "Requirement already satisfied: numpy>=1.17.3 in /usr/local/lib/python3.8/dist-packages (from pandas) (1.21.6)\n",
            "Requirement already satisfied: pytz>=2017.3 in /usr/local/lib/python3.8/dist-packages (from pandas) (2022.6)\n",
            "Requirement already satisfied: python-dateutil>=2.7.3 in /usr/local/lib/python3.8/dist-packages (from pandas) (2.8.2)\n",
            "Requirement already satisfied: six>=1.5 in /usr/local/lib/python3.8/dist-packages (from python-dateutil>=2.7.3->pandas) (1.15.0)\n",
            "Looking in indexes: https://pypi.org/simple, https://us-python.pkg.dev/colab-wheels/public/simple/\n",
            "Requirement already satisfied: numba in /usr/local/lib/python3.8/dist-packages (0.56.4)\n",
            "Requirement already satisfied: importlib-metadata in /usr/local/lib/python3.8/dist-packages (from numba) (4.13.0)\n",
            "Requirement already satisfied: setuptools in /usr/local/lib/python3.8/dist-packages (from numba) (57.4.0)\n",
            "Requirement already satisfied: numpy<1.24,>=1.18 in /usr/local/lib/python3.8/dist-packages (from numba) (1.21.6)\n",
            "Requirement already satisfied: llvmlite<0.40,>=0.39.0dev0 in /usr/local/lib/python3.8/dist-packages (from numba) (0.39.1)\n",
            "Requirement already satisfied: zipp>=0.5 in /usr/local/lib/python3.8/dist-packages (from importlib-metadata->numba) (3.10.0)\n",
            "Looking in indexes: https://pypi.org/simple, https://us-python.pkg.dev/colab-wheels/public/simple/\n",
            "Requirement already satisfied: numpy in /usr/local/lib/python3.8/dist-packages (1.21.6)\n"
          ]
        }
      ]
    },
    {
      "cell_type": "code",
      "execution_count": 3,
      "metadata": {
        "id": "14dec809"
      },
      "outputs": [],
      "source": [
        "import pandas as pd\n",
        "import numpy as np\n",
        "import numba as nb\n",
        "\n",
        "from tqdm.auto import tqdm\n",
        "from rectools import Columns"
      ],
      "id": "14dec809"
    },
    {
      "cell_type": "code",
      "execution_count": 4,
      "metadata": {
        "id": "e3551b5e"
      },
      "outputs": [],
      "source": [
        "np.random.seed(23)"
      ],
      "id": "e3551b5e"
    },
    {
      "cell_type": "markdown",
      "metadata": {
        "id": "86146c27"
      },
      "source": [
        "## Homework\n",
        "\n",
        "### PFound\n",
        "Исходные данные - Yandex Cup 2022 Analytics\n",
        "- Ссылка - https://yandex.ru/cup/analytics/analysis/ , пример A. Рассчитать pFound\n",
        "- Данные - https://yadi.sk/d/guqki4UI4hFlXQ\n",
        "- Формула\n",
        "$$pFound@K = \\sum_{i=1}^{k} pLook[i]\\ pRel[i]$$\n",
        "\n",
        "$$pLook[1] = 1$$\n",
        "\n",
        "$$pLook[i] = pLook[i-1]\\ (1 - pRel[i-1])\\ (1 - pBreak)$$\n",
        "\n",
        "$$pBreak = 0.15$$\n",
        "\n",
        "**Задача** - написать функцию, которая принимает на вход dataframe (после join), а на выходе дает средний pFound по всем query.\n",
        "- Запрещается использовать циклы for для расчет метрики (как полностью, так и ее частей).\n",
        "- Усложнение, если задача показалась легкой - попробуйте обойтись без groupby (не уверен, что это возможно, но вдруг вы справитесь)\n",
        "\n",
        "### MRR\n",
        "Исходные данные - результат `generate_subsample` \n",
        "\n",
        "**Задача** - по аналогии с precision написать три версии функции подсчета Mean Reciprocal Rank (naive, numba, pandas) и протестировать на разных размерах выборки\n",
        "- Протестируйте для всех комбинаций (users_count, top_k):\n",
        "  - users_count - [100, 1000, 10000, 100000]\n",
        "  - top_k - [10, 50, 100]\n",
        "- Результатом тестирования должен быть график, где будут отражены следующие показатели:\n",
        "  - Алгоритм - naive, numba, pandas\n",
        "  - Скорость работы (время)\n",
        "  - users_count\n",
        "  - top_k"
      ],
      "id": "86146c27"
    },
    {
      "cell_type": "code",
      "execution_count": 5,
      "metadata": {
        "colab": {
          "base_uri": "https://localhost:8080/"
        },
        "id": "a0e001ef",
        "outputId": "48821ebd-e148-4f5e-f2dc-622b4f89dfe3"
      },
      "outputs": [
        {
          "output_type": "stream",
          "name": "stdout",
          "text": [
            "Mounted at /content/drive\n"
          ]
        }
      ],
      "source": [
        "from google.colab import drive\n",
        "drive.mount('/content/drive')"
      ],
      "id": "a0e001ef"
    },
    {
      "cell_type": "code",
      "execution_count": 6,
      "metadata": {
        "id": "Mow8oB2wsD_M"
      },
      "outputs": [],
      "source": [
        "import requests\n",
        "url = 'https://github.com/irsafilo/KION_DATASET/raw/f69775be31fa5779907cf0a92ddedb70037fb5ae/data_original.zip'"
      ],
      "id": "Mow8oB2wsD_M"
    },
    {
      "cell_type": "code",
      "execution_count": 7,
      "metadata": {
        "colab": {
          "base_uri": "https://localhost:8080/",
          "height": 49,
          "referenced_widgets": [
            "4145fff500104301bf0b9e4965a678fc",
            "0aebb2201338472aa97ebf9df4a208b8",
            "24eacb5f4a0e41f391ec88261e615a53",
            "e1b9f36ff8aa46be970ba8a2effe6de9",
            "83b0ac8087d74fec8229ac16c889e121",
            "2543285791bb4959add7c386b33adc06",
            "b4bf33a388a84c138cba6e3457a27fb2",
            "07c11ec63f0d4885bd399e85b502bd56",
            "9000dba771464ba8af7111d233208c74",
            "d46d30d9749044b38dd3d687550bcec0",
            "40b40fc55b334967aea80229f73311b3"
          ]
        },
        "id": "2T2jNCMRsEB7",
        "outputId": "496eb3cb-7bcf-4720-b0dd-93ce4f51d8d4"
      },
      "outputs": [
        {
          "output_type": "display_data",
          "data": {
            "text/plain": [
              "kion dataset download:   0%|          | 0.00/78.8M [00:00<?, ?iB/s]"
            ],
            "application/vnd.jupyter.widget-view+json": {
              "version_major": 2,
              "version_minor": 0,
              "model_id": "4145fff500104301bf0b9e4965a678fc"
            }
          },
          "metadata": {}
        }
      ],
      "source": [
        "req = requests.get(url, stream=True)\n",
        "\n",
        "with open('kion.zip', 'wb') as fd:\n",
        "    total_size_in_bytes = int(req.headers.get('Content-Length', 0))\n",
        "    progress_bar = tqdm(desc='kion dataset download', total=total_size_in_bytes, unit='iB', unit_scale=True)\n",
        "    for chunk in req.iter_content(chunk_size=2 ** 20):\n",
        "        progress_bar.update(len(chunk))\n",
        "        fd.write(chunk)"
      ],
      "id": "2T2jNCMRsEB7"
    },
    {
      "cell_type": "code",
      "execution_count": 8,
      "metadata": {
        "id": "hRQdDJt9sEFL"
      },
      "outputs": [],
      "source": [
        "import zipfile as zf\n",
        "\n",
        "files = zf.ZipFile('kion.zip','r')\n",
        "files.extractall()\n",
        "files.close()"
      ],
      "id": "hRQdDJt9sEFL"
    },
    {
      "cell_type": "code",
      "execution_count": 9,
      "metadata": {
        "id": "7rvcj4DbsEIL"
      },
      "outputs": [],
      "source": [
        "interactions = pd.read_csv('data_original/interactions.csv')\n",
        "\n",
        "interactions.rename(\n",
        "    columns={\n",
        "        'track_id': Columns.Item,\n",
        "        'last_watch_dt': Columns.Datetime,\n",
        "        'total_dur': Columns.Weight\n",
        "    }, \n",
        "    inplace=True) \n",
        "\n",
        "interactions[Columns.Datetime] = pd.to_datetime(interactions[Columns.Datetime])"
      ],
      "id": "7rvcj4DbsEIL"
    },
    {
      "cell_type": "code",
      "execution_count": 10,
      "metadata": {
        "colab": {
          "base_uri": "https://localhost:8080/",
          "height": 419
        },
        "id": "_xufRyoHsELN",
        "outputId": "0e223baf-5109-425a-9b00-e6266e9aaa9d"
      },
      "outputs": [
        {
          "output_type": "execute_result",
          "data": {
            "text/plain": [
              "         user_id  item_id   datetime  weight  watched_pct\n",
              "0         176549     9506 2021-05-11    4250         72.0\n",
              "1         699317     1659 2021-05-29    8317        100.0\n",
              "2         656683     7107 2021-05-09      10          0.0\n",
              "3         864613     7638 2021-07-05   14483        100.0\n",
              "4         964868     9506 2021-04-30    6725        100.0\n",
              "...          ...      ...        ...     ...          ...\n",
              "5476246   648596    12225 2021-08-13      76          0.0\n",
              "5476247   546862     9673 2021-04-13    2308         49.0\n",
              "5476248   697262    15297 2021-08-20   18307         63.0\n",
              "5476249   384202    16197 2021-04-19    6203        100.0\n",
              "5476250   319709     4436 2021-08-15    3921         45.0\n",
              "\n",
              "[5476251 rows x 5 columns]"
            ],
            "text/html": [
              "\n",
              "  <div id=\"df-dbf6f4e7-eb4b-4c4b-8be3-f5eab4a8bb41\">\n",
              "    <div class=\"colab-df-container\">\n",
              "      <div>\n",
              "<style scoped>\n",
              "    .dataframe tbody tr th:only-of-type {\n",
              "        vertical-align: middle;\n",
              "    }\n",
              "\n",
              "    .dataframe tbody tr th {\n",
              "        vertical-align: top;\n",
              "    }\n",
              "\n",
              "    .dataframe thead th {\n",
              "        text-align: right;\n",
              "    }\n",
              "</style>\n",
              "<table border=\"1\" class=\"dataframe\">\n",
              "  <thead>\n",
              "    <tr style=\"text-align: right;\">\n",
              "      <th></th>\n",
              "      <th>user_id</th>\n",
              "      <th>item_id</th>\n",
              "      <th>datetime</th>\n",
              "      <th>weight</th>\n",
              "      <th>watched_pct</th>\n",
              "    </tr>\n",
              "  </thead>\n",
              "  <tbody>\n",
              "    <tr>\n",
              "      <th>0</th>\n",
              "      <td>176549</td>\n",
              "      <td>9506</td>\n",
              "      <td>2021-05-11</td>\n",
              "      <td>4250</td>\n",
              "      <td>72.0</td>\n",
              "    </tr>\n",
              "    <tr>\n",
              "      <th>1</th>\n",
              "      <td>699317</td>\n",
              "      <td>1659</td>\n",
              "      <td>2021-05-29</td>\n",
              "      <td>8317</td>\n",
              "      <td>100.0</td>\n",
              "    </tr>\n",
              "    <tr>\n",
              "      <th>2</th>\n",
              "      <td>656683</td>\n",
              "      <td>7107</td>\n",
              "      <td>2021-05-09</td>\n",
              "      <td>10</td>\n",
              "      <td>0.0</td>\n",
              "    </tr>\n",
              "    <tr>\n",
              "      <th>3</th>\n",
              "      <td>864613</td>\n",
              "      <td>7638</td>\n",
              "      <td>2021-07-05</td>\n",
              "      <td>14483</td>\n",
              "      <td>100.0</td>\n",
              "    </tr>\n",
              "    <tr>\n",
              "      <th>4</th>\n",
              "      <td>964868</td>\n",
              "      <td>9506</td>\n",
              "      <td>2021-04-30</td>\n",
              "      <td>6725</td>\n",
              "      <td>100.0</td>\n",
              "    </tr>\n",
              "    <tr>\n",
              "      <th>...</th>\n",
              "      <td>...</td>\n",
              "      <td>...</td>\n",
              "      <td>...</td>\n",
              "      <td>...</td>\n",
              "      <td>...</td>\n",
              "    </tr>\n",
              "    <tr>\n",
              "      <th>5476246</th>\n",
              "      <td>648596</td>\n",
              "      <td>12225</td>\n",
              "      <td>2021-08-13</td>\n",
              "      <td>76</td>\n",
              "      <td>0.0</td>\n",
              "    </tr>\n",
              "    <tr>\n",
              "      <th>5476247</th>\n",
              "      <td>546862</td>\n",
              "      <td>9673</td>\n",
              "      <td>2021-04-13</td>\n",
              "      <td>2308</td>\n",
              "      <td>49.0</td>\n",
              "    </tr>\n",
              "    <tr>\n",
              "      <th>5476248</th>\n",
              "      <td>697262</td>\n",
              "      <td>15297</td>\n",
              "      <td>2021-08-20</td>\n",
              "      <td>18307</td>\n",
              "      <td>63.0</td>\n",
              "    </tr>\n",
              "    <tr>\n",
              "      <th>5476249</th>\n",
              "      <td>384202</td>\n",
              "      <td>16197</td>\n",
              "      <td>2021-04-19</td>\n",
              "      <td>6203</td>\n",
              "      <td>100.0</td>\n",
              "    </tr>\n",
              "    <tr>\n",
              "      <th>5476250</th>\n",
              "      <td>319709</td>\n",
              "      <td>4436</td>\n",
              "      <td>2021-08-15</td>\n",
              "      <td>3921</td>\n",
              "      <td>45.0</td>\n",
              "    </tr>\n",
              "  </tbody>\n",
              "</table>\n",
              "<p>5476251 rows × 5 columns</p>\n",
              "</div>\n",
              "      <button class=\"colab-df-convert\" onclick=\"convertToInteractive('df-dbf6f4e7-eb4b-4c4b-8be3-f5eab4a8bb41')\"\n",
              "              title=\"Convert this dataframe to an interactive table.\"\n",
              "              style=\"display:none;\">\n",
              "        \n",
              "  <svg xmlns=\"http://www.w3.org/2000/svg\" height=\"24px\"viewBox=\"0 0 24 24\"\n",
              "       width=\"24px\">\n",
              "    <path d=\"M0 0h24v24H0V0z\" fill=\"none\"/>\n",
              "    <path d=\"M18.56 5.44l.94 2.06.94-2.06 2.06-.94-2.06-.94-.94-2.06-.94 2.06-2.06.94zm-11 1L8.5 8.5l.94-2.06 2.06-.94-2.06-.94L8.5 2.5l-.94 2.06-2.06.94zm10 10l.94 2.06.94-2.06 2.06-.94-2.06-.94-.94-2.06-.94 2.06-2.06.94z\"/><path d=\"M17.41 7.96l-1.37-1.37c-.4-.4-.92-.59-1.43-.59-.52 0-1.04.2-1.43.59L10.3 9.45l-7.72 7.72c-.78.78-.78 2.05 0 2.83L4 21.41c.39.39.9.59 1.41.59.51 0 1.02-.2 1.41-.59l7.78-7.78 2.81-2.81c.8-.78.8-2.07 0-2.86zM5.41 20L4 18.59l7.72-7.72 1.47 1.35L5.41 20z\"/>\n",
              "  </svg>\n",
              "      </button>\n",
              "      \n",
              "  <style>\n",
              "    .colab-df-container {\n",
              "      display:flex;\n",
              "      flex-wrap:wrap;\n",
              "      gap: 12px;\n",
              "    }\n",
              "\n",
              "    .colab-df-convert {\n",
              "      background-color: #E8F0FE;\n",
              "      border: none;\n",
              "      border-radius: 50%;\n",
              "      cursor: pointer;\n",
              "      display: none;\n",
              "      fill: #1967D2;\n",
              "      height: 32px;\n",
              "      padding: 0 0 0 0;\n",
              "      width: 32px;\n",
              "    }\n",
              "\n",
              "    .colab-df-convert:hover {\n",
              "      background-color: #E2EBFA;\n",
              "      box-shadow: 0px 1px 2px rgba(60, 64, 67, 0.3), 0px 1px 3px 1px rgba(60, 64, 67, 0.15);\n",
              "      fill: #174EA6;\n",
              "    }\n",
              "\n",
              "    [theme=dark] .colab-df-convert {\n",
              "      background-color: #3B4455;\n",
              "      fill: #D2E3FC;\n",
              "    }\n",
              "\n",
              "    [theme=dark] .colab-df-convert:hover {\n",
              "      background-color: #434B5C;\n",
              "      box-shadow: 0px 1px 3px 1px rgba(0, 0, 0, 0.15);\n",
              "      filter: drop-shadow(0px 1px 2px rgba(0, 0, 0, 0.3));\n",
              "      fill: #FFFFFF;\n",
              "    }\n",
              "  </style>\n",
              "\n",
              "      <script>\n",
              "        const buttonEl =\n",
              "          document.querySelector('#df-dbf6f4e7-eb4b-4c4b-8be3-f5eab4a8bb41 button.colab-df-convert');\n",
              "        buttonEl.style.display =\n",
              "          google.colab.kernel.accessAllowed ? 'block' : 'none';\n",
              "\n",
              "        async function convertToInteractive(key) {\n",
              "          const element = document.querySelector('#df-dbf6f4e7-eb4b-4c4b-8be3-f5eab4a8bb41');\n",
              "          const dataTable =\n",
              "            await google.colab.kernel.invokeFunction('convertToInteractive',\n",
              "                                                     [key], {});\n",
              "          if (!dataTable) return;\n",
              "\n",
              "          const docLinkHtml = 'Like what you see? Visit the ' +\n",
              "            '<a target=\"_blank\" href=https://colab.research.google.com/notebooks/data_table.ipynb>data table notebook</a>'\n",
              "            + ' to learn more about interactive tables.';\n",
              "          element.innerHTML = '';\n",
              "          dataTable['output_type'] = 'display_data';\n",
              "          await google.colab.output.renderOutput(dataTable, element);\n",
              "          const docLink = document.createElement('div');\n",
              "          docLink.innerHTML = docLinkHtml;\n",
              "          element.appendChild(docLink);\n",
              "        }\n",
              "      </script>\n",
              "    </div>\n",
              "  </div>\n",
              "  "
            ]
          },
          "metadata": {},
          "execution_count": 10
        }
      ],
      "source": [
        "interactions"
      ],
      "id": "_xufRyoHsELN"
    },
    {
      "cell_type": "code",
      "execution_count": 11,
      "metadata": {
        "id": "s6-vg-35wVsu"
      },
      "outputs": [],
      "source": [
        "users = pd.read_csv('data_original/users.csv')\n",
        "items = pd.read_csv('data_original/items.csv')"
      ],
      "id": "s6-vg-35wVsu"
    },
    {
      "cell_type": "code",
      "execution_count": 12,
      "metadata": {
        "id": "BtIZvHSrwbTU"
      },
      "outputs": [],
      "source": [
        "def generate_subsample(n_users, top_k):\n",
        "  users = np.random.choice(interactions['user_id'].unique(), n_users)\n",
        "  interactions_new = interactions[interactions['user_id'].isin(users)].reset_index(drop=True)\n",
        "  recs = np.random.choice(interactions_new['item_id'], size=(n_users, top_k))\n",
        "  return users, interactions_new.drop(['datetime', 'weight', 'watched_pct'], axis=1).values, recs"
      ],
      "id": "BtIZvHSrwbTU"
    },
    {
      "cell_type": "code",
      "execution_count": 72,
      "metadata": {
        "id": "zENh0Ol9xII2"
      },
      "outputs": [],
      "source": [
        "users_df, target_df, recs_df  = generate_subsample(500, 5)"
      ],
      "id": "zENh0Ol9xII2"
    },
    {
      "cell_type": "code",
      "source": [
        "k=5"
      ],
      "metadata": {
        "id": "NnFAlXcv7mMN"
      },
      "id": "NnFAlXcv7mMN",
      "execution_count": 73,
      "outputs": []
    },
    {
      "cell_type": "markdown",
      "metadata": {
        "id": "kE8_D74ozgKa"
      },
      "source": [
        "Naive"
      ],
      "id": "kE8_D74ozgKa"
    },
    {
      "cell_type": "code",
      "execution_count": 74,
      "metadata": {
        "id": "cQvR7Sk3xoqp"
      },
      "outputs": [],
      "source": [
        "def mrr_naive(users, target, recs, k):\n",
        "  mrr_sub = []\n",
        "  for i, user in enumerate(users):\n",
        "    user_target = target[target[:, 0] == user][:, 1]\n",
        "    rank = 0.0\n",
        "    for j, rec in enumerate(recs[i]):\n",
        "      if rec in user_target:\n",
        "        rank = 1 / (j + 1)\n",
        "        break\n",
        "      if j == k:\n",
        "        break\n",
        "    mrr_sub.append(rank)\n",
        "  return sum(mrr_sub) / len(users)"
      ],
      "id": "cQvR7Sk3xoqp"
    },
    {
      "cell_type": "code",
      "execution_count": 75,
      "metadata": {
        "colab": {
          "base_uri": "https://localhost:8080/"
        },
        "id": "_HRv-cvjx-bV",
        "outputId": "703c9b25-b50d-414d-eed1-71016fdcba60"
      },
      "outputs": [
        {
          "output_type": "execute_result",
          "data": {
            "text/plain": [
              "0.08256666666666668"
            ]
          },
          "metadata": {},
          "execution_count": 75
        }
      ],
      "source": [
        "mrr_naive(users_df, target_df, recs_df, k)"
      ],
      "id": "_HRv-cvjx-bV"
    },
    {
      "cell_type": "markdown",
      "metadata": {
        "id": "Npm6iunQziDL"
      },
      "source": [
        "Numba"
      ],
      "id": "Npm6iunQziDL"
    },
    {
      "cell_type": "code",
      "execution_count": 76,
      "metadata": {
        "id": "J79J921tyABN"
      },
      "outputs": [],
      "source": [
        "@nb.njit(cache=True, parallel=True)\n",
        "def mrr_numba(users, target, recs, k):\n",
        "  res = np.zeros(len(users))\n",
        "  for i in nb.prange(len(users)):\n",
        "    user = users[i]\n",
        "    user_target = target[target[:, 0] == user][:, 1]\n",
        "    rank = 0\n",
        "    for j, rec in enumerate(recs[i]):\n",
        "      if rec in user_target:\n",
        "        rank = 1 / (j + 1)\n",
        "        break\n",
        "      if j == k:\n",
        "        break\n",
        "    res[i] = rank\n",
        "  return res.mean()"
      ],
      "id": "J79J921tyABN"
    },
    {
      "cell_type": "code",
      "execution_count": 77,
      "metadata": {
        "colab": {
          "base_uri": "https://localhost:8080/"
        },
        "id": "N6CENWgazqDX",
        "outputId": "c69c6551-91e6-46f3-e96b-55a8836212ec"
      },
      "outputs": [
        {
          "output_type": "execute_result",
          "data": {
            "text/plain": [
              "0.08256666666666665"
            ]
          },
          "metadata": {},
          "execution_count": 77
        }
      ],
      "source": [
        "mrr_numba(users_df, target_df, recs_df, k)"
      ],
      "id": "N6CENWgazqDX"
    },
    {
      "cell_type": "code",
      "execution_count": 78,
      "metadata": {
        "id": "77lCIyjmzy0d"
      },
      "outputs": [],
      "source": [
        "def mrr_pandas(users, target, recs, k):\n",
        "  df_recs = pd.DataFrame({\n",
        "          'user_id': np.repeat(users, k),\n",
        "          'item_id': recs.ravel()\n",
        "  })\n",
        "  df_recs['rank'] = df_recs.groupby('user_id').cumcount() + 1\n",
        "  target['target'] = 1\n",
        "  df_recs = df_recs.merge(target, how='left', left_on=['user_id', 'item_id'], right_on=['user_id', 'item_id'])\n",
        "  df_recs['mrr'] = 0\n",
        "  df_recs.loc[~df_recs['target'].isna(), 'mrr'] = 1 / (df_recs.loc[~df_recs['target'].isna(), 'rank'])\n",
        "  mrr = df_recs.groupby('user_id')['mrr'].max().mean()\n",
        "  return mrr"
      ],
      "id": "77lCIyjmzy0d"
    },
    {
      "cell_type": "code",
      "execution_count": 79,
      "metadata": {
        "colab": {
          "base_uri": "https://localhost:8080/"
        },
        "id": "KF_ePtOf0ZZ5",
        "outputId": "a53fc9cd-2e57-4599-8d12-189e441fe00c"
      },
      "outputs": [
        {
          "output_type": "execute_result",
          "data": {
            "text/plain": [
              "0.08256666666666666"
            ]
          },
          "metadata": {},
          "execution_count": 79
        }
      ],
      "source": [
        "target_df = pd.DataFrame(target_df, columns=['user_id', 'item_id'])\n",
        "mrr_pandas(users_df, target_df, recs_df, k)"
      ],
      "id": "KF_ePtOf0ZZ5"
    },
    {
      "cell_type": "code",
      "execution_count": 80,
      "metadata": {
        "colab": {
          "base_uri": "https://localhost:8080/"
        },
        "id": "MwGirjLp1F4q",
        "outputId": "7b635975-c0bf-454a-fc68-d958230c22bb"
      },
      "outputs": [
        {
          "output_type": "stream",
          "name": "stdout",
          "text": [
            "algo: mrr_naive, user_count: 10, k: 10, avg_time: 0.00044 s\n",
            "algo: mrr_numba, user_count: 10, k: 10, avg_time: 0.00018 s\n",
            "algo: mrr_pandas, user_count: 10, k: 10, avg_time: 0.00624 s\n",
            "\n",
            "algo: mrr_naive, user_count: 10, k: 50, avg_time: 0.00067 s\n",
            "algo: mrr_numba, user_count: 10, k: 50, avg_time: 0.00013 s\n",
            "algo: mrr_pandas, user_count: 10, k: 50, avg_time: 0.00610 s\n",
            "\n",
            "algo: mrr_naive, user_count: 10, k: 100, avg_time: 0.00072 s\n",
            "algo: mrr_numba, user_count: 10, k: 100, avg_time: 0.00028 s\n",
            "algo: mrr_pandas, user_count: 10, k: 100, avg_time: 0.00654 s\n",
            "\n",
            "algo: mrr_naive, user_count: 100, k: 10, avg_time: 0.00326 s\n",
            "algo: mrr_numba, user_count: 100, k: 10, avg_time: 0.00025 s\n",
            "algo: mrr_pandas, user_count: 100, k: 10, avg_time: 0.00694 s\n",
            "\n",
            "algo: mrr_naive, user_count: 100, k: 50, avg_time: 0.00910 s\n",
            "algo: mrr_numba, user_count: 100, k: 50, avg_time: 0.00026 s\n",
            "algo: mrr_pandas, user_count: 100, k: 50, avg_time: 0.00735 s\n",
            "\n",
            "algo: mrr_naive, user_count: 100, k: 100, avg_time: 0.01851 s\n",
            "algo: mrr_numba, user_count: 100, k: 100, avg_time: 0.00033 s\n",
            "algo: mrr_pandas, user_count: 100, k: 100, avg_time: 0.00822 s\n",
            "\n",
            "algo: mrr_naive, user_count: 1000, k: 10, avg_time: 0.04705 s\n",
            "algo: mrr_numba, user_count: 1000, k: 10, avg_time: 0.01031 s\n",
            "algo: mrr_pandas, user_count: 1000, k: 10, avg_time: 0.00941 s\n",
            "\n",
            "algo: mrr_naive, user_count: 1000, k: 50, avg_time: 0.11987 s\n",
            "algo: mrr_numba, user_count: 1000, k: 50, avg_time: 0.01105 s\n",
            "algo: mrr_pandas, user_count: 1000, k: 50, avg_time: 0.01786 s\n",
            "\n",
            "algo: mrr_naive, user_count: 1000, k: 100, avg_time: 0.17804 s\n",
            "algo: mrr_numba, user_count: 1000, k: 100, avg_time: 0.01029 s\n",
            "algo: mrr_pandas, user_count: 1000, k: 100, avg_time: 0.02706 s\n",
            "\n",
            "algo: mrr_naive, user_count: 10000, k: 10, avg_time: 1.60514 s\n",
            "algo: mrr_numba, user_count: 10000, k: 10, avg_time: 0.97777 s\n",
            "algo: mrr_pandas, user_count: 10000, k: 10, avg_time: 0.03950 s\n",
            "\n",
            "algo: mrr_naive, user_count: 10000, k: 50, avg_time: 2.29057 s\n",
            "algo: mrr_numba, user_count: 10000, k: 50, avg_time: 0.97893 s\n",
            "algo: mrr_pandas, user_count: 10000, k: 50, avg_time: 0.12019 s\n",
            "\n",
            "algo: mrr_naive, user_count: 10000, k: 100, avg_time: 3.00210 s\n",
            "algo: mrr_numba, user_count: 10000, k: 100, avg_time: 1.10726 s\n",
            "algo: mrr_pandas, user_count: 10000, k: 100, avg_time: 0.25389 s\n",
            "\n"
          ]
        }
      ],
      "source": [
        "from itertools import product\n",
        "\n",
        "import timeit\n",
        "\n",
        "users_count = [10, 100, 1000, 10000]\n",
        "top_k = [10, 50, 100]\n",
        "n_runs = 5\n",
        "res = []\n",
        "\n",
        "for u_count, k in list(product(users_count, top_k)):\n",
        "  users, target, recs = generate_subsample(u_count, k)\n",
        "  for algo in [mrr_naive, mrr_numba, mrr_pandas]:\n",
        "    algo_name =  algo.__name__\n",
        "    if algo_name == 'mrr_pandas':\n",
        "      target = pd.DataFrame(target, columns=['user_id', 'item_id'])\n",
        "\n",
        "    avg_time = timeit.timeit('algo(users, target, recs, k)', \"from __main__ import algo, users, target, recs, k\" , number=n_runs) / n_runs\n",
        "    print(f'algo: {algo_name}, user_count: {u_count}, k: {k}, avg_time: {avg_time:0.5f} s')\n",
        "\n",
        "    res.append({\n",
        "        'top_k': k,\n",
        "        'users_count': u_count,\n",
        "        'algo': algo_name,\n",
        "        'avg_time': avg_time\n",
        "    })\n",
        "  print()\n",
        "\n",
        "res = pd.DataFrame(res)"
      ],
      "id": "MwGirjLp1F4q"
    },
    {
      "cell_type": "code",
      "execution_count": 81,
      "metadata": {
        "id": "2_d6P6Yn1ZEL",
        "colab": {
          "base_uri": "https://localhost:8080/",
          "height": 204
        },
        "outputId": "98842d54-9f98-422f-f611-6eaf0c52faa2"
      },
      "outputs": [
        {
          "output_type": "execute_result",
          "data": {
            "text/plain": [
              "   top_k  users_count        algo  avg_time\n",
              "0     10           10   mrr_naive  0.000443\n",
              "1     10           10   mrr_numba  0.000180\n",
              "2     10           10  mrr_pandas  0.006237\n",
              "3     50           10   mrr_naive  0.000672\n",
              "4     50           10   mrr_numba  0.000134"
            ],
            "text/html": [
              "\n",
              "  <div id=\"df-40127a26-e0b3-4b0f-bc31-db55879c4fc1\">\n",
              "    <div class=\"colab-df-container\">\n",
              "      <div>\n",
              "<style scoped>\n",
              "    .dataframe tbody tr th:only-of-type {\n",
              "        vertical-align: middle;\n",
              "    }\n",
              "\n",
              "    .dataframe tbody tr th {\n",
              "        vertical-align: top;\n",
              "    }\n",
              "\n",
              "    .dataframe thead th {\n",
              "        text-align: right;\n",
              "    }\n",
              "</style>\n",
              "<table border=\"1\" class=\"dataframe\">\n",
              "  <thead>\n",
              "    <tr style=\"text-align: right;\">\n",
              "      <th></th>\n",
              "      <th>top_k</th>\n",
              "      <th>users_count</th>\n",
              "      <th>algo</th>\n",
              "      <th>avg_time</th>\n",
              "    </tr>\n",
              "  </thead>\n",
              "  <tbody>\n",
              "    <tr>\n",
              "      <th>0</th>\n",
              "      <td>10</td>\n",
              "      <td>10</td>\n",
              "      <td>mrr_naive</td>\n",
              "      <td>0.000443</td>\n",
              "    </tr>\n",
              "    <tr>\n",
              "      <th>1</th>\n",
              "      <td>10</td>\n",
              "      <td>10</td>\n",
              "      <td>mrr_numba</td>\n",
              "      <td>0.000180</td>\n",
              "    </tr>\n",
              "    <tr>\n",
              "      <th>2</th>\n",
              "      <td>10</td>\n",
              "      <td>10</td>\n",
              "      <td>mrr_pandas</td>\n",
              "      <td>0.006237</td>\n",
              "    </tr>\n",
              "    <tr>\n",
              "      <th>3</th>\n",
              "      <td>50</td>\n",
              "      <td>10</td>\n",
              "      <td>mrr_naive</td>\n",
              "      <td>0.000672</td>\n",
              "    </tr>\n",
              "    <tr>\n",
              "      <th>4</th>\n",
              "      <td>50</td>\n",
              "      <td>10</td>\n",
              "      <td>mrr_numba</td>\n",
              "      <td>0.000134</td>\n",
              "    </tr>\n",
              "  </tbody>\n",
              "</table>\n",
              "</div>\n",
              "      <button class=\"colab-df-convert\" onclick=\"convertToInteractive('df-40127a26-e0b3-4b0f-bc31-db55879c4fc1')\"\n",
              "              title=\"Convert this dataframe to an interactive table.\"\n",
              "              style=\"display:none;\">\n",
              "        \n",
              "  <svg xmlns=\"http://www.w3.org/2000/svg\" height=\"24px\"viewBox=\"0 0 24 24\"\n",
              "       width=\"24px\">\n",
              "    <path d=\"M0 0h24v24H0V0z\" fill=\"none\"/>\n",
              "    <path d=\"M18.56 5.44l.94 2.06.94-2.06 2.06-.94-2.06-.94-.94-2.06-.94 2.06-2.06.94zm-11 1L8.5 8.5l.94-2.06 2.06-.94-2.06-.94L8.5 2.5l-.94 2.06-2.06.94zm10 10l.94 2.06.94-2.06 2.06-.94-2.06-.94-.94-2.06-.94 2.06-2.06.94z\"/><path d=\"M17.41 7.96l-1.37-1.37c-.4-.4-.92-.59-1.43-.59-.52 0-1.04.2-1.43.59L10.3 9.45l-7.72 7.72c-.78.78-.78 2.05 0 2.83L4 21.41c.39.39.9.59 1.41.59.51 0 1.02-.2 1.41-.59l7.78-7.78 2.81-2.81c.8-.78.8-2.07 0-2.86zM5.41 20L4 18.59l7.72-7.72 1.47 1.35L5.41 20z\"/>\n",
              "  </svg>\n",
              "      </button>\n",
              "      \n",
              "  <style>\n",
              "    .colab-df-container {\n",
              "      display:flex;\n",
              "      flex-wrap:wrap;\n",
              "      gap: 12px;\n",
              "    }\n",
              "\n",
              "    .colab-df-convert {\n",
              "      background-color: #E8F0FE;\n",
              "      border: none;\n",
              "      border-radius: 50%;\n",
              "      cursor: pointer;\n",
              "      display: none;\n",
              "      fill: #1967D2;\n",
              "      height: 32px;\n",
              "      padding: 0 0 0 0;\n",
              "      width: 32px;\n",
              "    }\n",
              "\n",
              "    .colab-df-convert:hover {\n",
              "      background-color: #E2EBFA;\n",
              "      box-shadow: 0px 1px 2px rgba(60, 64, 67, 0.3), 0px 1px 3px 1px rgba(60, 64, 67, 0.15);\n",
              "      fill: #174EA6;\n",
              "    }\n",
              "\n",
              "    [theme=dark] .colab-df-convert {\n",
              "      background-color: #3B4455;\n",
              "      fill: #D2E3FC;\n",
              "    }\n",
              "\n",
              "    [theme=dark] .colab-df-convert:hover {\n",
              "      background-color: #434B5C;\n",
              "      box-shadow: 0px 1px 3px 1px rgba(0, 0, 0, 0.15);\n",
              "      filter: drop-shadow(0px 1px 2px rgba(0, 0, 0, 0.3));\n",
              "      fill: #FFFFFF;\n",
              "    }\n",
              "  </style>\n",
              "\n",
              "      <script>\n",
              "        const buttonEl =\n",
              "          document.querySelector('#df-40127a26-e0b3-4b0f-bc31-db55879c4fc1 button.colab-df-convert');\n",
              "        buttonEl.style.display =\n",
              "          google.colab.kernel.accessAllowed ? 'block' : 'none';\n",
              "\n",
              "        async function convertToInteractive(key) {\n",
              "          const element = document.querySelector('#df-40127a26-e0b3-4b0f-bc31-db55879c4fc1');\n",
              "          const dataTable =\n",
              "            await google.colab.kernel.invokeFunction('convertToInteractive',\n",
              "                                                     [key], {});\n",
              "          if (!dataTable) return;\n",
              "\n",
              "          const docLinkHtml = 'Like what you see? Visit the ' +\n",
              "            '<a target=\"_blank\" href=https://colab.research.google.com/notebooks/data_table.ipynb>data table notebook</a>'\n",
              "            + ' to learn more about interactive tables.';\n",
              "          element.innerHTML = '';\n",
              "          dataTable['output_type'] = 'display_data';\n",
              "          await google.colab.output.renderOutput(dataTable, element);\n",
              "          const docLink = document.createElement('div');\n",
              "          docLink.innerHTML = docLinkHtml;\n",
              "          element.appendChild(docLink);\n",
              "        }\n",
              "      </script>\n",
              "    </div>\n",
              "  </div>\n",
              "  "
            ]
          },
          "metadata": {},
          "execution_count": 81
        }
      ],
      "source": [
        "res.head()"
      ],
      "id": "2_d6P6Yn1ZEL"
    },
    {
      "cell_type": "code",
      "execution_count": 82,
      "metadata": {
        "id": "zdJAPD5k2Nje"
      },
      "outputs": [],
      "source": [
        "import seaborn as sns\n",
        "\n",
        "def plot(need_log=False, y_lim=(0, 0.4)):\n",
        "  time_col = 'log_time' if need_log else 'avg_time'\n",
        "  g = sns.FacetGrid(res, col=\"top_k\", hue='algo')\n",
        "  g.figure.set_size_inches(15, 4)\n",
        "  g.map(sns.lineplot, \"users_count\", time_col, marker=\"o\")\n",
        "  g.set(ylim=y_lim)\n",
        "  g.add_legend()"
      ],
      "id": "zdJAPD5k2Nje"
    },
    {
      "cell_type": "code",
      "execution_count": 83,
      "metadata": {
        "id": "Gd_JuWmQ2R0D",
        "colab": {
          "base_uri": "https://localhost:8080/",
          "height": 297
        },
        "outputId": "dfd95777-6bcb-478b-8863-dbab8f68fae5"
      },
      "outputs": [
        {
          "output_type": "display_data",
          "data": {
            "text/plain": [
              "<Figure size 1175.25x288 with 3 Axes>"
            ],
            "image/png": "[encoded data removed]"
          },
          "metadata": {
            "needs_background": "light"
          }
        }
      ],
      "source": [
        "plot(y_lim=(0, 5))"
      ],
      "id": "Gd_JuWmQ2R0D"
    },
    {
      "cell_type": "code",
      "execution_count": null,
      "metadata": {
        "id": "xkMlWn9s2Wza"
      },
      "outputs": [],
      "source": [],
      "id": "xkMlWn9s2Wza"
    }
  ],
  "metadata": {
    "colab": {
      "provenance": []
    },
    "kernelspec": {
      "display_name": "Python 3 (ipykernel)",
      "language": "python",
      "name": "python3"
    },
    "language_info": {
      "codemirror_mode": {
        "name": "ipython",
        "version": 3
      },
      "file_extension": ".py",
      "mimetype": "text/x-python",
      "name": "python",
      "nbconvert_exporter": "python",
      "pygments_lexer": "ipython3",
      "version": "3.9.6"
    },
    "toc": {
      "base_numbering": 1,
      "nav_menu": {},
      "number_sections": true,
      "sideBar": true,
      "skip_h1_title": true,
      "title_cell": "Table of Contents",
      "title_sidebar": "Contents",
      "toc_cell": false,
      "toc_position": {
        "height": "calc(100% - 180px)",
        "left": "10px",
        "top": "150px",
        "width": "221px"
      },
      "toc_section_display": true,
      "toc_window_display": true
    },
    "widgets": {
      "application/vnd.jupyter.widget-state+json": {
        "4145fff500104301bf0b9e4965a678fc": {
          "model_module": "@jupyter-widgets/controls",
          "model_name": "HBoxModel",
          "model_module_version": "1.5.0",
          "state": {
            "_dom_classes": [],
            "_model_module": "@jupyter-widgets/controls",
            "_model_module_version": "1.5.0",
            "_model_name": "HBoxModel",
            "_view_count": null,
            "_view_module": "@jupyter-widgets/controls",
            "_view_module_version": "1.5.0",
            "_view_name": "HBoxView",
            "box_style": "",
            "children": [
              "IPY_MODEL_0aebb2201338472aa97ebf9df4a208b8",
              "IPY_MODEL_24eacb5f4a0e41f391ec88261e615a53",
              "IPY_MODEL_e1b9f36ff8aa46be970ba8a2effe6de9"
            ],
            "layout": "IPY_MODEL_83b0ac8087d74fec8229ac16c889e121"
          }
        },
        "0aebb2201338472aa97ebf9df4a208b8": {
          "model_module": "@jupyter-widgets/controls",
          "model_name": "HTMLModel",
          "model_module_version": "1.5.0",
          "state": {
            "_dom_classes": [],
            "_model_module": "@jupyter-widgets/controls",
            "_model_module_version": "1.5.0",
            "_model_name": "HTMLModel",
            "_view_count": null,
            "_view_module": "@jupyter-widgets/controls",
            "_view_module_version": "1.5.0",
            "_view_name": "HTMLView",
            "description": "",
            "description_tooltip": null,
            "layout": "IPY_MODEL_2543285791bb4959add7c386b33adc06",
            "placeholder": "​",
            "style": "IPY_MODEL_b4bf33a388a84c138cba6e3457a27fb2",
            "value": "kion dataset download: 100%"
          }
        },
        "24eacb5f4a0e41f391ec88261e615a53": {
          "model_module": "@jupyter-widgets/controls",
          "model_name": "FloatProgressModel",
          "model_module_version": "1.5.0",
          "state": {
            "_dom_classes": [],
            "_model_module": "@jupyter-widgets/controls",
            "_model_module_version": "1.5.0",
            "_model_name": "FloatProgressModel",
            "_view_count": null,
            "_view_module": "@jupyter-widgets/controls",
            "_view_module_version": "1.5.0",
            "_view_name": "ProgressView",
            "bar_style": "",
            "description": "",
            "description_tooltip": null,
            "layout": "IPY_MODEL_07c11ec63f0d4885bd399e85b502bd56",
            "max": 78795295,
            "min": 0,
            "orientation": "horizontal",
            "style": "IPY_MODEL_9000dba771464ba8af7111d233208c74",
            "value": 78795295
          }
        },
        "e1b9f36ff8aa46be970ba8a2effe6de9": {
          "model_module": "@jupyter-widgets/controls",
          "model_name": "HTMLModel",
          "model_module_version": "1.5.0",
          "state": {
            "_dom_classes": [],
            "_model_module": "@jupyter-widgets/controls",
            "_model_module_version": "1.5.0",
            "_model_name": "HTMLModel",
            "_view_count": null,
            "_view_module": "@jupyter-widgets/controls",
            "_view_module_version": "1.5.0",
            "_view_name": "HTMLView",
            "description": "",
            "description_tooltip": null,
            "layout": "IPY_MODEL_d46d30d9749044b38dd3d687550bcec0",
            "placeholder": "​",
            "style": "IPY_MODEL_40b40fc55b334967aea80229f73311b3",
            "value": " 78.8M/78.8M [00:20&lt;00:00, 209MiB/s]"
          }
        },
        "83b0ac8087d74fec8229ac16c889e121": {
          "model_module": "@jupyter-widgets/base",
          "model_name": "LayoutModel",
          "model_module_version": "1.2.0",
          "state": {
            "_model_module": "@jupyter-widgets/base",
            "_model_module_version": "1.2.0",
            "_model_name": "LayoutModel",
            "_view_count": null,
            "_view_module": "@jupyter-widgets/base",
            "_view_module_version": "1.2.0",
            "_view_name": "LayoutView",
            "align_content": null,
            "align_items": null,
            "align_self": null,
            "border": null,
            "bottom": null,
            "display": null,
            "flex": null,
            "flex_flow": null,
            "grid_area": null,
            "grid_auto_columns": null,
            "grid_auto_flow": null,
            "grid_auto_rows": null,
            "grid_column": null,
            "grid_gap": null,
            "grid_row": null,
            "grid_template_areas": null,
            "grid_template_columns": null,
            "grid_template_rows": null,
            "height": null,
            "justify_content": null,
            "justify_items": null,
            "left": null,
            "margin": null,
            "max_height": null,
            "max_width": null,
            "min_height": null,
            "min_width": null,
            "object_fit": null,
            "object_position": null,
            "order": null,
            "overflow": null,
            "overflow_x": null,
            "overflow_y": null,
            "padding": null,
            "right": null,
            "top": null,
            "visibility": null,
            "width": null
          }
        },
        "2543285791bb4959add7c386b33adc06": {
          "model_module": "@jupyter-widgets/base",
          "model_name": "LayoutModel",
          "model_module_version": "1.2.0",
          "state": {
            "_model_module": "@jupyter-widgets/base",
            "_model_module_version": "1.2.0",
            "_model_name": "LayoutModel",
            "_view_count": null,
            "_view_module": "@jupyter-widgets/base",
            "_view_module_version": "1.2.0",
            "_view_name": "LayoutView",
            "align_content": null,
            "align_items": null,
            "align_self": null,
            "border": null,
            "bottom": null,
            "display": null,
            "flex": null,
            "flex_flow": null,
            "grid_area": null,
            "grid_auto_columns": null,
            "grid_auto_flow": null,
            "grid_auto_rows": null,
            "grid_column": null,
            "grid_gap": null,
            "grid_row": null,
            "grid_template_areas": null,
            "grid_template_columns": null,
            "grid_template_rows": null,
            "height": null,
            "justify_content": null,
            "justify_items": null,
            "left": null,
            "margin": null,
            "max_height": null,
            "max_width": null,
            "min_height": null,
            "min_width": null,
            "object_fit": null,
            "object_position": null,
            "order": null,
            "overflow": null,
            "overflow_x": null,
            "overflow_y": null,
            "padding": null,
            "right": null,
            "top": null,
            "visibility": null,
            "width": null
          }
        },
        "b4bf33a388a84c138cba6e3457a27fb2": {
          "model_module": "@jupyter-widgets/controls",
          "model_name": "DescriptionStyleModel",
          "model_module_version": "1.5.0",
          "state": {
            "_model_module": "@jupyter-widgets/controls",
            "_model_module_version": "1.5.0",
            "_model_name": "DescriptionStyleModel",
            "_view_count": null,
            "_view_module": "@jupyter-widgets/base",
            "_view_module_version": "1.2.0",
            "_view_name": "StyleView",
            "description_width": ""
          }
        },
        "07c11ec63f0d4885bd399e85b502bd56": {
          "model_module": "@jupyter-widgets/base",
          "model_name": "LayoutModel",
          "model_module_version": "1.2.0",
          "state": {
            "_model_module": "@jupyter-widgets/base",
            "_model_module_version": "1.2.0",
            "_model_name": "LayoutModel",
            "_view_count": null,
            "_view_module": "@jupyter-widgets/base",
            "_view_module_version": "1.2.0",
            "_view_name": "LayoutView",
            "align_content": null,
            "align_items": null,
            "align_self": null,
            "border": null,
            "bottom": null,
            "display": null,
            "flex": null,
            "flex_flow": null,
            "grid_area": null,
            "grid_auto_columns": null,
            "grid_auto_flow": null,
            "grid_auto_rows": null,
            "grid_column": null,
            "grid_gap": null,
            "grid_row": null,
            "grid_template_areas": null,
            "grid_template_columns": null,
            "grid_template_rows": null,
            "height": null,
            "justify_content": null,
            "justify_items": null,
            "left": null,
            "margin": null,
            "max_height": null,
            "max_width": null,
            "min_height": null,
            "min_width": null,
            "object_fit": null,
            "object_position": null,
            "order": null,
            "overflow": null,
            "overflow_x": null,
            "overflow_y": null,
            "padding": null,
            "right": null,
            "top": null,
            "visibility": null,
            "width": null
          }
        },
        "9000dba771464ba8af7111d233208c74": {
          "model_module": "@jupyter-widgets/controls",
          "model_name": "ProgressStyleModel",
          "model_module_version": "1.5.0",
          "state": {
            "_model_module": "@jupyter-widgets/controls",
            "_model_module_version": "1.5.0",
            "_model_name": "ProgressStyleModel",
            "_view_count": null,
            "_view_module": "@jupyter-widgets/base",
            "_view_module_version": "1.2.0",
            "_view_name": "StyleView",
            "bar_color": null,
            "description_width": ""
          }
        },
        "d46d30d9749044b38dd3d687550bcec0": {
          "model_module": "@jupyter-widgets/base",
          "model_name": "LayoutModel",
          "model_module_version": "1.2.0",
          "state": {
            "_model_module": "@jupyter-widgets/base",
            "_model_module_version": "1.2.0",
            "_model_name": "LayoutModel",
            "_view_count": null,
            "_view_module": "@jupyter-widgets/base",
            "_view_module_version": "1.2.0",
            "_view_name": "LayoutView",
            "align_content": null,
            "align_items": null,
            "align_self": null,
            "border": null,
            "bottom": null,
            "display": null,
            "flex": null,
            "flex_flow": null,
            "grid_area": null,
            "grid_auto_columns": null,
            "grid_auto_flow": null,
            "grid_auto_rows": null,
            "grid_column": null,
            "grid_gap": null,
            "grid_row": null,
            "grid_template_areas": null,
            "grid_template_columns": null,
            "grid_template_rows": null,
            "height": null,
            "justify_content": null,
            "justify_items": null,
            "left": null,
            "margin": null,
            "max_height": null,
            "max_width": null,
            "min_height": null,
            "min_width": null,
            "object_fit": null,
            "object_position": null,
            "order": null,
            "overflow": null,
            "overflow_x": null,
            "overflow_y": null,
            "padding": null,
            "right": null,
            "top": null,
            "visibility": null,
            "width": null
          }
        },
        "40b40fc55b334967aea80229f73311b3": {
          "model_module": "@jupyter-widgets/controls",
          "model_name": "DescriptionStyleModel",
          "model_module_version": "1.5.0",
          "state": {
            "_model_module": "@jupyter-widgets/controls",
            "_model_module_version": "1.5.0",
            "_model_name": "DescriptionStyleModel",
            "_view_count": null,
            "_view_module": "@jupyter-widgets/base",
            "_view_module_version": "1.2.0",
            "_view_name": "StyleView",
            "description_width": ""
          }
        }
      }
    },
    "accelerator": "GPU",
    "gpuClass": "standard"
  },
  "nbformat": 4,
  "nbformat_minor": 5
}