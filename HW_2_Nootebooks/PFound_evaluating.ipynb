{
 "cells": [
  {
   "cell_type": "code",
   "execution_count": 1,
   "id": "2b80ff7a",
   "metadata": {},
   "outputs": [],
   "source": [
    "import warnings\n",
    "warnings.simplefilter(action='ignore', category=FutureWarning)"
   ]
  },
  {
   "cell_type": "code",
   "execution_count": 2,
   "id": "5a77021b",
   "metadata": {},
   "outputs": [],
   "source": [
    "import pandas as pd\n",
    "import numpy as np"
   ]
  },
  {
   "cell_type": "markdown",
   "id": "6c3c81ab",
   "metadata": {},
   "source": [
    "## Загружаем данные"
   ]
  },
  {
   "cell_type": "code",
   "execution_count": 3,
   "id": "27e8e888",
   "metadata": {},
   "outputs": [],
   "source": [
    "data_dir = 'data'"
   ]
  },
  {
   "cell_type": "code",
   "execution_count": 4,
   "id": "53a45a8e",
   "metadata": {},
   "outputs": [],
   "source": [
    "qid_query = pd.read_csv(f\"{data_dir}/hidden_task/qid_query.tsv\", \n",
    "                        sep=\"\\t\", \n",
    "                        names=[\"qid\", \"query\"])\n",
    "qid_url_rating = pd.read_csv(f\"{data_dir}/hidden_task/qid_url_rating.tsv\", \n",
    "                             sep=\"\\t\", \n",
    "                             names=[\"qid\", \"url\", \"rating\"])\n",
    "hostid_url = pd.read_csv(f\"{data_dir}/hidden_task/hostid_url.tsv\", \n",
    "                         sep=\"\\t\", \n",
    "                         names=[\"hostid\", \"url\"])"
   ]
  },
  {
   "cell_type": "markdown",
   "id": "799342d7",
   "metadata": {},
   "source": [
    "Мерджим таблицы, чтобы было проще брать url с максимальным рейнтингом"
   ]
  },
  {
   "cell_type": "code",
   "execution_count": 5,
   "id": "3fe8a83d",
   "metadata": {},
   "outputs": [
    {
     "data": {
      "text/html": [
       "<div>\n",
       "<style scoped>\n",
       "    .dataframe tbody tr th:only-of-type {\n",
       "        vertical-align: middle;\n",
       "    }\n",
       "\n",
       "    .dataframe tbody tr th {\n",
       "        vertical-align: top;\n",
       "    }\n",
       "\n",
       "    .dataframe thead th {\n",
       "        text-align: right;\n",
       "    }\n",
       "</style>\n",
       "<table border=\"1\" class=\"dataframe\">\n",
       "  <thead>\n",
       "    <tr style=\"text-align: right;\">\n",
       "      <th></th>\n",
       "      <th>qid</th>\n",
       "      <th>url</th>\n",
       "      <th>rating</th>\n",
       "      <th>hostid</th>\n",
       "    </tr>\n",
       "  </thead>\n",
       "  <tbody>\n",
       "    <tr>\n",
       "      <th>0</th>\n",
       "      <td>402111</td>\n",
       "      <td>http://24-job.com/board/job_australia/232-1-2-...</td>\n",
       "      <td>0.07</td>\n",
       "      <td>7</td>\n",
       "    </tr>\n",
       "    <tr>\n",
       "      <th>1</th>\n",
       "      <td>402111</td>\n",
       "      <td>http://24-job.com/board/job_australia/232-1-2-...</td>\n",
       "      <td>0.07</td>\n",
       "      <td>7</td>\n",
       "    </tr>\n",
       "    <tr>\n",
       "      <th>2</th>\n",
       "      <td>402111</td>\n",
       "      <td>http://802351.info/5964-v-avstralii.html</td>\n",
       "      <td>0.00</td>\n",
       "      <td>13</td>\n",
       "    </tr>\n",
       "    <tr>\n",
       "      <th>3</th>\n",
       "      <td>402111</td>\n",
       "      <td>http://auscommunity.com/blog/jobs/</td>\n",
       "      <td>0.00</td>\n",
       "      <td>53</td>\n",
       "    </tr>\n",
       "    <tr>\n",
       "      <th>4</th>\n",
       "      <td>402111</td>\n",
       "      <td>http://auscommunity.com/tag/%D1%84%D0%BE%D1%82...</td>\n",
       "      <td>0.00</td>\n",
       "      <td>53</td>\n",
       "    </tr>\n",
       "  </tbody>\n",
       "</table>\n",
       "</div>"
      ],
      "text/plain": [
       "      qid                                                url  rating  hostid\n",
       "0  402111  http://24-job.com/board/job_australia/232-1-2-...    0.07       7\n",
       "1  402111  http://24-job.com/board/job_australia/232-1-2-...    0.07       7\n",
       "2  402111           http://802351.info/5964-v-avstralii.html    0.00      13\n",
       "3  402111                 http://auscommunity.com/blog/jobs/    0.00      53\n",
       "4  402111  http://auscommunity.com/tag/%D1%84%D0%BE%D1%82...    0.00      53"
      ]
     },
     "execution_count": 5,
     "metadata": {},
     "output_type": "execute_result"
    }
   ],
   "source": [
    "qid_url_rating_hostid = pd.merge(qid_url_rating, hostid_url, on=\"url\")\n",
    "qid_url_rating_hostid.head()"
   ]
  },
  {
   "cell_type": "markdown",
   "id": "bd32ba8a",
   "metadata": {},
   "source": [
    "## Имплементация подсчёта метрики PFound с примера"
   ]
  },
  {
   "cell_type": "code",
   "execution_count": 6,
   "id": "d293f3b9",
   "metadata": {},
   "outputs": [],
   "source": [
    "def plook(ind, rels):\n",
    "    if ind == 0:\n",
    "        return 1\n",
    "    return plook(ind-1, rels)*(1-rels[ind-1])*(1-0.15)\n",
    "\n",
    "\n",
    "def pfound(group, k: int = 10):\n",
    "    max_by_host = group.groupby(\"hostid\")[\"rating\"].max() # максимальный рейтинг хоста\n",
    "    top10 = max_by_host.sort_values(ascending=False)[:k] # берем топ10 урлов с наивысшим рейтингом\n",
    "    pfound = 0\n",
    "    for ind, val in enumerate(top10):\n",
    "        pfound += val*plook(ind, top10.values)\n",
    "    return pfound"
   ]
  },
  {
   "cell_type": "markdown",
   "id": "7de43318",
   "metadata": {},
   "source": [
    "Проверим его работу"
   ]
  },
  {
   "cell_type": "code",
   "execution_count": 7,
   "id": "415b1806",
   "metadata": {},
   "outputs": [
    {
     "data": {
      "text/html": [
       "<div>\n",
       "<style scoped>\n",
       "    .dataframe tbody tr th:only-of-type {\n",
       "        vertical-align: middle;\n",
       "    }\n",
       "\n",
       "    .dataframe tbody tr th {\n",
       "        vertical-align: top;\n",
       "    }\n",
       "\n",
       "    .dataframe thead th {\n",
       "        text-align: right;\n",
       "    }\n",
       "</style>\n",
       "<table border=\"1\" class=\"dataframe\">\n",
       "  <thead>\n",
       "    <tr style=\"text-align: right;\">\n",
       "      <th></th>\n",
       "      <th>qid</th>\n",
       "      <th>query</th>\n",
       "    </tr>\n",
       "  </thead>\n",
       "  <tbody>\n",
       "    <tr>\n",
       "      <th>14</th>\n",
       "      <td>692308</td>\n",
       "      <td>бесплатный просмотр камеди клаб</td>\n",
       "    </tr>\n",
       "  </tbody>\n",
       "</table>\n",
       "</div>"
      ],
      "text/plain": [
       "       qid                            query\n",
       "14  692308  бесплатный просмотр камеди клаб"
      ]
     },
     "execution_count": 7,
     "metadata": {},
     "output_type": "execute_result"
    }
   ],
   "source": [
    "qid_pfound = qid_url_rating_hostid.groupby('qid').apply(pfound) # группируем по qid и вычисляем pfound\n",
    "qid_max = qid_pfound.idxmax() # берем qid с максимальным pfound\n",
    "\n",
    "qid_query[qid_query[\"qid\"] == qid_max]"
   ]
  },
  {
   "cell_type": "markdown",
   "id": "ad64088a",
   "metadata": {},
   "source": [
    "На основании этой реализации, напишем функцию, которая возвращает средний pFound по всем query"
   ]
  },
  {
   "cell_type": "code",
   "execution_count": 8,
   "id": "b6eb03f3",
   "metadata": {},
   "outputs": [],
   "source": [
    "def mean_pfound_yandex(qid_url_rating_hostid: pd.DataFrame) -> float:\n",
    "    qid_pfound = qid_url_rating_hostid.groupby('qid').apply(pfound)\n",
    "    return qid_pfound.mean()"
   ]
  },
  {
   "cell_type": "code",
   "execution_count": 9,
   "id": "d60c0fda",
   "metadata": {},
   "outputs": [
    {
     "name": "stdout",
     "output_type": "stream",
     "text": [
      "Средний PFound по всем query: 0.5822199638393889\n"
     ]
    }
   ],
   "source": [
    "print(f'Средний PFound по всем query: {mean_pfound_yandex(qid_url_rating_hostid)}')"
   ]
  },
  {
   "cell_type": "markdown",
   "id": "95710bee",
   "metadata": {},
   "source": [
    "А также проверим скорость выполнения данной реализации"
   ]
  },
  {
   "cell_type": "code",
   "execution_count": 10,
   "id": "982f63dc",
   "metadata": {},
   "outputs": [
    {
     "name": "stdout",
     "output_type": "stream",
     "text": [
      "10.4 ms ± 137 µs per loop (mean ± std. dev. of 7 runs, 100 loops each)\n"
     ]
    }
   ],
   "source": [
    "%%timeit\n",
    "mean_pfound_yandex(qid_url_rating_hostid)"
   ]
  },
  {
   "cell_type": "markdown",
   "id": "c5a4d38e",
   "metadata": {},
   "source": [
    "## Реализуем свою версию метрики PFound без использования циклов"
   ]
  },
  {
   "cell_type": "code",
   "execution_count": 11,
   "id": "4b1b9186",
   "metadata": {},
   "outputs": [],
   "source": [
    "qid_url_rating_hostid = pd.merge(qid_url_rating, hostid_url, on=\"url\")"
   ]
  },
  {
   "cell_type": "markdown",
   "id": "b48d1c5c",
   "metadata": {},
   "source": [
    "Сгруппируем датасет таким образом, чтобы для каждого запроса оставить только одну ссылку с максимальным рейнтингом"
   ]
  },
  {
   "cell_type": "code",
   "execution_count": 12,
   "id": "c8ef9c3e",
   "metadata": {},
   "outputs": [
    {
     "name": "stdout",
     "output_type": "stream",
     "text": [
      "CPU times: user 2.38 ms, sys: 0 ns, total: 2.38 ms\n",
      "Wall time: 2.2 ms\n"
     ]
    }
   ],
   "source": [
    "%%time\n",
    "max_rate_by_qid_hostid = qid_url_rating_hostid[['qid', 'rating', 'hostid']]\n",
    "max_rate_by_qid_hostid = max_rate_by_qid_hostid.groupby(['qid', 'hostid']).max()"
   ]
  },
  {
   "cell_type": "markdown",
   "id": "7f1cb80d",
   "metadata": {},
   "source": [
    "Далее отсортируем рейнтинг каждой ссылки по возрастанию внутри каждого запроса, чтобы использовать полученный датасет для определения топа рекомендаций"
   ]
  },
  {
   "cell_type": "code",
   "execution_count": 13,
   "id": "183c12ab",
   "metadata": {},
   "outputs": [
    {
     "name": "stdout",
     "output_type": "stream",
     "text": [
      "CPU times: user 2.24 ms, sys: 0 ns, total: 2.24 ms\n",
      "Wall time: 2.02 ms\n"
     ]
    },
    {
     "data": {
      "text/html": [
       "<div>\n",
       "<style scoped>\n",
       "    .dataframe tbody tr th:only-of-type {\n",
       "        vertical-align: middle;\n",
       "    }\n",
       "\n",
       "    .dataframe tbody tr th {\n",
       "        vertical-align: top;\n",
       "    }\n",
       "\n",
       "    .dataframe thead th {\n",
       "        text-align: right;\n",
       "    }\n",
       "</style>\n",
       "<table border=\"1\" class=\"dataframe\">\n",
       "  <thead>\n",
       "    <tr style=\"text-align: right;\">\n",
       "      <th></th>\n",
       "      <th></th>\n",
       "      <th>rating</th>\n",
       "      <th>top</th>\n",
       "    </tr>\n",
       "    <tr>\n",
       "      <th>qid</th>\n",
       "      <th>hostid</th>\n",
       "      <th></th>\n",
       "      <th></th>\n",
       "    </tr>\n",
       "  </thead>\n",
       "  <tbody>\n",
       "    <tr>\n",
       "      <th rowspan=\"5\" valign=\"top\">692308</th>\n",
       "      <th>1035</th>\n",
       "      <td>0.61</td>\n",
       "      <td>1</td>\n",
       "    </tr>\n",
       "    <tr>\n",
       "      <th>551</th>\n",
       "      <td>0.41</td>\n",
       "      <td>2</td>\n",
       "    </tr>\n",
       "    <tr>\n",
       "      <th>1155</th>\n",
       "      <td>0.41</td>\n",
       "      <td>3</td>\n",
       "    </tr>\n",
       "    <tr>\n",
       "      <th>33</th>\n",
       "      <td>0.14</td>\n",
       "      <td>4</td>\n",
       "    </tr>\n",
       "    <tr>\n",
       "      <th>70</th>\n",
       "      <td>0.14</td>\n",
       "      <td>5</td>\n",
       "    </tr>\n",
       "    <tr>\n",
       "      <th>...</th>\n",
       "      <th>...</th>\n",
       "      <td>...</td>\n",
       "      <td>...</td>\n",
       "    </tr>\n",
       "    <tr>\n",
       "      <th rowspan=\"5\" valign=\"top\">5308</th>\n",
       "      <th>734</th>\n",
       "      <td>0.00</td>\n",
       "      <td>18</td>\n",
       "    </tr>\n",
       "    <tr>\n",
       "      <th>767</th>\n",
       "      <td>0.00</td>\n",
       "      <td>19</td>\n",
       "    </tr>\n",
       "    <tr>\n",
       "      <th>866</th>\n",
       "      <td>0.00</td>\n",
       "      <td>20</td>\n",
       "    </tr>\n",
       "    <tr>\n",
       "      <th>1050</th>\n",
       "      <td>0.00</td>\n",
       "      <td>21</td>\n",
       "    </tr>\n",
       "    <tr>\n",
       "      <th>1097</th>\n",
       "      <td>0.00</td>\n",
       "      <td>22</td>\n",
       "    </tr>\n",
       "  </tbody>\n",
       "</table>\n",
       "<p>607 rows × 2 columns</p>\n",
       "</div>"
      ],
      "text/plain": [
       "               rating  top\n",
       "qid    hostid             \n",
       "692308 1035      0.61    1\n",
       "       551       0.41    2\n",
       "       1155      0.41    3\n",
       "       33        0.14    4\n",
       "       70        0.14    5\n",
       "...               ...  ...\n",
       "5308   734       0.00   18\n",
       "       767       0.00   19\n",
       "       866       0.00   20\n",
       "       1050      0.00   21\n",
       "       1097      0.00   22\n",
       "\n",
       "[607 rows x 2 columns]"
      ]
     },
     "execution_count": 13,
     "metadata": {},
     "output_type": "execute_result"
    }
   ],
   "source": [
    "%%time\n",
    "max_rate_by_qid_hostid = max_rate_by_qid_hostid.sort_values(['qid', 'rating'], ascending=False)\n",
    "max_rate_by_qid_hostid['top'] = max_rate_by_qid_hostid.groupby('qid').cumcount() + 1\n",
    "max_rate_by_qid_hostid"
   ]
  },
  {
   "cell_type": "markdown",
   "id": "65621891",
   "metadata": {},
   "source": [
    "Отфильтруем те значения из рекомендаций, который не входят в TopK"
   ]
  },
  {
   "cell_type": "code",
   "execution_count": 14,
   "id": "a60c7bda",
   "metadata": {},
   "outputs": [],
   "source": [
    "k = 10"
   ]
  },
  {
   "cell_type": "code",
   "execution_count": 15,
   "id": "ae889944",
   "metadata": {},
   "outputs": [
    {
     "name": "stdout",
     "output_type": "stream",
     "text": [
      "CPU times: user 0 ns, sys: 1.57 ms, total: 1.57 ms\n",
      "Wall time: 1.36 ms\n"
     ]
    }
   ],
   "source": [
    "%%time\n",
    "topk_recs_for_qid = max_rate_by_qid_hostid[max_rate_by_qid_hostid['top'] <= k]\n",
    "topk_recs_for_qid = topk_recs_for_qid.reset_index()"
   ]
  },
  {
   "cell_type": "markdown",
   "id": "758ade4e",
   "metadata": {},
   "source": [
    "Добавим переменные для расчета согласно формуле\n"
   ]
  },
  {
   "attachments": {
    "image.png": {
     "image/png": "[encoded data removed]"
    }
   },
   "cell_type": "markdown",
   "id": "9e6c195a",
   "metadata": {},
   "source": [
    "![image.png](attachment:image.png)"
   ]
  },
  {
   "cell_type": "code",
   "execution_count": 16,
   "id": "5a21b519",
   "metadata": {},
   "outputs": [],
   "source": [
    "p_break = 0.15"
   ]
  },
  {
   "cell_type": "markdown",
   "id": "aa991648",
   "metadata": {},
   "source": [
    "Так как в формуле показатель релевантности используется со смещением, сделаем его:"
   ]
  },
  {
   "cell_type": "code",
   "execution_count": 17,
   "id": "fa8b4cad",
   "metadata": {},
   "outputs": [
    {
     "name": "stdout",
     "output_type": "stream",
     "text": [
      "CPU times: user 536 µs, sys: 0 ns, total: 536 µs\n",
      "Wall time: 527 µs\n"
     ]
    }
   ],
   "source": [
    "%%time\n",
    "topk_recs_for_qid['pReilShift1'] = topk_recs_for_qid['rating'].shift(1)"
   ]
  },
  {
   "cell_type": "markdown",
   "id": "3aad72cc",
   "metadata": {},
   "source": [
    "Рассчитаем множитель перед Plook с участием pReil:"
   ]
  },
  {
   "cell_type": "code",
   "execution_count": 18,
   "id": "dc6bf301",
   "metadata": {},
   "outputs": [
    {
     "name": "stdout",
     "output_type": "stream",
     "text": [
      "CPU times: user 568 µs, sys: 54 µs, total: 622 µs\n",
      "Wall time: 616 µs\n"
     ]
    }
   ],
   "source": [
    "%%time\n",
    "topk_recs_for_qid['pLookMulti'] = (1 - topk_recs_for_qid['pReilShift1']) * (1 - p_break)"
   ]
  },
  {
   "cell_type": "markdown",
   "id": "599cc675",
   "metadata": {},
   "source": [
    "Так как по условию pLook[1]=1:"
   ]
  },
  {
   "cell_type": "code",
   "execution_count": 19,
   "id": "ab512444",
   "metadata": {},
   "outputs": [
    {
     "name": "stdout",
     "output_type": "stream",
     "text": [
      "CPU times: user 0 ns, sys: 470 µs, total: 470 µs\n",
      "Wall time: 473 µs\n"
     ]
    }
   ],
   "source": [
    "%%time\n",
    "topk_recs_for_qid.loc[(topk_recs_for_qid['top'] == 1), 'pLookMulti'] = 1"
   ]
  },
  {
   "cell_type": "markdown",
   "id": "698f976d",
   "metadata": {},
   "source": [
    "Так как в значение каждого pLook[i] участвуе pLook[i - 1] в качестве множителя, то воспользуемся накапливаемым произведением, чтобы это учесть для значений заранее посчитанного нами множителя, сгруппировав по qid"
   ]
  },
  {
   "cell_type": "code",
   "execution_count": 20,
   "id": "45ff1e12",
   "metadata": {},
   "outputs": [
    {
     "name": "stdout",
     "output_type": "stream",
     "text": [
      "CPU times: user 847 µs, sys: 80 µs, total: 927 µs\n",
      "Wall time: 899 µs\n"
     ]
    }
   ],
   "source": [
    "%%time\n",
    "topk_recs_for_qid['pLook'] = topk_recs_for_qid.groupby('qid')['pLookMulti'].cumprod()"
   ]
  },
  {
   "cell_type": "markdown",
   "id": "bc7db5db",
   "metadata": {},
   "source": [
    "Теперь рассчитаем произведение pLook[i] и pReil[i]"
   ]
  },
  {
   "cell_type": "code",
   "execution_count": 21,
   "id": "644251f0",
   "metadata": {},
   "outputs": [
    {
     "name": "stdout",
     "output_type": "stream",
     "text": [
      "CPU times: user 621 µs, sys: 0 ns, total: 621 µs\n",
      "Wall time: 613 µs\n"
     ]
    },
    {
     "data": {
      "text/html": [
       "<div>\n",
       "<style scoped>\n",
       "    .dataframe tbody tr th:only-of-type {\n",
       "        vertical-align: middle;\n",
       "    }\n",
       "\n",
       "    .dataframe tbody tr th {\n",
       "        vertical-align: top;\n",
       "    }\n",
       "\n",
       "    .dataframe thead th {\n",
       "        text-align: right;\n",
       "    }\n",
       "</style>\n",
       "<table border=\"1\" class=\"dataframe\">\n",
       "  <thead>\n",
       "    <tr style=\"text-align: right;\">\n",
       "      <th></th>\n",
       "      <th>qid</th>\n",
       "      <th>hostid</th>\n",
       "      <th>rating</th>\n",
       "      <th>top</th>\n",
       "      <th>pReilShift1</th>\n",
       "      <th>pLookMulti</th>\n",
       "      <th>pLook</th>\n",
       "      <th>pFound</th>\n",
       "    </tr>\n",
       "  </thead>\n",
       "  <tbody>\n",
       "    <tr>\n",
       "      <th>0</th>\n",
       "      <td>692308</td>\n",
       "      <td>1035</td>\n",
       "      <td>0.61</td>\n",
       "      <td>1</td>\n",
       "      <td>NaN</td>\n",
       "      <td>1.0000</td>\n",
       "      <td>1.000000</td>\n",
       "      <td>0.610000</td>\n",
       "    </tr>\n",
       "    <tr>\n",
       "      <th>1</th>\n",
       "      <td>692308</td>\n",
       "      <td>551</td>\n",
       "      <td>0.41</td>\n",
       "      <td>2</td>\n",
       "      <td>0.61</td>\n",
       "      <td>0.3315</td>\n",
       "      <td>0.331500</td>\n",
       "      <td>0.135915</td>\n",
       "    </tr>\n",
       "    <tr>\n",
       "      <th>2</th>\n",
       "      <td>692308</td>\n",
       "      <td>1155</td>\n",
       "      <td>0.41</td>\n",
       "      <td>3</td>\n",
       "      <td>0.41</td>\n",
       "      <td>0.5015</td>\n",
       "      <td>0.166247</td>\n",
       "      <td>0.068161</td>\n",
       "    </tr>\n",
       "    <tr>\n",
       "      <th>3</th>\n",
       "      <td>692308</td>\n",
       "      <td>33</td>\n",
       "      <td>0.14</td>\n",
       "      <td>4</td>\n",
       "      <td>0.41</td>\n",
       "      <td>0.5015</td>\n",
       "      <td>0.083373</td>\n",
       "      <td>0.011672</td>\n",
       "    </tr>\n",
       "    <tr>\n",
       "      <th>4</th>\n",
       "      <td>692308</td>\n",
       "      <td>70</td>\n",
       "      <td>0.14</td>\n",
       "      <td>5</td>\n",
       "      <td>0.14</td>\n",
       "      <td>0.7310</td>\n",
       "      <td>0.060946</td>\n",
       "      <td>0.008532</td>\n",
       "    </tr>\n",
       "    <tr>\n",
       "      <th>5</th>\n",
       "      <td>692308</td>\n",
       "      <td>259</td>\n",
       "      <td>0.14</td>\n",
       "      <td>6</td>\n",
       "      <td>0.14</td>\n",
       "      <td>0.7310</td>\n",
       "      <td>0.044551</td>\n",
       "      <td>0.006237</td>\n",
       "    </tr>\n",
       "    <tr>\n",
       "      <th>6</th>\n",
       "      <td>692308</td>\n",
       "      <td>392</td>\n",
       "      <td>0.14</td>\n",
       "      <td>7</td>\n",
       "      <td>0.14</td>\n",
       "      <td>0.7310</td>\n",
       "      <td>0.032567</td>\n",
       "      <td>0.004559</td>\n",
       "    </tr>\n",
       "    <tr>\n",
       "      <th>7</th>\n",
       "      <td>692308</td>\n",
       "      <td>393</td>\n",
       "      <td>0.14</td>\n",
       "      <td>8</td>\n",
       "      <td>0.14</td>\n",
       "      <td>0.7310</td>\n",
       "      <td>0.023806</td>\n",
       "      <td>0.003333</td>\n",
       "    </tr>\n",
       "    <tr>\n",
       "      <th>8</th>\n",
       "      <td>692308</td>\n",
       "      <td>617</td>\n",
       "      <td>0.14</td>\n",
       "      <td>9</td>\n",
       "      <td>0.14</td>\n",
       "      <td>0.7310</td>\n",
       "      <td>0.017403</td>\n",
       "      <td>0.002436</td>\n",
       "    </tr>\n",
       "    <tr>\n",
       "      <th>9</th>\n",
       "      <td>692308</td>\n",
       "      <td>622</td>\n",
       "      <td>0.14</td>\n",
       "      <td>10</td>\n",
       "      <td>0.14</td>\n",
       "      <td>0.7310</td>\n",
       "      <td>0.012721</td>\n",
       "      <td>0.001781</td>\n",
       "    </tr>\n",
       "    <tr>\n",
       "      <th>10</th>\n",
       "      <td>692059</td>\n",
       "      <td>906</td>\n",
       "      <td>0.41</td>\n",
       "      <td>1</td>\n",
       "      <td>0.14</td>\n",
       "      <td>1.0000</td>\n",
       "      <td>1.000000</td>\n",
       "      <td>0.410000</td>\n",
       "    </tr>\n",
       "    <tr>\n",
       "      <th>11</th>\n",
       "      <td>692059</td>\n",
       "      <td>16</td>\n",
       "      <td>0.14</td>\n",
       "      <td>2</td>\n",
       "      <td>0.41</td>\n",
       "      <td>0.5015</td>\n",
       "      <td>0.501500</td>\n",
       "      <td>0.070210</td>\n",
       "    </tr>\n",
       "    <tr>\n",
       "      <th>12</th>\n",
       "      <td>692059</td>\n",
       "      <td>121</td>\n",
       "      <td>0.14</td>\n",
       "      <td>3</td>\n",
       "      <td>0.14</td>\n",
       "      <td>0.7310</td>\n",
       "      <td>0.366597</td>\n",
       "      <td>0.051324</td>\n",
       "    </tr>\n",
       "    <tr>\n",
       "      <th>13</th>\n",
       "      <td>692059</td>\n",
       "      <td>150</td>\n",
       "      <td>0.14</td>\n",
       "      <td>4</td>\n",
       "      <td>0.14</td>\n",
       "      <td>0.7310</td>\n",
       "      <td>0.267982</td>\n",
       "      <td>0.037517</td>\n",
       "    </tr>\n",
       "    <tr>\n",
       "      <th>14</th>\n",
       "      <td>692059</td>\n",
       "      <td>322</td>\n",
       "      <td>0.14</td>\n",
       "      <td>5</td>\n",
       "      <td>0.14</td>\n",
       "      <td>0.7310</td>\n",
       "      <td>0.195895</td>\n",
       "      <td>0.027425</td>\n",
       "    </tr>\n",
       "    <tr>\n",
       "      <th>15</th>\n",
       "      <td>692059</td>\n",
       "      <td>481</td>\n",
       "      <td>0.14</td>\n",
       "      <td>6</td>\n",
       "      <td>0.14</td>\n",
       "      <td>0.7310</td>\n",
       "      <td>0.143199</td>\n",
       "      <td>0.020048</td>\n",
       "    </tr>\n",
       "    <tr>\n",
       "      <th>16</th>\n",
       "      <td>692059</td>\n",
       "      <td>532</td>\n",
       "      <td>0.14</td>\n",
       "      <td>7</td>\n",
       "      <td>0.14</td>\n",
       "      <td>0.7310</td>\n",
       "      <td>0.104679</td>\n",
       "      <td>0.014655</td>\n",
       "    </tr>\n",
       "    <tr>\n",
       "      <th>17</th>\n",
       "      <td>692059</td>\n",
       "      <td>533</td>\n",
       "      <td>0.14</td>\n",
       "      <td>8</td>\n",
       "      <td>0.14</td>\n",
       "      <td>0.7310</td>\n",
       "      <td>0.076520</td>\n",
       "      <td>0.010713</td>\n",
       "    </tr>\n",
       "    <tr>\n",
       "      <th>18</th>\n",
       "      <td>692059</td>\n",
       "      <td>614</td>\n",
       "      <td>0.14</td>\n",
       "      <td>9</td>\n",
       "      <td>0.14</td>\n",
       "      <td>0.7310</td>\n",
       "      <td>0.055936</td>\n",
       "      <td>0.007831</td>\n",
       "    </tr>\n",
       "  </tbody>\n",
       "</table>\n",
       "</div>"
      ],
      "text/plain": [
       "       qid  hostid  rating  top  pReilShift1  pLookMulti     pLook    pFound\n",
       "0   692308    1035    0.61    1          NaN      1.0000  1.000000  0.610000\n",
       "1   692308     551    0.41    2         0.61      0.3315  0.331500  0.135915\n",
       "2   692308    1155    0.41    3         0.41      0.5015  0.166247  0.068161\n",
       "3   692308      33    0.14    4         0.41      0.5015  0.083373  0.011672\n",
       "4   692308      70    0.14    5         0.14      0.7310  0.060946  0.008532\n",
       "5   692308     259    0.14    6         0.14      0.7310  0.044551  0.006237\n",
       "6   692308     392    0.14    7         0.14      0.7310  0.032567  0.004559\n",
       "7   692308     393    0.14    8         0.14      0.7310  0.023806  0.003333\n",
       "8   692308     617    0.14    9         0.14      0.7310  0.017403  0.002436\n",
       "9   692308     622    0.14   10         0.14      0.7310  0.012721  0.001781\n",
       "10  692059     906    0.41    1         0.14      1.0000  1.000000  0.410000\n",
       "11  692059      16    0.14    2         0.41      0.5015  0.501500  0.070210\n",
       "12  692059     121    0.14    3         0.14      0.7310  0.366597  0.051324\n",
       "13  692059     150    0.14    4         0.14      0.7310  0.267982  0.037517\n",
       "14  692059     322    0.14    5         0.14      0.7310  0.195895  0.027425\n",
       "15  692059     481    0.14    6         0.14      0.7310  0.143199  0.020048\n",
       "16  692059     532    0.14    7         0.14      0.7310  0.104679  0.014655\n",
       "17  692059     533    0.14    8         0.14      0.7310  0.076520  0.010713\n",
       "18  692059     614    0.14    9         0.14      0.7310  0.055936  0.007831"
      ]
     },
     "execution_count": 21,
     "metadata": {},
     "output_type": "execute_result"
    }
   ],
   "source": [
    "%%time\n",
    "topk_recs_for_qid['pFound'] = topk_recs_for_qid['pLook'] * topk_recs_for_qid['rating']\n",
    "topk_recs_for_qid.head(2*k - 1)"
   ]
  },
  {
   "cell_type": "markdown",
   "id": "b8877efe",
   "metadata": {},
   "source": [
    "Далее проссумируем их, чтобы посчитать метрику pFound для каждого запроса"
   ]
  },
  {
   "cell_type": "code",
   "execution_count": 22,
   "id": "5433e5b5",
   "metadata": {},
   "outputs": [
    {
     "name": "stdout",
     "output_type": "stream",
     "text": [
      "CPU times: user 1.68 ms, sys: 0 ns, total: 1.68 ms\n",
      "Wall time: 1.53 ms\n"
     ]
    }
   ],
   "source": [
    "%%time\n",
    "p_found_by_qid = topk_recs_for_qid.groupby(['qid']).sum()['pFound']"
   ]
  },
  {
   "cell_type": "markdown",
   "id": "9f3ddda4",
   "metadata": {},
   "source": [
    "Проверим правильность работы алгоритма"
   ]
  },
  {
   "cell_type": "code",
   "execution_count": 23,
   "id": "d22b3aa2",
   "metadata": {},
   "outputs": [
    {
     "name": "stdout",
     "output_type": "stream",
     "text": [
      "CPU times: user 436 µs, sys: 0 ns, total: 436 µs\n",
      "Wall time: 425 µs\n"
     ]
    },
    {
     "data": {
      "text/html": [
       "<div>\n",
       "<style scoped>\n",
       "    .dataframe tbody tr th:only-of-type {\n",
       "        vertical-align: middle;\n",
       "    }\n",
       "\n",
       "    .dataframe tbody tr th {\n",
       "        vertical-align: top;\n",
       "    }\n",
       "\n",
       "    .dataframe thead th {\n",
       "        text-align: right;\n",
       "    }\n",
       "</style>\n",
       "<table border=\"1\" class=\"dataframe\">\n",
       "  <thead>\n",
       "    <tr style=\"text-align: right;\">\n",
       "      <th></th>\n",
       "      <th>qid</th>\n",
       "      <th>query</th>\n",
       "    </tr>\n",
       "  </thead>\n",
       "  <tbody>\n",
       "    <tr>\n",
       "      <th>14</th>\n",
       "      <td>692308</td>\n",
       "      <td>бесплатный просмотр камеди клаб</td>\n",
       "    </tr>\n",
       "  </tbody>\n",
       "</table>\n",
       "</div>"
      ],
      "text/plain": [
       "       qid                            query\n",
       "14  692308  бесплатный просмотр камеди клаб"
      ]
     },
     "execution_count": 23,
     "metadata": {},
     "output_type": "execute_result"
    }
   ],
   "source": [
    "%%time\n",
    "qid_max = p_found_by_qid.idxmax() # берем qid с максимальным pfound\n",
    "qid_query[qid_query[\"qid\"] == qid_max]"
   ]
  },
  {
   "cell_type": "code",
   "execution_count": 24,
   "id": "6c65f444",
   "metadata": {
    "scrolled": true
   },
   "outputs": [
    {
     "name": "stdout",
     "output_type": "stream",
     "text": [
      "CPU times: user 104 µs, sys: 0 ns, total: 104 µs\n",
      "Wall time: 106 µs\n"
     ]
    },
    {
     "data": {
      "text/plain": [
       "0.5822199638393889"
      ]
     },
     "execution_count": 24,
     "metadata": {},
     "output_type": "execute_result"
    }
   ],
   "source": [
    "%%time\n",
    "p_found_by_qid.mean()"
   ]
  },
  {
   "cell_type": "markdown",
   "id": "3bbfc8f6",
   "metadata": {},
   "source": [
    "Оформим данное решение в виде функции, которая на вход принимает значение датафрейма после merge и возвращает средний pFound по все выборке"
   ]
  },
  {
   "cell_type": "code",
   "execution_count": 25,
   "id": "98891111",
   "metadata": {},
   "outputs": [],
   "source": [
    "def mean_pfound_ours(df: pd.DataFrame, k: int, p_break: float) -> float:\n",
    "    max_rate_by_qid_hostid = df[['qid', 'rating', 'hostid']]\n",
    "    max_rate_by_qid_hostid = max_rate_by_qid_hostid.groupby(['qid', 'hostid']).max()\n",
    "    \n",
    "    max_rate_by_qid_hostid = max_rate_by_qid_hostid.sort_values(['qid', 'rating'], \n",
    "                                                                ascending=False)\n",
    "    \n",
    "    max_rate_by_qid_hostid['top'] = max_rate_by_qid_hostid.groupby('qid').cumcount() + 1\n",
    "    topk_recs_for_qid = max_rate_by_qid_hostid[max_rate_by_qid_hostid['top'] <= k]\n",
    "    topk_recs_for_qid = topk_recs_for_qid.reset_index()\n",
    "    \n",
    "    topk_recs_for_qid['pReilShift1'] = topk_recs_for_qid['rating'].shift(1)\n",
    "    \n",
    "    topk_recs_for_qid['pLookMulti'] = (1 - topk_recs_for_qid['pReilShift1']) * (1 - p_break)\n",
    "    topk_recs_for_qid.loc[(topk_recs_for_qid['top'] == 1), 'pLookMulti'] = 1\n",
    "    topk_recs_for_qid['pLook'] = topk_recs_for_qid.groupby('qid')['pLookMulti'].cumprod()\n",
    "    topk_recs_for_qid['pFound'] = topk_recs_for_qid['pLook'] * topk_recs_for_qid['rating']\n",
    "    topk_recs_for_qid = topk_recs_for_qid.reset_index().drop(['pLook', \n",
    "                                                              'pLookMulti', \n",
    "                                                              'pReilShift1',\n",
    "                                                              'top'], axis=1)\n",
    "    return topk_recs_for_qid.groupby(['qid']).sum()['pFound'].mean()\n",
    "    "
   ]
  },
  {
   "cell_type": "markdown",
   "id": "eff7b2ed",
   "metadata": {},
   "source": [
    "Проверим скорость работы"
   ]
  },
  {
   "cell_type": "code",
   "execution_count": 26,
   "id": "c860bf67",
   "metadata": {},
   "outputs": [
    {
     "name": "stdout",
     "output_type": "stream",
     "text": [
      "5.87 ms ± 25.3 µs per loop (mean ± std. dev. of 7 runs, 100 loops each)\n"
     ]
    }
   ],
   "source": [
    "%%timeit\n",
    "mean_pfound_ours(qid_url_rating_hostid, 10, 0.15)"
   ]
  },
  {
   "cell_type": "code",
   "execution_count": 27,
   "id": "86e6a655",
   "metadata": {},
   "outputs": [
    {
     "name": "stdout",
     "output_type": "stream",
     "text": [
      "10.4 ms ± 25 µs per loop (mean ± std. dev. of 7 runs, 100 loops each)\n"
     ]
    }
   ],
   "source": [
    "%%timeit\n",
    "mean_pfound_yandex(qid_url_rating_hostid)"
   ]
  },
  {
   "cell_type": "markdown",
   "id": "2f165597",
   "metadata": {},
   "source": [
    "Как мы видим реализация без циклов оказалась в 2 раза быстре, что говорит о том, что работа была проделана не зря :)"
   ]
  }
 ],
 "metadata": {
  "kernelspec": {
   "display_name": "Python 3 (ipykernel)",
   "language": "python",
   "name": "python3"
  },
  "language_info": {
   "codemirror_mode": {
    "name": "ipython",
    "version": 3
   },
   "file_extension": ".py",
   "mimetype": "text/x-python",
   "name": "python",
   "nbconvert_exporter": "python",
   "pygments_lexer": "ipython3",
   "version": "3.8.10"
  }
 },
 "nbformat": 4,
 "nbformat_minor": 5
}
