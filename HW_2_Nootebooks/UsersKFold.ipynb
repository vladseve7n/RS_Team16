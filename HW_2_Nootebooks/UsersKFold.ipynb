{
  "nbformat": 4,
  "nbformat_minor": 0,
  "metadata": {
    "colab": {
      "provenance": []
    },
    "kernelspec": {
      "name": "python3",
      "display_name": "Python 3"
    },
    "language_info": {
      "name": "python"
    }
  },
  "cells": [
    {
      "cell_type": "code",
      "execution_count": 1,
      "metadata": {
        "id": "xBr52j9p6uVM"
      },
      "outputs": [],
      "source": [
        "import pandas as pd\n",
        "import numpy as np\n",
        "from typing import Union"
      ]
    },
    {
      "cell_type": "code",
      "source": [
        "from google.colab import drive\n",
        "drive.mount('/content/drive')"
      ],
      "metadata": {
        "colab": {
          "base_uri": "https://localhost:8080/"
        },
        "id": "sV2AlBZp7B21",
        "outputId": "1270985b-5d6d-44e3-d21f-05350b1b905c"
      },
      "execution_count": 2,
      "outputs": [
        {
          "output_type": "stream",
          "name": "stdout",
          "text": [
            "Mounted at /content/drive\n"
          ]
        }
      ]
    },
    {
      "cell_type": "code",
      "source": [
        "file_nm = '/content/drive/MyDrive/likes_data/train'"
      ],
      "metadata": {
        "id": "38yNzeG9LErf"
      },
      "execution_count": 3,
      "outputs": []
    },
    {
      "cell_type": "code",
      "source": [
        "likes = []\n",
        "\n",
        "with open(file_nm , 'r') as f:\n",
        "    for user_ids, line in enumerate(f.readlines()):\n",
        "        track_ids = [int(n) for n in line.split()]\n",
        "        rank = [int(n) for n in range(len(track_ids))]\n",
        "        user_likes = np.zeros((len(track_ids), 3), dtype=int)\n",
        "        user_likes[:, 0] = user_ids\n",
        "        user_likes[:, 1] = track_ids[::-1]\n",
        "        user_likes[:, 2] = rank[::-1]\n",
        "        likes.append(user_likes)\n",
        "all_data = np.vstack(likes)"
      ],
      "metadata": {
        "id": "hyHKPrz5LKw8"
      },
      "execution_count": 5,
      "outputs": []
    },
    {
      "cell_type": "code",
      "source": [
        "data = pd.DataFrame(all_data, columns=['user', 'item', 'order'])"
      ],
      "metadata": {
        "id": "MW7Nmvq57anf"
      },
      "execution_count": 6,
      "outputs": []
    },
    {
      "cell_type": "code",
      "source": [
        "data"
      ],
      "metadata": {
        "colab": {
          "base_uri": "https://localhost:8080/",
          "height": 424
        },
        "id": "5Cwz8Glx7ysK",
        "outputId": "87449c9a-1e4d-43c8-978b-40a62cb93fab"
      },
      "execution_count": 7,
      "outputs": [
        {
          "output_type": "execute_result",
          "data": {
            "text/plain": [
              "             user    item  order\n",
              "0               0  388242     53\n",
              "1               0  278503     52\n",
              "2               0  102795     51\n",
              "3               0  470957     50\n",
              "4               0  159637     49\n",
              "...           ...     ...    ...\n",
              "94188629  1160083   19120      4\n",
              "94188630  1160083  326821      3\n",
              "94188631  1160083  214132      2\n",
              "94188632  1160083  352098      1\n",
              "94188633  1160083  247274      0\n",
              "\n",
              "[94188634 rows x 3 columns]"
            ],
            "text/html": [
              "\n",
              "  <div id=\"df-5e5e696c-5880-4c25-81a6-adb1c26dccb2\">\n",
              "    <div class=\"colab-df-container\">\n",
              "      <div>\n",
              "<style scoped>\n",
              "    .dataframe tbody tr th:only-of-type {\n",
              "        vertical-align: middle;\n",
              "    }\n",
              "\n",
              "    .dataframe tbody tr th {\n",
              "        vertical-align: top;\n",
              "    }\n",
              "\n",
              "    .dataframe thead th {\n",
              "        text-align: right;\n",
              "    }\n",
              "</style>\n",
              "<table border=\"1\" class=\"dataframe\">\n",
              "  <thead>\n",
              "    <tr style=\"text-align: right;\">\n",
              "      <th></th>\n",
              "      <th>user</th>\n",
              "      <th>item</th>\n",
              "      <th>order</th>\n",
              "    </tr>\n",
              "  </thead>\n",
              "  <tbody>\n",
              "    <tr>\n",
              "      <th>0</th>\n",
              "      <td>0</td>\n",
              "      <td>388242</td>\n",
              "      <td>53</td>\n",
              "    </tr>\n",
              "    <tr>\n",
              "      <th>1</th>\n",
              "      <td>0</td>\n",
              "      <td>278503</td>\n",
              "      <td>52</td>\n",
              "    </tr>\n",
              "    <tr>\n",
              "      <th>2</th>\n",
              "      <td>0</td>\n",
              "      <td>102795</td>\n",
              "      <td>51</td>\n",
              "    </tr>\n",
              "    <tr>\n",
              "      <th>3</th>\n",
              "      <td>0</td>\n",
              "      <td>470957</td>\n",
              "      <td>50</td>\n",
              "    </tr>\n",
              "    <tr>\n",
              "      <th>4</th>\n",
              "      <td>0</td>\n",
              "      <td>159637</td>\n",
              "      <td>49</td>\n",
              "    </tr>\n",
              "    <tr>\n",
              "      <th>...</th>\n",
              "      <td>...</td>\n",
              "      <td>...</td>\n",
              "      <td>...</td>\n",
              "    </tr>\n",
              "    <tr>\n",
              "      <th>94188629</th>\n",
              "      <td>1160083</td>\n",
              "      <td>19120</td>\n",
              "      <td>4</td>\n",
              "    </tr>\n",
              "    <tr>\n",
              "      <th>94188630</th>\n",
              "      <td>1160083</td>\n",
              "      <td>326821</td>\n",
              "      <td>3</td>\n",
              "    </tr>\n",
              "    <tr>\n",
              "      <th>94188631</th>\n",
              "      <td>1160083</td>\n",
              "      <td>214132</td>\n",
              "      <td>2</td>\n",
              "    </tr>\n",
              "    <tr>\n",
              "      <th>94188632</th>\n",
              "      <td>1160083</td>\n",
              "      <td>352098</td>\n",
              "      <td>1</td>\n",
              "    </tr>\n",
              "    <tr>\n",
              "      <th>94188633</th>\n",
              "      <td>1160083</td>\n",
              "      <td>247274</td>\n",
              "      <td>0</td>\n",
              "    </tr>\n",
              "  </tbody>\n",
              "</table>\n",
              "<p>94188634 rows × 3 columns</p>\n",
              "</div>\n",
              "      <button class=\"colab-df-convert\" onclick=\"convertToInteractive('df-5e5e696c-5880-4c25-81a6-adb1c26dccb2')\"\n",
              "              title=\"Convert this dataframe to an interactive table.\"\n",
              "              style=\"display:none;\">\n",
              "        \n",
              "  <svg xmlns=\"http://www.w3.org/2000/svg\" height=\"24px\"viewBox=\"0 0 24 24\"\n",
              "       width=\"24px\">\n",
              "    <path d=\"M0 0h24v24H0V0z\" fill=\"none\"/>\n",
              "    <path d=\"M18.56 5.44l.94 2.06.94-2.06 2.06-.94-2.06-.94-.94-2.06-.94 2.06-2.06.94zm-11 1L8.5 8.5l.94-2.06 2.06-.94-2.06-.94L8.5 2.5l-.94 2.06-2.06.94zm10 10l.94 2.06.94-2.06 2.06-.94-2.06-.94-.94-2.06-.94 2.06-2.06.94z\"/><path d=\"M17.41 7.96l-1.37-1.37c-.4-.4-.92-.59-1.43-.59-.52 0-1.04.2-1.43.59L10.3 9.45l-7.72 7.72c-.78.78-.78 2.05 0 2.83L4 21.41c.39.39.9.59 1.41.59.51 0 1.02-.2 1.41-.59l7.78-7.78 2.81-2.81c.8-.78.8-2.07 0-2.86zM5.41 20L4 18.59l7.72-7.72 1.47 1.35L5.41 20z\"/>\n",
              "  </svg>\n",
              "      </button>\n",
              "      \n",
              "  <style>\n",
              "    .colab-df-container {\n",
              "      display:flex;\n",
              "      flex-wrap:wrap;\n",
              "      gap: 12px;\n",
              "    }\n",
              "\n",
              "    .colab-df-convert {\n",
              "      background-color: #E8F0FE;\n",
              "      border: none;\n",
              "      border-radius: 50%;\n",
              "      cursor: pointer;\n",
              "      display: none;\n",
              "      fill: #1967D2;\n",
              "      height: 32px;\n",
              "      padding: 0 0 0 0;\n",
              "      width: 32px;\n",
              "    }\n",
              "\n",
              "    .colab-df-convert:hover {\n",
              "      background-color: #E2EBFA;\n",
              "      box-shadow: 0px 1px 2px rgba(60, 64, 67, 0.3), 0px 1px 3px 1px rgba(60, 64, 67, 0.15);\n",
              "      fill: #174EA6;\n",
              "    }\n",
              "\n",
              "    [theme=dark] .colab-df-convert {\n",
              "      background-color: #3B4455;\n",
              "      fill: #D2E3FC;\n",
              "    }\n",
              "\n",
              "    [theme=dark] .colab-df-convert:hover {\n",
              "      background-color: #434B5C;\n",
              "      box-shadow: 0px 1px 3px 1px rgba(0, 0, 0, 0.15);\n",
              "      filter: drop-shadow(0px 1px 2px rgba(0, 0, 0, 0.3));\n",
              "      fill: #FFFFFF;\n",
              "    }\n",
              "  </style>\n",
              "\n",
              "      <script>\n",
              "        const buttonEl =\n",
              "          document.querySelector('#df-5e5e696c-5880-4c25-81a6-adb1c26dccb2 button.colab-df-convert');\n",
              "        buttonEl.style.display =\n",
              "          google.colab.kernel.accessAllowed ? 'block' : 'none';\n",
              "\n",
              "        async function convertToInteractive(key) {\n",
              "          const element = document.querySelector('#df-5e5e696c-5880-4c25-81a6-adb1c26dccb2');\n",
              "          const dataTable =\n",
              "            await google.colab.kernel.invokeFunction('convertToInteractive',\n",
              "                                                     [key], {});\n",
              "          if (!dataTable) return;\n",
              "\n",
              "          const docLinkHtml = 'Like what you see? Visit the ' +\n",
              "            '<a target=\"_blank\" href=https://colab.research.google.com/notebooks/data_table.ipynb>data table notebook</a>'\n",
              "            + ' to learn more about interactive tables.';\n",
              "          element.innerHTML = '';\n",
              "          dataTable['output_type'] = 'display_data';\n",
              "          await google.colab.output.renderOutput(dataTable, element);\n",
              "          const docLink = document.createElement('div');\n",
              "          docLink.innerHTML = docLinkHtml;\n",
              "          element.appendChild(docLink);\n",
              "        }\n",
              "      </script>\n",
              "    </div>\n",
              "  </div>\n",
              "  "
            ]
          },
          "metadata": {},
          "execution_count": 7
        }
      ]
    },
    {
      "cell_type": "code",
      "source": [
        "class UsersKFoldPOut():\n",
        "    def __init__(self, n_folds, p, random_seed=23, user_column='user', order='order'):\n",
        "        self.n_folds = n_folds\n",
        "        self.p = p\n",
        "        self.random_seed = random_seed\n",
        "        self.user_column = user_column\n",
        "        self.order_column = order\n",
        "        \n",
        "    \n",
        "    def split(self, df):\n",
        "        users = df[self.user_column].unique()\n",
        "        users_count = len(users)\n",
        "        \n",
        "        np.random.seed(self.random_seed)\n",
        "        np.random.shuffle(users)\n",
        "        \n",
        "        fold_sizes = np.full(self.n_folds, users_count // self.n_folds, dtype=int)\n",
        "        fold_sizes[: users_count % self.n_folds] += 1\n",
        "        current = 0\n",
        "\n",
        "        for fold_size in fold_sizes:\n",
        "            start, stop = current, current + fold_size\n",
        "            test_fold_users = users[start:stop]\n",
        "            test_mask = df[self.user_column].isin(test_fold_users) & (df[self.order_column] < self.p)\n",
        "            train_mask = ~df[self.user_column].isin(test_fold_users)\n",
        "            \n",
        "            yield train_mask, test_mask"
      ],
      "metadata": {
        "id": "c6Z7-lsz8WY0"
      },
      "execution_count": 8,
      "outputs": []
    },
    {
      "cell_type": "code",
      "source": [
        "p = 5\n",
        "n_folds = 3\n",
        "cv = UsersKFoldPOut(n_folds=n_folds, p=p)\n",
        "\n",
        "for i, (train_mask, test_mask) in enumerate(cv.split(data)):\n",
        "    train = data[train_mask]\n",
        "    test = data[test_mask]\n",
        "    print(f'Fold#{i} | Train: {train.shape[0]}, Test: {test.shape[0]}')"
      ],
      "metadata": {
        "colab": {
          "base_uri": "https://localhost:8080/"
        },
        "id": "HNnMKlAYF-pJ",
        "outputId": "0cba7fd8-22f3-42e2-ca4b-1a95629f3a7b"
      },
      "execution_count": 9,
      "outputs": [
        {
          "output_type": "stream",
          "name": "stdout",
          "text": [
            "Fold#0 | Train: 62769950, Test: 1933475\n",
            "Fold#1 | Train: 62769950, Test: 1933475\n",
            "Fold#2 | Train: 62770016, Test: 1933470\n"
          ]
        }
      ]
    },
    {
      "cell_type": "code",
      "source": [
        "intersect = set(train['user'].unique()).intersection(test['user'].unique())\n",
        "intersect"
      ],
      "metadata": {
        "colab": {
          "base_uri": "https://localhost:8080/"
        },
        "id": "7T2SfkVKGRAN",
        "outputId": "9cc80759-e505-4f59-f969-ca87aee79169"
      },
      "execution_count": 10,
      "outputs": [
        {
          "output_type": "execute_result",
          "data": {
            "text/plain": [
              "set()"
            ]
          },
          "metadata": {},
          "execution_count": 10
        }
      ]
    }
  ]
}